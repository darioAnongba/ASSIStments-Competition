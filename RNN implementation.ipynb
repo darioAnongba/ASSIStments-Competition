{
 "cells": [
  {
   "cell_type": "markdown",
   "metadata": {},
   "source": [
    "# ASSISTments Data Mining Competition 2017 - Optional Semester Project"
   ]
  },
  {
   "cell_type": "markdown",
   "metadata": {},
   "source": [
    "## Imports and constants"
   ]
  },
  {
   "cell_type": "code",
   "execution_count": 1,
   "metadata": {},
   "outputs": [],
   "source": [
    "import numpy as np\n",
    "import pandas as pd\n",
    "import tensorflow as tf"
   ]
  },
  {
   "cell_type": "code",
   "execution_count": 2,
   "metadata": {},
   "outputs": [],
   "source": [
    "DATA_DIR = 'Data/'"
   ]
  },
  {
   "cell_type": "markdown",
   "metadata": {},
   "source": [
    "## Loading the data"
   ]
  },
  {
   "cell_type": "markdown",
   "metadata": {},
   "source": [
    "We load all the data into dataframes"
   ]
  },
  {
   "cell_type": "code",
   "execution_count": 3,
   "metadata": {},
   "outputs": [
    {
     "name": "stderr",
     "output_type": "stream",
     "text": [
      "/home/dario/anaconda3/lib/python3.6/site-packages/IPython/core/interactiveshell.py:2850: DtypeWarning: Columns (74,75) have mixed types. Specify dtype option on import or set low_memory=False.\n",
      "  if self.run_code(code, result):\n"
     ]
    },
    {
     "data": {
      "text/html": [
       "<div>\n",
       "<style>\n",
       "    .dataframe thead tr:only-child th {\n",
       "        text-align: right;\n",
       "    }\n",
       "\n",
       "    .dataframe thead th {\n",
       "        text-align: left;\n",
       "    }\n",
       "\n",
       "    .dataframe tbody tr th {\n",
       "        vertical-align: top;\n",
       "    }\n",
       "</style>\n",
       "<table border=\"1\" class=\"dataframe\">\n",
       "  <thead>\n",
       "    <tr style=\"text-align: right;\">\n",
       "      <th></th>\n",
       "      <th>AveCarelessness</th>\n",
       "      <th>AveCorrect</th>\n",
       "      <th>AveKnow</th>\n",
       "      <th>AveResBored</th>\n",
       "      <th>AveResConf</th>\n",
       "      <th>AveResEngcon</th>\n",
       "      <th>AveResFrust</th>\n",
       "      <th>AveResGaming</th>\n",
       "      <th>AveResOfftask</th>\n",
       "      <th>ITEST_id</th>\n",
       "      <th>...</th>\n",
       "      <th>timeOver80</th>\n",
       "      <th>timeSinceSkill</th>\n",
       "      <th>timeTaken</th>\n",
       "      <th>totalFrAttempted</th>\n",
       "      <th>totalFrPastWrongCount</th>\n",
       "      <th>totalFrPercentPastWrong</th>\n",
       "      <th>totalFrSkillOpportunities</th>\n",
       "      <th>totalFrSkillOpportunitiesByScaffolding</th>\n",
       "      <th>totalFrTimeOnSkill</th>\n",
       "      <th>totalTimeByPercentCorrectForskill</th>\n",
       "    </tr>\n",
       "  </thead>\n",
       "  <tbody>\n",
       "    <tr>\n",
       "      <th>0</th>\n",
       "      <td>0.183276</td>\n",
       "      <td>0.483902</td>\n",
       "      <td>0.352416</td>\n",
       "      <td>0.208389</td>\n",
       "      <td>0.115905</td>\n",
       "      <td>0.679126</td>\n",
       "      <td>0.112408</td>\n",
       "      <td>0.196561</td>\n",
       "      <td>0.156503</td>\n",
       "      <td>8</td>\n",
       "      <td>...</td>\n",
       "      <td>0</td>\n",
       "      <td>0.0</td>\n",
       "      <td>49.0</td>\n",
       "      <td>0</td>\n",
       "      <td>0</td>\n",
       "      <td>0.0</td>\n",
       "      <td>0</td>\n",
       "      <td>0.0</td>\n",
       "      <td>0.0</td>\n",
       "      <td>0.000000</td>\n",
       "    </tr>\n",
       "    <tr>\n",
       "      <th>1</th>\n",
       "      <td>0.183276</td>\n",
       "      <td>0.483902</td>\n",
       "      <td>0.352416</td>\n",
       "      <td>0.208389</td>\n",
       "      <td>0.115905</td>\n",
       "      <td>0.679126</td>\n",
       "      <td>0.112408</td>\n",
       "      <td>0.196561</td>\n",
       "      <td>0.156503</td>\n",
       "      <td>8</td>\n",
       "      <td>...</td>\n",
       "      <td>0</td>\n",
       "      <td>0.0</td>\n",
       "      <td>4.0</td>\n",
       "      <td>1</td>\n",
       "      <td>0</td>\n",
       "      <td>0.0</td>\n",
       "      <td>1</td>\n",
       "      <td>0.0</td>\n",
       "      <td>49.0</td>\n",
       "      <td>106.000000</td>\n",
       "    </tr>\n",
       "    <tr>\n",
       "      <th>2</th>\n",
       "      <td>0.183276</td>\n",
       "      <td>0.483902</td>\n",
       "      <td>0.352416</td>\n",
       "      <td>0.208389</td>\n",
       "      <td>0.115905</td>\n",
       "      <td>0.679126</td>\n",
       "      <td>0.112408</td>\n",
       "      <td>0.196561</td>\n",
       "      <td>0.156503</td>\n",
       "      <td>8</td>\n",
       "      <td>...</td>\n",
       "      <td>0</td>\n",
       "      <td>0.0</td>\n",
       "      <td>6.0</td>\n",
       "      <td>2</td>\n",
       "      <td>0</td>\n",
       "      <td>0.0</td>\n",
       "      <td>0</td>\n",
       "      <td>0.0</td>\n",
       "      <td>0.0</td>\n",
       "      <td>0.000000</td>\n",
       "    </tr>\n",
       "    <tr>\n",
       "      <th>3</th>\n",
       "      <td>0.183276</td>\n",
       "      <td>0.483902</td>\n",
       "      <td>0.352416</td>\n",
       "      <td>0.208389</td>\n",
       "      <td>0.115905</td>\n",
       "      <td>0.679126</td>\n",
       "      <td>0.112408</td>\n",
       "      <td>0.196561</td>\n",
       "      <td>0.156503</td>\n",
       "      <td>8</td>\n",
       "      <td>...</td>\n",
       "      <td>0</td>\n",
       "      <td>0.0</td>\n",
       "      <td>18.0</td>\n",
       "      <td>3</td>\n",
       "      <td>1</td>\n",
       "      <td>0.0</td>\n",
       "      <td>1</td>\n",
       "      <td>0.0</td>\n",
       "      <td>0.0</td>\n",
       "      <td>0.000000</td>\n",
       "    </tr>\n",
       "    <tr>\n",
       "      <th>4</th>\n",
       "      <td>0.183276</td>\n",
       "      <td>0.483902</td>\n",
       "      <td>0.352416</td>\n",
       "      <td>0.208389</td>\n",
       "      <td>0.115905</td>\n",
       "      <td>0.679126</td>\n",
       "      <td>0.112408</td>\n",
       "      <td>0.196561</td>\n",
       "      <td>0.156503</td>\n",
       "      <td>8</td>\n",
       "      <td>...</td>\n",
       "      <td>0</td>\n",
       "      <td>0.0</td>\n",
       "      <td>2.0</td>\n",
       "      <td>3</td>\n",
       "      <td>1</td>\n",
       "      <td>1.0</td>\n",
       "      <td>1</td>\n",
       "      <td>1.0</td>\n",
       "      <td>6.0</td>\n",
       "      <td>77.999999</td>\n",
       "    </tr>\n",
       "  </tbody>\n",
       "</table>\n",
       "<p>5 rows × 77 columns</p>\n",
       "</div>"
      ],
      "text/plain": [
       "   AveCarelessness  AveCorrect   AveKnow  AveResBored  AveResConf  \\\n",
       "0         0.183276    0.483902  0.352416     0.208389    0.115905   \n",
       "1         0.183276    0.483902  0.352416     0.208389    0.115905   \n",
       "2         0.183276    0.483902  0.352416     0.208389    0.115905   \n",
       "3         0.183276    0.483902  0.352416     0.208389    0.115905   \n",
       "4         0.183276    0.483902  0.352416     0.208389    0.115905   \n",
       "\n",
       "   AveResEngcon  AveResFrust  AveResGaming  AveResOfftask  ITEST_id  \\\n",
       "0      0.679126     0.112408      0.196561       0.156503         8   \n",
       "1      0.679126     0.112408      0.196561       0.156503         8   \n",
       "2      0.679126     0.112408      0.196561       0.156503         8   \n",
       "3      0.679126     0.112408      0.196561       0.156503         8   \n",
       "4      0.679126     0.112408      0.196561       0.156503         8   \n",
       "\n",
       "                 ...                 timeOver80 timeSinceSkill  timeTaken  \\\n",
       "0                ...                          0            0.0       49.0   \n",
       "1                ...                          0            0.0        4.0   \n",
       "2                ...                          0            0.0        6.0   \n",
       "3                ...                          0            0.0       18.0   \n",
       "4                ...                          0            0.0        2.0   \n",
       "\n",
       "   totalFrAttempted  totalFrPastWrongCount  totalFrPercentPastWrong  \\\n",
       "0                 0                      0                      0.0   \n",
       "1                 1                      0                      0.0   \n",
       "2                 2                      0                      0.0   \n",
       "3                 3                      1                      0.0   \n",
       "4                 3                      1                      1.0   \n",
       "\n",
       "   totalFrSkillOpportunities  totalFrSkillOpportunitiesByScaffolding  \\\n",
       "0                          0                                     0.0   \n",
       "1                          1                                     0.0   \n",
       "2                          0                                     0.0   \n",
       "3                          1                                     0.0   \n",
       "4                          1                                     1.0   \n",
       "\n",
       "   totalFrTimeOnSkill  totalTimeByPercentCorrectForskill  \n",
       "0                 0.0                           0.000000  \n",
       "1                49.0                         106.000000  \n",
       "2                 0.0                           0.000000  \n",
       "3                 0.0                           0.000000  \n",
       "4                 6.0                          77.999999  \n",
       "\n",
       "[5 rows x 77 columns]"
      ]
     },
     "execution_count": 3,
     "metadata": {},
     "output_type": "execute_result"
    }
   ],
   "source": [
    "student_logs = pd.concat([\n",
    "    pd.read_csv(DATA_DIR + 'student_log_' + str(i) + '.csv') for i in range(1, 11)\n",
    "], ignore_index=True)\n",
    "\n",
    "student_logs.head()"
   ]
  },
  {
   "cell_type": "code",
   "execution_count": 4,
   "metadata": {},
   "outputs": [
    {
     "data": {
      "text/html": [
       "<div>\n",
       "<style>\n",
       "    .dataframe thead tr:only-child th {\n",
       "        text-align: right;\n",
       "    }\n",
       "\n",
       "    .dataframe thead th {\n",
       "        text-align: left;\n",
       "    }\n",
       "\n",
       "    .dataframe tbody tr th {\n",
       "        vertical-align: top;\n",
       "    }\n",
       "</style>\n",
       "<table border=\"1\" class=\"dataframe\">\n",
       "  <thead>\n",
       "    <tr style=\"text-align: right;\">\n",
       "      <th></th>\n",
       "      <th>SchoolId</th>\n",
       "      <th>AveCorrect</th>\n",
       "      <th>MCAS</th>\n",
       "      <th>isSTEM</th>\n",
       "    </tr>\n",
       "    <tr>\n",
       "      <th>ITEST_id</th>\n",
       "      <th></th>\n",
       "      <th></th>\n",
       "      <th></th>\n",
       "      <th></th>\n",
       "    </tr>\n",
       "  </thead>\n",
       "  <tbody>\n",
       "    <tr>\n",
       "      <th>9</th>\n",
       "      <td>2</td>\n",
       "      <td>0.438492</td>\n",
       "      <td>32</td>\n",
       "      <td>1</td>\n",
       "    </tr>\n",
       "    <tr>\n",
       "      <th>27</th>\n",
       "      <td>1</td>\n",
       "      <td>0.348837</td>\n",
       "      <td>21</td>\n",
       "      <td>0</td>\n",
       "    </tr>\n",
       "    <tr>\n",
       "      <th>33</th>\n",
       "      <td>2</td>\n",
       "      <td>0.686391</td>\n",
       "      <td>52</td>\n",
       "      <td>0</td>\n",
       "    </tr>\n",
       "    <tr>\n",
       "      <th>35</th>\n",
       "      <td>2</td>\n",
       "      <td>0.379658</td>\n",
       "      <td>34</td>\n",
       "      <td>0</td>\n",
       "    </tr>\n",
       "    <tr>\n",
       "      <th>37</th>\n",
       "      <td>3</td>\n",
       "      <td>0.305785</td>\n",
       "      <td>-999</td>\n",
       "      <td>0</td>\n",
       "    </tr>\n",
       "  </tbody>\n",
       "</table>\n",
       "</div>"
      ],
      "text/plain": [
       "          SchoolId  AveCorrect  MCAS  isSTEM\n",
       "ITEST_id                                    \n",
       "9                2    0.438492    32       1\n",
       "27               1    0.348837    21       0\n",
       "33               2    0.686391    52       0\n",
       "35               2    0.379658    34       0\n",
       "37               3    0.305785  -999       0"
      ]
     },
     "execution_count": 4,
     "metadata": {},
     "output_type": "execute_result"
    }
   ],
   "source": [
    "train_labels = pd.read_csv('Data/training_label.csv', index_col='ITEST_id').sort_index()\n",
    "train_labels.drop_duplicates(subset=None, keep='first', inplace=True)\n",
    "\n",
    "train_labels.head()"
   ]
  },
  {
   "cell_type": "code",
   "execution_count": 5,
   "metadata": {},
   "outputs": [
    {
     "data": {
      "text/html": [
       "<div>\n",
       "<style>\n",
       "    .dataframe thead tr:only-child th {\n",
       "        text-align: right;\n",
       "    }\n",
       "\n",
       "    .dataframe thead th {\n",
       "        text-align: left;\n",
       "    }\n",
       "\n",
       "    .dataframe tbody tr th {\n",
       "        vertical-align: top;\n",
       "    }\n",
       "</style>\n",
       "<table border=\"1\" class=\"dataframe\">\n",
       "  <thead>\n",
       "    <tr style=\"text-align: right;\">\n",
       "      <th></th>\n",
       "      <th>SchoolId</th>\n",
       "      <th>AveCorrect</th>\n",
       "      <th>MCAS</th>\n",
       "    </tr>\n",
       "    <tr>\n",
       "      <th>ITEST_id</th>\n",
       "      <th></th>\n",
       "      <th></th>\n",
       "      <th></th>\n",
       "    </tr>\n",
       "  </thead>\n",
       "  <tbody>\n",
       "    <tr>\n",
       "      <th>9</th>\n",
       "      <td>2</td>\n",
       "      <td>0.438492</td>\n",
       "      <td>32</td>\n",
       "    </tr>\n",
       "    <tr>\n",
       "      <th>101</th>\n",
       "      <td>4</td>\n",
       "      <td>0.403553</td>\n",
       "      <td>29</td>\n",
       "    </tr>\n",
       "    <tr>\n",
       "      <th>161</th>\n",
       "      <td>1</td>\n",
       "      <td>0.483425</td>\n",
       "      <td>40</td>\n",
       "    </tr>\n",
       "    <tr>\n",
       "      <th>164</th>\n",
       "      <td>2</td>\n",
       "      <td>0.256983</td>\n",
       "      <td>9</td>\n",
       "    </tr>\n",
       "    <tr>\n",
       "      <th>176</th>\n",
       "      <td>2</td>\n",
       "      <td>0.575949</td>\n",
       "      <td>50</td>\n",
       "    </tr>\n",
       "  </tbody>\n",
       "</table>\n",
       "</div>"
      ],
      "text/plain": [
       "          SchoolId  AveCorrect  MCAS\n",
       "ITEST_id                            \n",
       "9                2    0.438492    32\n",
       "101              4    0.403553    29\n",
       "161              1    0.483425    40\n",
       "164              2    0.256983     9\n",
       "176              2    0.575949    50"
      ]
     },
     "execution_count": 5,
     "metadata": {},
     "output_type": "execute_result"
    }
   ],
   "source": [
    "test_labels = pd.read_csv(DATA_DIR + 'validation_test_label.csv', index_col='ITEST_id').sort_index()\n",
    "test_labels.head()"
   ]
  },
  {
   "cell_type": "markdown",
   "metadata": {},
   "source": [
    "We only keep actions for students for which we have labels in train_labels and test_labels. We also sort by student ID and by startTime of in order to have a chronological suite of actions"
   ]
  },
  {
   "cell_type": "code",
   "execution_count": 7,
   "metadata": {},
   "outputs": [
    {
     "name": "stdout",
     "output_type": "stream",
     "text": [
      "Training data shape: (251488, 77)\n",
      "Test data shape: (91038, 77)\n"
     ]
    }
   ],
   "source": [
    "train_idx = train_labels.index.values\n",
    "test_idx = test_labels.index.values\n",
    "\n",
    "student_train_logs = student_logs[student_logs['ITEST_id'].isin(train_idx)].sort_values(by=['ITEST_id', 'startTime'])\n",
    "student_test_logs = student_logs[student_logs['ITEST_id'].isin(test_idx)].sort_values(by=['ITEST_id', 'startTime'])\n",
    "print('Training data shape:', student_train_logs.shape)\n",
    "print('Test data shape:', student_test_logs.shape)"
   ]
  },
  {
   "cell_type": "markdown",
   "metadata": {},
   "source": [
    "## Feature engineering"
   ]
  },
  {
   "cell_type": "markdown",
   "metadata": {},
   "source": [
    "### Train input data"
   ]
  },
  {
   "cell_type": "markdown",
   "metadata": {},
   "source": [
    "In order to use an RNN (LSTM), we need to create sequences of actions. A sequence is a matrix in which each row is an action taken by a student that follows a chronological order. An action is a row in the provided dataset (see above). In summary, we produce a Tensor (a 3D array) with the following dimensions:\n",
    "\n",
    "* First: All the students actions\n",
    "* Second: A list of actions for a specific student\n",
    "* Third: A specific action (which in turn is a vector of metrics (see above))\n",
    "\n",
    "The output that interests us is the last output of the sequence. Which is the output consisting of the last action of a specific student taking into account all previous actions of that student. This output will represent if the student will choose a STEM career or not.\n",
    "\n",
    "**A problem that we will encounter and will need to solve is that sequences have dynamic lengths**. Because Tensors need to be of fixed predefined size. Meaning that not all students have done the same number of actions while learning.\n",
    "\n",
    "A possible solution could be to reduce the actions taken to a fixed minimum number, but that wouldn't work because we need to be able to give a prediction even for students with very few actions taken."
   ]
  },
  {
   "cell_type": "code",
   "execution_count": 8,
   "metadata": {},
   "outputs": [],
   "source": [
    "# Creation of the input tensor\n",
    "train_input = []\n",
    "\n",
    "for idx in train_idx:\n",
    "    specific_student_actions = student_train_logs[student_train_logs['ITEST_id'] == idx]\n",
    "    student_actions = []\n",
    "    \n",
    "    for action_idx, action in specific_student_actions.iterrows():\n",
    "        student_actions.append(np.array(action))\n",
    "    \n",
    "    train_input.append(np.array(student_actions))"
   ]
  },
  {
   "cell_type": "markdown",
   "metadata": {},
   "source": [
    "For example, first student has taken 504 actions while the second student has taken 129 actions"
   ]
  },
  {
   "cell_type": "code",
   "execution_count": 9,
   "metadata": {},
   "outputs": [
    {
     "name": "stdout",
     "output_type": "stream",
     "text": [
      "(504, 77)\n",
      "(129, 77)\n"
     ]
    }
   ],
   "source": [
    "print(train_input[0].shape)\n",
    "print(train_input[1].shape)"
   ]
  },
  {
   "cell_type": "markdown",
   "metadata": {},
   "source": [
    "### Train output data"
   ]
  },
  {
   "cell_type": "markdown",
   "metadata": {},
   "source": [
    "The training output is a list of one-hot vectors of size 2 (one for each student). If the value of index 0 is 1, then it is non-STEM, if value at index 1 is 1, then it is STEM."
   ]
  },
  {
   "cell_type": "code",
   "execution_count": 10,
   "metadata": {},
   "outputs": [],
   "source": [
    "train_output = []\n",
    "\n",
    "for idx, row in train_labels.iterrows():\n",
    "    temp_arr = ([0] * 2)\n",
    "    \n",
    "    if row['isSTEM'] == 1:\n",
    "        temp_arr[1] = 1\n",
    "    else:\n",
    "        temp_arr[0] = 1\n",
    "        \n",
    "    train_output.append(temp_arr)"
   ]
  },
  {
   "cell_type": "code",
   "execution_count": 11,
   "metadata": {},
   "outputs": [
    {
     "data": {
      "text/plain": [
       "467"
      ]
     },
     "execution_count": 11,
     "metadata": {},
     "output_type": "execute_result"
    }
   ],
   "source": [
    "len(train_output)"
   ]
  },
  {
   "cell_type": "markdown",
   "metadata": {},
   "source": [
    "### Test data"
   ]
  },
  {
   "cell_type": "markdown",
   "metadata": {},
   "source": [
    "We will split the training data into two sets, one for training and the other for testing. We will randomly take 10% of the data for testing and use the rest as training data. Ultimately we will train with everything before predicting.\n",
    "\n",
    "**TODO** Améliorer ça et utiliser kFold cross validation (stratified), parce qu'on a relativement peu de données"
   ]
  },
  {
   "cell_type": "code",
   "execution_count": 12,
   "metadata": {},
   "outputs": [
    {
     "name": "stdout",
     "output_type": "stream",
     "text": [
      "47\n"
     ]
    }
   ],
   "source": [
    "NUM_TEST = int(np.ceil(len(train_input) / 10))\n",
    "print(NUM_TEST)\n",
    "X_test = train_input[NUM_TEST:]\n",
    "y_test = train_output[NUM_TEST:]\n",
    "X_train = train_input[:NUM_TEST]\n",
    "y_train = train_output[:NUM_TEST]"
   ]
  },
  {
   "cell_type": "code",
   "execution_count": 18,
   "metadata": {},
   "outputs": [
    {
     "name": "stdout",
     "output_type": "stream",
     "text": [
      "Number of students for training: 47\n",
      "Number of students for testing: 420\n"
     ]
    }
   ],
   "source": [
    "print('Number of students for training:', len(X_train))\n",
    "print('Number of students for testing:', len(X_test))"
   ]
  },
  {
   "cell_type": "markdown",
   "metadata": {},
   "source": [
    "## Neural network implementation"
   ]
  },
  {
   "cell_type": "markdown",
   "metadata": {},
   "source": [
    "Here we fist create placeholders to hold our data. The dimensions for data are [Batch Size, Sequence Length, Input Dimension]. Here our values are:\n",
    "\n",
    "* Batch size: to be defined at runtime\n",
    "* Sequence length: Different for each student\n",
    "* Input Dimension: Known (number of features of the data)\n",
    "\n",
    "For our target"
   ]
  },
  {
   "cell_type": "code",
   "execution_count": 20,
   "metadata": {},
   "outputs": [
    {
     "name": "stdout",
     "output_type": "stream",
     "text": [
      "77\n"
     ]
    }
   ],
   "source": [
    "# Input dimension\n",
    "input_dimension = len(train_input[0][0])\n",
    "data = tf.placeholder(tf.float32, [None, None, input_dimension])\n",
    "target = tf.placeholder(tf.float32, [None, 16])"
   ]
  },
  {
   "cell_type": "markdown",
   "metadata": {},
   "source": [
    "## Flow execution"
   ]
  },
  {
   "cell_type": "code",
   "execution_count": null,
   "metadata": {},
   "outputs": [],
   "source": []
  }
 ],
 "metadata": {
  "kernelspec": {
   "display_name": "Python [conda root]",
   "language": "python",
   "name": "conda-root-py"
  },
  "language_info": {
   "codemirror_mode": {
    "name": "ipython",
    "version": 3
   },
   "file_extension": ".py",
   "mimetype": "text/x-python",
   "name": "python",
   "nbconvert_exporter": "python",
   "pygments_lexer": "ipython3",
   "version": "3.6.1"
  }
 },
 "nbformat": 4,
 "nbformat_minor": 2
}
