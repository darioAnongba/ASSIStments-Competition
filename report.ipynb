{
 "cells": [
  {
   "cell_type": "markdown",
   "metadata": {},
   "source": [
    "# ASSISTments Data Mining Competition 2017 - Optional Semester Project"
   ]
  },
  {
   "cell_type": "markdown",
   "metadata": {},
   "source": [
    "## Imports and constants"
   ]
  },
  {
   "cell_type": "code",
   "execution_count": 1,
   "metadata": {},
   "outputs": [
    {
     "name": "stderr",
     "output_type": "stream",
     "text": [
      "/home/dario/anaconda3/lib/python3.6/site-packages/sklearn/cross_validation.py:41: DeprecationWarning: This module was deprecated in version 0.18 in favor of the model_selection module into which all the refactored classes and functions are moved. Also note that the interface of the new CV iterators are different from that of this module. This module will be removed in 0.20.\n",
      "  \"This module will be removed in 0.20.\", DeprecationWarning)\n"
     ]
    }
   ],
   "source": [
    "import pandas as pd\n",
    "import numpy as np\n",
    "\n",
    "from sklearn import svm\n",
    "from sklearn.linear_model import LogisticRegressionCV\n",
    "from sklearn import metrics, linear_model\n",
    "from sklearn.ensemble import RandomForestClassifier\n",
    "from sklearn.model_selection import cross_val_score, cross_val_predict, cross_validate\n",
    "from sklearn.decomposition import PCA, TruncatedSVD\n",
    "import xgboost as xgb\n",
    "\n",
    "DATA_DIR = 'Data/'\n",
    "SCORING = ['accuracy', 'roc_auc', 'neg_mean_squared_error']"
   ]
  },
  {
   "cell_type": "markdown",
   "metadata": {},
   "source": [
    "## Loading the data"
   ]
  },
  {
   "cell_type": "markdown",
   "metadata": {},
   "source": [
    "We create a DataFrame with all the students logs information"
   ]
  },
  {
   "cell_type": "code",
   "execution_count": 2,
   "metadata": {},
   "outputs": [],
   "source": [
    "student_logs = pd.read_pickle(DATA_DIR + 'student_train_logs')\n",
    "student_test_logs = pd.read_pickle(DATA_DIR + 'student_test_logs')"
   ]
  },
  {
   "cell_type": "markdown",
   "metadata": {},
   "source": [
    "A DataFrame with train labels with index as the ITEST_id and we also drop duplicates\n",
    "And a DataFrame with test labels with an index on ITEST_id"
   ]
  },
  {
   "cell_type": "code",
   "execution_count": 3,
   "metadata": {},
   "outputs": [],
   "source": [
    "train_labels = pd.read_csv('Data/training_label.csv', index_col='ITEST_id').sort_index()\n",
    "train_labels.drop_duplicates(subset=None, keep='first', inplace=True)\n",
    "\n",
    "test_labels = pd.read_csv(DATA_DIR + 'validation_test_label.csv', index_col='ITEST_id')\n",
    "test_labels.drop_duplicates(subset=None, keep='first', inplace=True)"
   ]
  },
  {
   "cell_type": "code",
   "execution_count": 4,
   "metadata": {},
   "outputs": [
    {
     "name": "stdout",
     "output_type": "stream",
     "text": [
      "(467, 4)\n"
     ]
    },
    {
     "data": {
      "text/html": [
       "<div>\n",
       "<style>\n",
       "    .dataframe thead tr:only-child th {\n",
       "        text-align: right;\n",
       "    }\n",
       "\n",
       "    .dataframe thead th {\n",
       "        text-align: left;\n",
       "    }\n",
       "\n",
       "    .dataframe tbody tr th {\n",
       "        vertical-align: top;\n",
       "    }\n",
       "</style>\n",
       "<table border=\"1\" class=\"dataframe\">\n",
       "  <thead>\n",
       "    <tr style=\"text-align: right;\">\n",
       "      <th></th>\n",
       "      <th>SchoolId</th>\n",
       "      <th>AveCorrect</th>\n",
       "      <th>MCAS</th>\n",
       "      <th>isSTEM</th>\n",
       "    </tr>\n",
       "    <tr>\n",
       "      <th>ITEST_id</th>\n",
       "      <th></th>\n",
       "      <th></th>\n",
       "      <th></th>\n",
       "      <th></th>\n",
       "    </tr>\n",
       "  </thead>\n",
       "  <tbody>\n",
       "    <tr>\n",
       "      <th>9</th>\n",
       "      <td>2</td>\n",
       "      <td>0.438492</td>\n",
       "      <td>32</td>\n",
       "      <td>1</td>\n",
       "    </tr>\n",
       "    <tr>\n",
       "      <th>27</th>\n",
       "      <td>1</td>\n",
       "      <td>0.348837</td>\n",
       "      <td>21</td>\n",
       "      <td>0</td>\n",
       "    </tr>\n",
       "    <tr>\n",
       "      <th>33</th>\n",
       "      <td>2</td>\n",
       "      <td>0.686391</td>\n",
       "      <td>52</td>\n",
       "      <td>0</td>\n",
       "    </tr>\n",
       "    <tr>\n",
       "      <th>35</th>\n",
       "      <td>2</td>\n",
       "      <td>0.379658</td>\n",
       "      <td>34</td>\n",
       "      <td>0</td>\n",
       "    </tr>\n",
       "    <tr>\n",
       "      <th>37</th>\n",
       "      <td>3</td>\n",
       "      <td>0.305785</td>\n",
       "      <td>-999</td>\n",
       "      <td>0</td>\n",
       "    </tr>\n",
       "  </tbody>\n",
       "</table>\n",
       "</div>"
      ],
      "text/plain": [
       "          SchoolId  AveCorrect  MCAS  isSTEM\n",
       "ITEST_id                                    \n",
       "9                2    0.438492    32       1\n",
       "27               1    0.348837    21       0\n",
       "33               2    0.686391    52       0\n",
       "35               2    0.379658    34       0\n",
       "37               3    0.305785  -999       0"
      ]
     },
     "execution_count": 4,
     "metadata": {},
     "output_type": "execute_result"
    }
   ],
   "source": [
    "print(train_labels.shape)\n",
    "train_labels.head()"
   ]
  },
  {
   "cell_type": "code",
   "execution_count": 5,
   "metadata": {},
   "outputs": [
    {
     "name": "stdout",
     "output_type": "stream",
     "text": [
      "(172, 3)\n"
     ]
    },
    {
     "data": {
      "text/html": [
       "<div>\n",
       "<style>\n",
       "    .dataframe thead tr:only-child th {\n",
       "        text-align: right;\n",
       "    }\n",
       "\n",
       "    .dataframe thead th {\n",
       "        text-align: left;\n",
       "    }\n",
       "\n",
       "    .dataframe tbody tr th {\n",
       "        vertical-align: top;\n",
       "    }\n",
       "</style>\n",
       "<table border=\"1\" class=\"dataframe\">\n",
       "  <thead>\n",
       "    <tr style=\"text-align: right;\">\n",
       "      <th></th>\n",
       "      <th>SchoolId</th>\n",
       "      <th>AveCorrect</th>\n",
       "      <th>MCAS</th>\n",
       "    </tr>\n",
       "    <tr>\n",
       "      <th>ITEST_id</th>\n",
       "      <th></th>\n",
       "      <th></th>\n",
       "      <th></th>\n",
       "    </tr>\n",
       "  </thead>\n",
       "  <tbody>\n",
       "    <tr>\n",
       "      <th>9</th>\n",
       "      <td>2</td>\n",
       "      <td>0.438492</td>\n",
       "      <td>32</td>\n",
       "    </tr>\n",
       "    <tr>\n",
       "      <th>101</th>\n",
       "      <td>4</td>\n",
       "      <td>0.403553</td>\n",
       "      <td>29</td>\n",
       "    </tr>\n",
       "    <tr>\n",
       "      <th>161</th>\n",
       "      <td>1</td>\n",
       "      <td>0.483425</td>\n",
       "      <td>40</td>\n",
       "    </tr>\n",
       "    <tr>\n",
       "      <th>164</th>\n",
       "      <td>2</td>\n",
       "      <td>0.256983</td>\n",
       "      <td>9</td>\n",
       "    </tr>\n",
       "    <tr>\n",
       "      <th>176</th>\n",
       "      <td>2</td>\n",
       "      <td>0.575949</td>\n",
       "      <td>50</td>\n",
       "    </tr>\n",
       "  </tbody>\n",
       "</table>\n",
       "</div>"
      ],
      "text/plain": [
       "          SchoolId  AveCorrect  MCAS\n",
       "ITEST_id                            \n",
       "9                2    0.438492    32\n",
       "101              4    0.403553    29\n",
       "161              1    0.483425    40\n",
       "164              2    0.256983     9\n",
       "176              2    0.575949    50"
      ]
     },
     "execution_count": 5,
     "metadata": {},
     "output_type": "execute_result"
    }
   ],
   "source": [
    "print(test_labels.shape)\n",
    "test_labels.head()"
   ]
  },
  {
   "cell_type": "markdown",
   "metadata": {},
   "source": [
    "## Feature engineering"
   ]
  },
  {
   "cell_type": "markdown",
   "metadata": {},
   "source": [
    "We take the mean of the values grouped by student id and put 0 values instead NA values."
   ]
  },
  {
   "cell_type": "code",
   "execution_count": 6,
   "metadata": {},
   "outputs": [
    {
     "name": "stdout",
     "output_type": "stream",
     "text": [
      "(467, 116)\n"
     ]
    },
    {
     "data": {
      "text/html": [
       "<div>\n",
       "<style>\n",
       "    .dataframe thead tr:only-child th {\n",
       "        text-align: right;\n",
       "    }\n",
       "\n",
       "    .dataframe thead th {\n",
       "        text-align: left;\n",
       "    }\n",
       "\n",
       "    .dataframe tbody tr th {\n",
       "        vertical-align: top;\n",
       "    }\n",
       "</style>\n",
       "<table border=\"1\" class=\"dataframe\">\n",
       "  <thead>\n",
       "    <tr style=\"text-align: right;\">\n",
       "      <th></th>\n",
       "      <th>AveKnow</th>\n",
       "      <th>AveCarelessness</th>\n",
       "      <th>AveCorrect</th>\n",
       "      <th>NumActions</th>\n",
       "      <th>AveResBored</th>\n",
       "      <th>AveResEngcon</th>\n",
       "      <th>AveResConf</th>\n",
       "      <th>AveResFrust</th>\n",
       "      <th>AveResOfftask</th>\n",
       "      <th>AveResGaming</th>\n",
       "      <th>...</th>\n",
       "      <th>confidence(CONFUSED)</th>\n",
       "      <th>confidence(FRUSTRATED)</th>\n",
       "      <th>confidence(OFF TASK)</th>\n",
       "      <th>confidence(GAMING)</th>\n",
       "      <th>RES_BORED</th>\n",
       "      <th>RES_CONCENTRATING</th>\n",
       "      <th>RES_CONFUSED</th>\n",
       "      <th>RES_FRUSTRATED</th>\n",
       "      <th>RES_OFFTASK</th>\n",
       "      <th>RES_GAMING</th>\n",
       "    </tr>\n",
       "    <tr>\n",
       "      <th>ITEST_id</th>\n",
       "      <th></th>\n",
       "      <th></th>\n",
       "      <th></th>\n",
       "      <th></th>\n",
       "      <th></th>\n",
       "      <th></th>\n",
       "      <th></th>\n",
       "      <th></th>\n",
       "      <th></th>\n",
       "      <th></th>\n",
       "      <th></th>\n",
       "      <th></th>\n",
       "      <th></th>\n",
       "      <th></th>\n",
       "      <th></th>\n",
       "      <th></th>\n",
       "      <th></th>\n",
       "      <th></th>\n",
       "      <th></th>\n",
       "      <th></th>\n",
       "      <th></th>\n",
       "    </tr>\n",
       "  </thead>\n",
       "  <tbody>\n",
       "    <tr>\n",
       "      <th>9</th>\n",
       "      <td>0.185138</td>\n",
       "      <td>0.099734</td>\n",
       "      <td>0.438492</td>\n",
       "      <td>504.0</td>\n",
       "      <td>0.277149</td>\n",
       "      <td>0.644744</td>\n",
       "      <td>0.098078</td>\n",
       "      <td>0.162771</td>\n",
       "      <td>0.213378</td>\n",
       "      <td>0.005554</td>\n",
       "      <td>...</td>\n",
       "      <td>0.289391</td>\n",
       "      <td>0.351110</td>\n",
       "      <td>0.209475</td>\n",
       "      <td>0.122681</td>\n",
       "      <td>0.125372</td>\n",
       "      <td>0.160885</td>\n",
       "      <td>0.228893</td>\n",
       "      <td>0.333023</td>\n",
       "      <td>0.226656</td>\n",
       "      <td>0.023455</td>\n",
       "    </tr>\n",
       "    <tr>\n",
       "      <th>27</th>\n",
       "      <td>0.142031</td>\n",
       "      <td>0.069297</td>\n",
       "      <td>0.348837</td>\n",
       "      <td>129.0</td>\n",
       "      <td>0.330226</td>\n",
       "      <td>0.551367</td>\n",
       "      <td>0.122658</td>\n",
       "      <td>0.095420</td>\n",
       "      <td>0.348090</td>\n",
       "      <td>0.036900</td>\n",
       "      <td>...</td>\n",
       "      <td>0.314896</td>\n",
       "      <td>0.284357</td>\n",
       "      <td>0.306335</td>\n",
       "      <td>0.194901</td>\n",
       "      <td>0.135316</td>\n",
       "      <td>0.193386</td>\n",
       "      <td>0.257577</td>\n",
       "      <td>0.253684</td>\n",
       "      <td>0.336302</td>\n",
       "      <td>0.161290</td>\n",
       "    </tr>\n",
       "    <tr>\n",
       "      <th>33</th>\n",
       "      <td>0.459813</td>\n",
       "      <td>0.202787</td>\n",
       "      <td>0.686391</td>\n",
       "      <td>169.0</td>\n",
       "      <td>0.260426</td>\n",
       "      <td>0.650769</td>\n",
       "      <td>0.059971</td>\n",
       "      <td>0.061834</td>\n",
       "      <td>0.296286</td>\n",
       "      <td>0.010954</td>\n",
       "      <td>...</td>\n",
       "      <td>0.241292</td>\n",
       "      <td>0.218490</td>\n",
       "      <td>0.276394</td>\n",
       "      <td>0.120402</td>\n",
       "      <td>0.147747</td>\n",
       "      <td>0.153652</td>\n",
       "      <td>0.186395</td>\n",
       "      <td>0.214031</td>\n",
       "      <td>0.299967</td>\n",
       "      <td>0.050044</td>\n",
       "    </tr>\n",
       "    <tr>\n",
       "      <th>35</th>\n",
       "      <td>0.255164</td>\n",
       "      <td>0.158848</td>\n",
       "      <td>0.379658</td>\n",
       "      <td>993.0</td>\n",
       "      <td>0.222796</td>\n",
       "      <td>0.650079</td>\n",
       "      <td>0.069987</td>\n",
       "      <td>0.164347</td>\n",
       "      <td>0.153147</td>\n",
       "      <td>0.236800</td>\n",
       "      <td>...</td>\n",
       "      <td>0.254827</td>\n",
       "      <td>0.354863</td>\n",
       "      <td>0.198341</td>\n",
       "      <td>0.352301</td>\n",
       "      <td>0.112172</td>\n",
       "      <td>0.153547</td>\n",
       "      <td>0.208444</td>\n",
       "      <td>0.332016</td>\n",
       "      <td>0.199667</td>\n",
       "      <td>0.363046</td>\n",
       "    </tr>\n",
       "    <tr>\n",
       "      <th>37</th>\n",
       "      <td>0.071909</td>\n",
       "      <td>0.046183</td>\n",
       "      <td>0.305785</td>\n",
       "      <td>121.0</td>\n",
       "      <td>0.326384</td>\n",
       "      <td>0.653445</td>\n",
       "      <td>0.125325</td>\n",
       "      <td>0.094714</td>\n",
       "      <td>0.451467</td>\n",
       "      <td>0.016241</td>\n",
       "      <td>...</td>\n",
       "      <td>0.314989</td>\n",
       "      <td>0.287924</td>\n",
       "      <td>0.292861</td>\n",
       "      <td>0.152899</td>\n",
       "      <td>0.123891</td>\n",
       "      <td>0.137297</td>\n",
       "      <td>0.255149</td>\n",
       "      <td>0.273458</td>\n",
       "      <td>0.320803</td>\n",
       "      <td>0.068074</td>\n",
       "    </tr>\n",
       "  </tbody>\n",
       "</table>\n",
       "<p>5 rows × 116 columns</p>\n",
       "</div>"
      ],
      "text/plain": [
       "           AveKnow  AveCarelessness  AveCorrect  NumActions  AveResBored  \\\n",
       "ITEST_id                                                                   \n",
       "9         0.185138         0.099734    0.438492       504.0     0.277149   \n",
       "27        0.142031         0.069297    0.348837       129.0     0.330226   \n",
       "33        0.459813         0.202787    0.686391       169.0     0.260426   \n",
       "35        0.255164         0.158848    0.379658       993.0     0.222796   \n",
       "37        0.071909         0.046183    0.305785       121.0     0.326384   \n",
       "\n",
       "          AveResEngcon  AveResConf  AveResFrust  AveResOfftask  AveResGaming  \\\n",
       "ITEST_id                                                                       \n",
       "9             0.644744    0.098078     0.162771       0.213378      0.005554   \n",
       "27            0.551367    0.122658     0.095420       0.348090      0.036900   \n",
       "33            0.650769    0.059971     0.061834       0.296286      0.010954   \n",
       "35            0.650079    0.069987     0.164347       0.153147      0.236800   \n",
       "37            0.653445    0.125325     0.094714       0.451467      0.016241   \n",
       "\n",
       "             ...      confidence(CONFUSED)  confidence(FRUSTRATED)  \\\n",
       "ITEST_id     ...                                                     \n",
       "9            ...                  0.289391                0.351110   \n",
       "27           ...                  0.314896                0.284357   \n",
       "33           ...                  0.241292                0.218490   \n",
       "35           ...                  0.254827                0.354863   \n",
       "37           ...                  0.314989                0.287924   \n",
       "\n",
       "          confidence(OFF TASK)  confidence(GAMING)  RES_BORED  \\\n",
       "ITEST_id                                                        \n",
       "9                     0.209475            0.122681   0.125372   \n",
       "27                    0.306335            0.194901   0.135316   \n",
       "33                    0.276394            0.120402   0.147747   \n",
       "35                    0.198341            0.352301   0.112172   \n",
       "37                    0.292861            0.152899   0.123891   \n",
       "\n",
       "          RES_CONCENTRATING  RES_CONFUSED  RES_FRUSTRATED  RES_OFFTASK  \\\n",
       "ITEST_id                                                                 \n",
       "9                  0.160885      0.228893        0.333023     0.226656   \n",
       "27                 0.193386      0.257577        0.253684     0.336302   \n",
       "33                 0.153652      0.186395        0.214031     0.299967   \n",
       "35                 0.153547      0.208444        0.332016     0.199667   \n",
       "37                 0.137297      0.255149        0.273458     0.320803   \n",
       "\n",
       "          RES_GAMING  \n",
       "ITEST_id              \n",
       "9           0.023455  \n",
       "27          0.161290  \n",
       "33          0.050044  \n",
       "35          0.363046  \n",
       "37          0.068074  \n",
       "\n",
       "[5 rows x 116 columns]"
      ]
     },
     "execution_count": 6,
     "metadata": {},
     "output_type": "execute_result"
    }
   ],
   "source": [
    "students_features = pd.concat([student_logs.groupby('ITEST_id').mean(), student_logs.groupby('ITEST_id').std()], axis=1)\n",
    "students_features = students_features.fillna(0)\n",
    "print(students_features.shape)\n",
    "students_features.head()"
   ]
  },
  {
   "cell_type": "code",
   "execution_count": 7,
   "metadata": {
    "scrolled": true
   },
   "outputs": [
    {
     "name": "stdout",
     "output_type": "stream",
     "text": [
      "(172, 116)\n"
     ]
    },
    {
     "data": {
      "text/html": [
       "<div>\n",
       "<style>\n",
       "    .dataframe thead tr:only-child th {\n",
       "        text-align: right;\n",
       "    }\n",
       "\n",
       "    .dataframe thead th {\n",
       "        text-align: left;\n",
       "    }\n",
       "\n",
       "    .dataframe tbody tr th {\n",
       "        vertical-align: top;\n",
       "    }\n",
       "</style>\n",
       "<table border=\"1\" class=\"dataframe\">\n",
       "  <thead>\n",
       "    <tr style=\"text-align: right;\">\n",
       "      <th></th>\n",
       "      <th>AveKnow</th>\n",
       "      <th>AveCarelessness</th>\n",
       "      <th>AveCorrect</th>\n",
       "      <th>NumActions</th>\n",
       "      <th>AveResBored</th>\n",
       "      <th>AveResEngcon</th>\n",
       "      <th>AveResConf</th>\n",
       "      <th>AveResFrust</th>\n",
       "      <th>AveResOfftask</th>\n",
       "      <th>AveResGaming</th>\n",
       "      <th>...</th>\n",
       "      <th>confidence(CONFUSED)</th>\n",
       "      <th>confidence(FRUSTRATED)</th>\n",
       "      <th>confidence(OFF TASK)</th>\n",
       "      <th>confidence(GAMING)</th>\n",
       "      <th>RES_BORED</th>\n",
       "      <th>RES_CONCENTRATING</th>\n",
       "      <th>RES_CONFUSED</th>\n",
       "      <th>RES_FRUSTRATED</th>\n",
       "      <th>RES_OFFTASK</th>\n",
       "      <th>RES_GAMING</th>\n",
       "    </tr>\n",
       "    <tr>\n",
       "      <th>ITEST_id</th>\n",
       "      <th></th>\n",
       "      <th></th>\n",
       "      <th></th>\n",
       "      <th></th>\n",
       "      <th></th>\n",
       "      <th></th>\n",
       "      <th></th>\n",
       "      <th></th>\n",
       "      <th></th>\n",
       "      <th></th>\n",
       "      <th></th>\n",
       "      <th></th>\n",
       "      <th></th>\n",
       "      <th></th>\n",
       "      <th></th>\n",
       "      <th></th>\n",
       "      <th></th>\n",
       "      <th></th>\n",
       "      <th></th>\n",
       "      <th></th>\n",
       "      <th></th>\n",
       "    </tr>\n",
       "  </thead>\n",
       "  <tbody>\n",
       "    <tr>\n",
       "      <th>9</th>\n",
       "      <td>0.185138</td>\n",
       "      <td>0.099734</td>\n",
       "      <td>0.438492</td>\n",
       "      <td>504.0</td>\n",
       "      <td>0.277149</td>\n",
       "      <td>0.644744</td>\n",
       "      <td>0.098078</td>\n",
       "      <td>0.162771</td>\n",
       "      <td>0.213378</td>\n",
       "      <td>0.005554</td>\n",
       "      <td>...</td>\n",
       "      <td>0.289391</td>\n",
       "      <td>0.351110</td>\n",
       "      <td>0.209475</td>\n",
       "      <td>0.122681</td>\n",
       "      <td>0.125372</td>\n",
       "      <td>0.160885</td>\n",
       "      <td>0.228893</td>\n",
       "      <td>0.333023</td>\n",
       "      <td>0.226656</td>\n",
       "      <td>0.023455</td>\n",
       "    </tr>\n",
       "    <tr>\n",
       "      <th>101</th>\n",
       "      <td>0.195441</td>\n",
       "      <td>0.117634</td>\n",
       "      <td>0.403553</td>\n",
       "      <td>394.0</td>\n",
       "      <td>0.252399</td>\n",
       "      <td>0.619236</td>\n",
       "      <td>0.123829</td>\n",
       "      <td>0.241243</td>\n",
       "      <td>0.195611</td>\n",
       "      <td>0.069793</td>\n",
       "      <td>...</td>\n",
       "      <td>0.320853</td>\n",
       "      <td>0.411071</td>\n",
       "      <td>0.203885</td>\n",
       "      <td>0.229437</td>\n",
       "      <td>0.119954</td>\n",
       "      <td>0.182280</td>\n",
       "      <td>0.280720</td>\n",
       "      <td>0.398842</td>\n",
       "      <td>0.216833</td>\n",
       "      <td>0.202453</td>\n",
       "    </tr>\n",
       "    <tr>\n",
       "      <th>161</th>\n",
       "      <td>0.301437</td>\n",
       "      <td>0.145797</td>\n",
       "      <td>0.483425</td>\n",
       "      <td>362.0</td>\n",
       "      <td>0.262823</td>\n",
       "      <td>0.618728</td>\n",
       "      <td>0.103445</td>\n",
       "      <td>0.048144</td>\n",
       "      <td>0.211666</td>\n",
       "      <td>0.134778</td>\n",
       "      <td>...</td>\n",
       "      <td>0.296977</td>\n",
       "      <td>0.202576</td>\n",
       "      <td>0.232868</td>\n",
       "      <td>0.299762</td>\n",
       "      <td>0.136568</td>\n",
       "      <td>0.190959</td>\n",
       "      <td>0.245751</td>\n",
       "      <td>0.191347</td>\n",
       "      <td>0.241681</td>\n",
       "      <td>0.312756</td>\n",
       "    </tr>\n",
       "    <tr>\n",
       "      <th>164</th>\n",
       "      <td>0.117598</td>\n",
       "      <td>0.081440</td>\n",
       "      <td>0.256983</td>\n",
       "      <td>179.0</td>\n",
       "      <td>0.252204</td>\n",
       "      <td>0.597314</td>\n",
       "      <td>0.135032</td>\n",
       "      <td>0.105664</td>\n",
       "      <td>0.243513</td>\n",
       "      <td>0.214158</td>\n",
       "      <td>...</td>\n",
       "      <td>0.327819</td>\n",
       "      <td>0.300253</td>\n",
       "      <td>0.297758</td>\n",
       "      <td>0.347104</td>\n",
       "      <td>0.129691</td>\n",
       "      <td>0.182230</td>\n",
       "      <td>0.278749</td>\n",
       "      <td>0.257089</td>\n",
       "      <td>0.299434</td>\n",
       "      <td>0.337269</td>\n",
       "    </tr>\n",
       "    <tr>\n",
       "      <th>176</th>\n",
       "      <td>0.318761</td>\n",
       "      <td>0.154002</td>\n",
       "      <td>0.575949</td>\n",
       "      <td>316.0</td>\n",
       "      <td>0.235391</td>\n",
       "      <td>0.645941</td>\n",
       "      <td>0.086661</td>\n",
       "      <td>0.082399</td>\n",
       "      <td>0.208176</td>\n",
       "      <td>0.014226</td>\n",
       "      <td>...</td>\n",
       "      <td>0.276198</td>\n",
       "      <td>0.258004</td>\n",
       "      <td>0.212216</td>\n",
       "      <td>0.141028</td>\n",
       "      <td>0.122831</td>\n",
       "      <td>0.169517</td>\n",
       "      <td>0.216289</td>\n",
       "      <td>0.256821</td>\n",
       "      <td>0.224683</td>\n",
       "      <td>0.051597</td>\n",
       "    </tr>\n",
       "  </tbody>\n",
       "</table>\n",
       "<p>5 rows × 116 columns</p>\n",
       "</div>"
      ],
      "text/plain": [
       "           AveKnow  AveCarelessness  AveCorrect  NumActions  AveResBored  \\\n",
       "ITEST_id                                                                   \n",
       "9         0.185138         0.099734    0.438492       504.0     0.277149   \n",
       "101       0.195441         0.117634    0.403553       394.0     0.252399   \n",
       "161       0.301437         0.145797    0.483425       362.0     0.262823   \n",
       "164       0.117598         0.081440    0.256983       179.0     0.252204   \n",
       "176       0.318761         0.154002    0.575949       316.0     0.235391   \n",
       "\n",
       "          AveResEngcon  AveResConf  AveResFrust  AveResOfftask  AveResGaming  \\\n",
       "ITEST_id                                                                       \n",
       "9             0.644744    0.098078     0.162771       0.213378      0.005554   \n",
       "101           0.619236    0.123829     0.241243       0.195611      0.069793   \n",
       "161           0.618728    0.103445     0.048144       0.211666      0.134778   \n",
       "164           0.597314    0.135032     0.105664       0.243513      0.214158   \n",
       "176           0.645941    0.086661     0.082399       0.208176      0.014226   \n",
       "\n",
       "             ...      confidence(CONFUSED)  confidence(FRUSTRATED)  \\\n",
       "ITEST_id     ...                                                     \n",
       "9            ...                  0.289391                0.351110   \n",
       "101          ...                  0.320853                0.411071   \n",
       "161          ...                  0.296977                0.202576   \n",
       "164          ...                  0.327819                0.300253   \n",
       "176          ...                  0.276198                0.258004   \n",
       "\n",
       "          confidence(OFF TASK)  confidence(GAMING)  RES_BORED  \\\n",
       "ITEST_id                                                        \n",
       "9                     0.209475            0.122681   0.125372   \n",
       "101                   0.203885            0.229437   0.119954   \n",
       "161                   0.232868            0.299762   0.136568   \n",
       "164                   0.297758            0.347104   0.129691   \n",
       "176                   0.212216            0.141028   0.122831   \n",
       "\n",
       "          RES_CONCENTRATING  RES_CONFUSED  RES_FRUSTRATED  RES_OFFTASK  \\\n",
       "ITEST_id                                                                 \n",
       "9                  0.160885      0.228893        0.333023     0.226656   \n",
       "101                0.182280      0.280720        0.398842     0.216833   \n",
       "161                0.190959      0.245751        0.191347     0.241681   \n",
       "164                0.182230      0.278749        0.257089     0.299434   \n",
       "176                0.169517      0.216289        0.256821     0.224683   \n",
       "\n",
       "          RES_GAMING  \n",
       "ITEST_id              \n",
       "9           0.023455  \n",
       "101         0.202453  \n",
       "161         0.312756  \n",
       "164         0.337269  \n",
       "176         0.051597  \n",
       "\n",
       "[5 rows x 116 columns]"
      ]
     },
     "execution_count": 7,
     "metadata": {},
     "output_type": "execute_result"
    }
   ],
   "source": [
    "students_test_features = pd.concat([student_test_logs.groupby('ITEST_id').mean(), student_test_logs.groupby('ITEST_id').std()], axis=1)\n",
    "students_test_features = students_test_features.fillna(0)\n",
    "print(students_test_features.shape)\n",
    "students_test_features.head()"
   ]
  },
  {
   "cell_type": "markdown",
   "metadata": {},
   "source": [
    "## Polynomial basis"
   ]
  },
  {
   "cell_type": "code",
   "execution_count": 8,
   "metadata": {},
   "outputs": [],
   "source": [
    "def build_poly(x, degree):\n",
    "    \"\"\" Apply a polynomial basis to all the X features. \"\"\"\n",
    "    # First, we find the combinations of columns for which we have to\n",
    "    # compute the product\n",
    "    m, n = x.shape\n",
    "\n",
    "    combinations = {}\n",
    "\n",
    "    # Add combinations of same column power\n",
    "    for i in range(n * degree):\n",
    "        if i < n:\n",
    "            combinations[i] = [i]\n",
    "        else:\n",
    "            col_number = i - n\n",
    "            cpt = 2\n",
    "            while col_number >= n:\n",
    "                col_number -= n\n",
    "                cpt += 1\n",
    "            combinations[i] = [col_number] * cpt\n",
    "\n",
    "    # Add combinations of products between columns\n",
    "    cpt = i + 1\n",
    "\n",
    "    for i in range(n):\n",
    "        for j in range(i + 1, n):\n",
    "            combinations[cpt] = [i, j]\n",
    "            cpt = cpt + 1\n",
    "\n",
    "    # Now we can fill a new matrix with the column combinations\n",
    "    eval_poly = np.zeros(\n",
    "        shape=(m, n + len(combinations))\n",
    "    )\n",
    "\n",
    "    for i, c in combinations.items():\n",
    "        eval_poly[:, i] = x[:, c].prod(1)\n",
    "\n",
    "    # Add square root\n",
    "    for i in range(0, n):\n",
    "        eval_poly[:, len(combinations) + i] = np.abs(x[:, i]) ** 0.5\n",
    "\n",
    "    return eval_poly"
   ]
  },
  {
   "cell_type": "markdown",
   "metadata": {},
   "source": [
    "## Algorithms"
   ]
  },
  {
   "cell_type": "code",
   "execution_count": 9,
   "metadata": {},
   "outputs": [],
   "source": [
    "def runCV(clf, X_train, y_train, X_test, k):\n",
    "    print_scores(cross_validate(clf, X_train, y_train, cv=k, scoring=SCORING, return_train_score=False))\n",
    "    clf.fit(X_train, y_train)\n",
    "    try:\n",
    "        print_prediction(clf.predict_proba(X_test))\n",
    "    except:\n",
    "        print_prediction_scalar(clf.predict(X_test))"
   ]
  },
  {
   "cell_type": "code",
   "execution_count": 10,
   "metadata": {},
   "outputs": [],
   "source": [
    "def print_scores(scores):\n",
    "    print('Scores')\n",
    "    print(\"Accuracy: %0.2f (+/- %0.2f)\" % (scores['test_accuracy'].mean(), scores['test_accuracy'].std() * 2))\n",
    "    print(\"AUC: %0.2f (+/- %0.2f)\" % (scores['test_roc_auc'].mean(), scores['test_roc_auc'].std() * 2))\n",
    "    print(\"RMSE: %0.2f (+/- %0.2f)\" % (np.sqrt(-scores['test_neg_mean_squared_error']).mean(), scores['test_neg_mean_squared_error'].std() * 2))"
   ]
  },
  {
   "cell_type": "code",
   "execution_count": 24,
   "metadata": {},
   "outputs": [],
   "source": [
    "def print_prediction(prediction, reverse=False):\n",
    "    for pred in prediction:\n",
    "        if reverse:\n",
    "            print(1 - pred[1], end=',')\n",
    "        else:\n",
    "            print(pred[1], end=',')"
   ]
  },
  {
   "cell_type": "code",
   "execution_count": 25,
   "metadata": {},
   "outputs": [],
   "source": [
    "def print_prediction_scalar(prediction, reverse=False):\n",
    "    for pred in prediction:\n",
    "        if reverse:\n",
    "            print(1 - pred, end=',')\n",
    "        else:\n",
    "            print(pred, end=',')"
   ]
  },
  {
   "cell_type": "markdown",
   "metadata": {},
   "source": [
    "We make our training and test data from the students logs and the train_labels file"
   ]
  },
  {
   "cell_type": "code",
   "execution_count": 13,
   "metadata": {},
   "outputs": [
    {
     "data": {
      "text/plain": [
       "(467, 116)"
      ]
     },
     "execution_count": 13,
     "metadata": {},
     "output_type": "execute_result"
    }
   ],
   "source": [
    "train_ids = train_labels.index.tolist()\n",
    "X_train = np.array([np.array(students_features.loc[student_id].tolist(), dtype=float) for student_id in train_ids])\n",
    "y_train = np.array([train_labels['isSTEM'].loc[student_id] for student_id in train_ids])\n",
    "X_train.shape"
   ]
  },
  {
   "cell_type": "markdown",
   "metadata": {},
   "source": [
    "And our test data similarly"
   ]
  },
  {
   "cell_type": "code",
   "execution_count": 14,
   "metadata": {},
   "outputs": [
    {
     "data": {
      "text/plain": [
       "(172, 116)"
      ]
     },
     "execution_count": 14,
     "metadata": {},
     "output_type": "execute_result"
    }
   ],
   "source": [
    "test_ids = test_labels.index.tolist()\n",
    "X_test = np.array([np.array(students_test_features.loc[student_id].tolist(), dtype=float) for student_id in test_ids])\n",
    "X_test.shape"
   ]
  },
  {
   "cell_type": "code",
   "execution_count": 15,
   "metadata": {},
   "outputs": [
    {
     "name": "stdout",
     "output_type": "stream",
     "text": [
      "(467, 7598)\n",
      "(172, 7598)\n"
     ]
    }
   ],
   "source": [
    "X_train_poly = build_poly(X_train, 7)\n",
    "X_test_poly = build_poly(X_test, 7)\n",
    "print(X_train_poly.shape)\n",
    "print(X_test_poly.shape)"
   ]
  },
  {
   "cell_type": "markdown",
   "metadata": {},
   "source": [
    "### Linear Support vector machine (SVM)"
   ]
  },
  {
   "cell_type": "markdown",
   "metadata": {},
   "source": [
    "We start by fitting the data to a SVM model"
   ]
  },
  {
   "cell_type": "code",
   "execution_count": 16,
   "metadata": {},
   "outputs": [
    {
     "name": "stdout",
     "output_type": "stream",
     "text": [
      "Scores\n",
      "Accuracy: 0.75 (+/- 0.01)\n",
      "AUC: 0.50 (+/- 0.00)\n",
      "RMSE: 0.50 (+/- 0.01)\n",
      "1,0,0,0,1,1,0,0,1,0,0,0,0,0,1,0,0,0,0,0,0,0,0,0,0,0,0,0,0,0,0,0,0,0,0,0,0,0,0,0,0,1,0,0,0,0,0,0,1,0,1,0,1,0,0,1,0,0,0,1,0,1,1,0,0,1,0,1,1,0,1,0,1,0,1,0,0,1,0,1,1,1,0,0,1,1,0,0,0,0,0,0,1,0,1,1,0,1,0,0,1,1,0,1,0,1,0,0,1,0,0,0,0,0,1,1,0,1,0,0,0,0,0,0,0,0,0,0,0,0,0,0,0,1,0,0,1,1,0,0,0,0,0,0,1,0,0,0,0,1,0,0,1,1,0,0,0,0,0,0,0,0,0,0,0,1,0,0,0,1,1,1,"
     ]
    }
   ],
   "source": [
    "clf = svm.SVC(C=1, kernel='rbf')\n",
    "runCV(clf, X_train, y_train, X_test, 7)"
   ]
  },
  {
   "cell_type": "markdown",
   "metadata": {},
   "source": [
    "### Logistic Regression"
   ]
  },
  {
   "cell_type": "code",
   "execution_count": 17,
   "metadata": {},
   "outputs": [
    {
     "name": "stdout",
     "output_type": "stream",
     "text": [
      "Using normal features\n",
      "Scores\n",
      "Accuracy: 0.75 (+/- 0.03)\n",
      "AUC: 0.60 (+/- 0.16)\n",
      "RMSE: 0.50 (+/- 0.03)\n",
      "0.308592386503,0.224720065234,0.408501062218,0.219069893005,0.413899731742,0.496149100852,0.295953360359,0.340942649492,0.383869839261,0.17120569712,0.395820287011,0.435435046,0.241968021974,0.275363480023,0.368771402591,0.29449609442,0.282124560918,0.291547920871,0.492921026923,0.165747243159,0.43688248803,0.0938093149067,0.344679450889,0.21048520592,0.213463637,0.261268176103,0.14127640576,0.352377509647,0.29589538893,0.0754701055033,0.194844780389,0.183430263917,0.263598127647,0.341017457709,0.230778873486,0.157454063844,0.403073671405,0.170411484924,0.317351367413,0.58828685697,0.353567044455,0.287277339063,0.210894809212,0.297730372443,0.227972260048,0.272974307695,0.204043044521,0.357747191589,0.395812107262,0.237013855296,0.184214103117,0.150879136056,0.348384147868,0.090738568109,0.223690417566,0.324341832749,0.210366673233,0.343524792885,0.166031354387,0.311895473823,0.295198825454,0.169646106468,0.211827512386,0.0870497697744,0.395590740181,0.446897052912,0.174136913167,0.358757222875,0.330204779924,0.349689192958,0.380130173905,0.230141845807,0.238265632,0.188356644295,0.217143587858,0.223420856429,0.43597497218,0.261389112117,0.438245414031,0.242536441885,0.156834570571,0.203308889568,0.0636224466649,0.216414955992,0.165278609133,0.101114422458,0.367087096208,0.10516854414,0.114146027153,0.431412213127,0.313930856543,0.224331565757,0.309092006234,0.252506648288,0.226191058622,0.274188739786,0.341497562216,0.227030014753,0.126170179783,0.324561449492,0.268906582607,0.402971865892,0.138988516393,0.266549228059,0.062376789107,0.259209646095,0.333738921714,0.203646570563,0.623921496406,0.323972684511,0.301978653623,0.296836077856,0.31671656036,0.356217996162,0.36230559441,0.173088935196,0.358792944287,0.297066637511,0.108222897413,0.160755294177,0.0582577226194,0.157618220474,0.285067659654,0.303569266566,0.262456058254,0.135957828345,0.193962522387,0.501065324296,0.256742384101,0.279721612748,0.25957226691,0.140582294646,0.192381071321,0.47026547047,0.287812026799,0.177300372252,0.155387700746,0.232960762397,0.272593137035,0.209486756314,0.287755594548,0.219242899678,0.267386309537,0.161169769038,0.419309696201,0.0783250014298,0.30519379407,0.237199189291,0.2398051453,0.409378925805,0.292886053055,0.319930566249,0.460762076204,0.240421617223,0.257472758185,0.198552141217,0.141852175563,0.218751232111,0.346353719411,0.236984871533,0.247338566889,0.167743069996,0.283070651457,0.268827813812,0.208465743547,0.37729984011,0.156359638342,0.389049246577,0.210232186669,0.455562060055,0.272583394228,0.358969715133,\n",
      "\n",
      "Using polynomial basis features\n",
      "Scores\n",
      "Accuracy: 0.72 (+/- 0.14)\n",
      "AUC: 0.51 (+/- 0.05)\n",
      "RMSE: 0.52 (+/- 0.14)\n",
      "0.5,0.5,0.5,0.5,0.5,0.5,0.5,0.5,0.5,0.5,0.5,0.5,0.5,0.5,0.5,0.5,0.5,0.5,0.5,0.5,0.5,0.5,0.5,0.5,0.5,0.5,0.5,0.5,0.5,0.5,0.5,0.5,0.5,0.5,0.5,0.5,0.5,0.5,0.5,0.5,0.5,0.5,0.5,0.5,0.5,0.5,0.5,0.5,0.5,0.5,0.5,0.5,0.5,0.5,0.5,0.5,0.5,0.5,0.5,0.5,0.5,0.5,0.5,0.5,0.5,0.5,0.5,0.5,0.5,0.5,0.5,0.5,0.5,0.5,0.5,0.5,0.5,0.5,0.5,0.5,0.5,0.5,0.5,0.5,0.5,0.5,0.5,0.5,0.5,0.5,0.5,0.5,0.5,0.5,0.5,0.5,0.5,0.5,0.5,0.5,0.5,0.5,0.5,0.5,0.5,0.5,0.5,0.5,0.5,0.5,0.5,0.5,0.5,0.5,0.5,0.5,0.5,0.5,0.5,0.5,0.5,0.5,0.5,0.5,0.5,0.5,0.5,0.5,0.5,0.5,0.5,0.5,0.5,0.5,0.5,0.5,0.5,0.5,0.5,0.5,0.5,0.5,0.5,0.5,0.5,0.5,0.5,0.5,0.5,0.5,0.5,0.5,0.5,0.5,0.5,0.5,0.5,0.5,0.5,0.5,0.5,0.5,0.5,0.5,0.5,0.5,0.5,0.5,0.5,0.5,0.5,0.5,"
     ]
    }
   ],
   "source": [
    "clf = linear_model.LogisticRegressionCV(Cs=[1e-4, 1e-3, 1e-2, 1e-1, 1, 1e2, 1e3, 1e4])\n",
    "print('Using normal features')\n",
    "runCV(clf, X_train, y_train, X_test, 7)\n",
    "\n",
    "print('')\n",
    "print('')\n",
    "print('Using polynomial basis features')\n",
    "runCV(clf, X_train_poly, y_train, X_test_poly, 7)"
   ]
  },
  {
   "cell_type": "markdown",
   "metadata": {},
   "source": [
    "### Random Forest"
   ]
  },
  {
   "cell_type": "code",
   "execution_count": 18,
   "metadata": {},
   "outputs": [
    {
     "name": "stdout",
     "output_type": "stream",
     "text": [
      "Scores\n",
      "Accuracy: 0.73 (+/- 0.04)\n",
      "AUC: 0.59 (+/- 0.14)\n",
      "RMSE: 0.52 (+/- 0.04)\n",
      "0.247614832036,0.316045394942,0.327267239052,0.140960674274,0.32899366943,0.349464166637,0.332607678586,0.450675115625,0.351277469542,0.092466378638,0.329344777863,0.375135984685,0.397929170422,0.265617345836,0.331042186922,0.32899366943,0.34635773044,0.123640544164,0.308012191077,0.153952879661,0.346158792497,0.226789959149,0.414880774143,0.170375790546,0.141445131563,0.34635773044,0.170375790546,0.19578815163,0.216941393967,0.168383672051,0.236139411293,0.452284396162,0.191806195556,0.3637223516,0.170375790546,0.225429369819,0.328295411216,0.182435741966,0.257438044845,0.563696566923,0.339853445524,0.259207076365,0.213991657773,0.231205303228,0.170375790546,0.282920659207,0.200348883063,0.254474756597,0.303317666166,0.25544507556,0.170375790546,0.123640544164,0.340601386512,0.146664148924,0.344895852261,0.4267963723,0.162860210416,0.357345050724,0.208571648068,0.376504432816,0.243530708344,0.259249363127,0.184154627536,0.345352570531,0.481368726302,0.390699110852,0.39697740373,0.499348942717,0.361334283301,0.209840221544,0.291196664621,0.203342732327,0.358262813735,0.092466378638,0.343363881175,0.168366052147,0.127927516107,0.176996987459,0.324612625665,0.280977302719,0.361567296759,0.493057814494,0.164941007937,0.235252582628,0.245875469547,0.221701850299,0.314004987742,0.125575982432,0.168383672051,0.567961107831,0.288288195455,0.14618058993,0.34635773044,0.217973613847,0.27261641453,0.526342116246,0.187247118195,0.261693679151,0.262476309932,0.235434160333,0.288687559914,0.54988880053,0.232768933158,0.303362088067,0.142971310967,0.324261517231,0.290521352995,0.162453622609,0.694657820714,0.441662422348,0.316045394942,0.239481439734,0.238759883926,0.211981915283,0.368102883295,0.473234827247,0.205505978986,0.225429369819,0.172185201261,0.2346367212,0.226789959149,0.308674059986,0.287266821349,0.146734488887,0.235252582628,0.142971310967,0.297252535685,0.370654340303,0.219194808747,0.270666137597,0.248969236248,0.234153162206,0.248558406842,0.483195369247,0.200017008735,0.0929499376321,0.322407257864,0.390573807552,0.24475473797,0.2386610592,0.264893800818,0.190846727721,0.305629825838,0.369027904853,0.47100143402,0.196563988313,0.405332089414,0.235252582628,0.231205303228,0.324261517231,0.115006424405,0.257438044845,0.434003786333,0.261663305321,0.2346367212,0.288687559914,0.170100949029,0.245875469547,0.321840925856,0.222020893247,0.19578815163,0.26333673774,0.380602356967,0.162453622609,0.092466378638,0.337673498492,0.159638835193,0.275030619698,0.177476962968,0.493127061655,0.223968467891,0.389064591415,"
     ]
    }
   ],
   "source": [
    "clf = RandomForestClassifier(max_depth=3, random_state=42)\n",
    "runCV(clf, X_train, y_train, X_test, 7)"
   ]
  },
  {
   "cell_type": "markdown",
   "metadata": {},
   "source": [
    "## Ridge classifier"
   ]
  },
  {
   "cell_type": "code",
   "execution_count": 19,
   "metadata": {},
   "outputs": [
    {
     "name": "stdout",
     "output_type": "stream",
     "text": [
      "Scores\n",
      "Accuracy: 0.73 (+/- 0.05)\n",
      "AUC: 0.61 (+/- 0.10)\n",
      "RMSE: 0.52 (+/- 0.05)\n",
      "0,0,0,0,0,1,1,1,0,0,0,0,0,0,0,0,0,0,0,0,0,0,0,0,0,0,0,0,0,0,1,0,0,0,0,0,0,0,0,0,0,0,0,0,0,0,0,0,0,0,0,0,0,0,0,0,0,0,0,0,0,0,0,0,0,0,0,0,0,0,0,0,0,0,0,0,0,0,1,0,0,0,0,0,0,0,0,0,0,0,0,0,0,0,1,0,0,0,0,0,0,0,0,0,0,0,0,0,0,1,0,0,0,0,0,0,0,0,0,0,0,0,0,1,0,0,0,0,0,0,0,0,0,0,0,0,0,0,0,0,0,0,0,0,0,0,0,0,0,0,0,0,1,0,0,0,0,0,0,0,0,0,0,0,0,0,0,0,0,0,0,0,"
     ]
    }
   ],
   "source": [
    "clf = linear_model.RidgeClassifierCV(alphas=[0.1, 0.2, 0.3, 0.4, 0.5, 0.8, 1, 2, 3, 4, 5, 6, 7, 8, 9, 10])\n",
    "runCV(clf, X_train, y_train, X_test, 7)"
   ]
  },
  {
   "cell_type": "markdown",
   "metadata": {},
   "source": [
    "### XGBoost"
   ]
  },
  {
   "cell_type": "code",
   "execution_count": 26,
   "metadata": {},
   "outputs": [],
   "source": [
    "\n",
    "def xgboost_eval(X_train, y_train):\n",
    "    dtrain = xgb.DMatrix(X_train, label=y_train)\n",
    "    dtest = xgb.DMatrix(X_test)\n",
    "\n",
    "    depths=[1, 2, 3, 4, 5, 6, 7, 8, 9, 10]\n",
    "    etas=[0.1, 0.2, 0.3, 0.4, 0.5, 0.6, 0.7, 0.8, 0.9, 1]\n",
    "\n",
    "    best_error = 0\n",
    "    best_auc = 0\n",
    "    best_rmse = 1\n",
    "    max_score = 0\n",
    "    best_param = {}\n",
    "\n",
    "    for depth in depths:\n",
    "        for eta in etas:\n",
    "            # specify parameters via map\n",
    "            param = {'max_depth':depth, 'eta':eta, 'silent':1, 'objective':'binary:logistic' }\n",
    "            num_round = 7\n",
    "            cv = xgb.cv(param, dtrain, num_round, 7, metrics=['error', 'rmse', 'auc'])\n",
    "\n",
    "            results = cv.mean()\n",
    "\n",
    "            auc = results['test-auc-mean']\n",
    "            rmse = results['test-rmse-mean']\n",
    "            error = results['test-error-mean']\n",
    "            score = 1-rmse + auc\n",
    "\n",
    "            if(score > max_score):\n",
    "                max_score = score\n",
    "                best_auc = auc\n",
    "                best_rmse = rmse\n",
    "                best_param = param\n",
    "                best_error = error\n",
    "                \n",
    "    print('Best error:', best_error)\n",
    "    print('Best auc:', best_auc)\n",
    "    print('Best rmse:', best_rmse)\n",
    "    print('Best score:', max_score)\n",
    "    print('Best params:', best_param)\n",
    "    print('')\n",
    "    \n",
    "    bst = xgb.train(best_param, dtrain, num_round)\n",
    "    # make prediction\n",
    "    print_prediction_scalar(bst.predict(dtest), reverse=True)"
   ]
  },
  {
   "cell_type": "code",
   "execution_count": 27,
   "metadata": {},
   "outputs": [
    {
     "name": "stdout",
     "output_type": "stream",
     "text": [
      "Best error: 0.254174428571\n",
      "Best auc: 0.620783591837\n",
      "Best rmse: 0.432035959184\n",
      "Best score: 1.18874763265\n",
      "Best params: {'max_depth': 2, 'eta': 0.5, 'silent': 1, 'objective': 'binary:logistic'}\n",
      "\n",
      "0.791966870427,0.698512643576,0.680508673191,0.877837114036,0.791966870427,0.457718253136,0.695687144995,0.631220251322,0.557380139828,0.898668780923,0.695687144995,0.3203343153,0.650717198849,0.639113634825,0.543503195047,0.416115760803,0.502973049879,0.738614469767,0.618422478437,0.884690895677,0.592821985483,0.870789140463,0.388364315033,0.890178203583,0.912566497922,0.612875670195,0.856516167521,0.91235011816,0.791966870427,0.707428187132,0.465460479259,0.65446215868,0.900293014944,0.834999606013,0.762708589435,0.804235503078,0.812836632133,0.812392234802,0.834999606013,0.289002895355,0.63231998682,0.667752206326,0.861751794815,0.791966870427,0.834999606013,0.803529307246,0.924038499594,0.754893958569,0.461096763611,0.915073946118,0.663186222315,0.94176056236,0.695687144995,0.72202450037,0.692799508572,0.428946614265,0.791966870427,0.63231998682,0.817871049047,0.557380139828,0.890178203583,0.738614469767,0.791966870427,0.514272123575,0.65446215868,0.633800327778,0.659328877926,0.499981343746,0.185825765133,0.499197125435,0.499197125435,0.856516167521,0.622956693172,0.911788016558,0.540256023407,0.842962190509,0.632878899574,0.726227968931,0.695687144995,0.690008610487,0.586337208748,0.499981343746,0.817871049047,0.765121936798,0.917784631252,0.782575711608,0.730286955833,0.890178203583,0.827232792974,0.273437440395,0.538086593151,0.924038499594,0.428946614265,0.586337208748,0.685258984566,0.377147853374,0.890178203583,0.305714309216,0.782575711608,0.803529307246,0.726227968931,0.602445602417,0.855377480388,0.756897717714,0.915073946118,0.499197125435,0.428946614265,0.915073946118,0.482408642769,0.585711181164,0.63231998682,0.765121936798,0.738614469767,0.827232792974,0.587599426508,0.37206786871,0.557380139828,0.421929419041,0.72202450037,0.94176056236,0.94176056236,0.502973049879,0.697034537792,0.625746369362,0.791966870427,0.817871049047,0.633800327778,0.475059211254,0.698512643576,0.602445602417,0.87812731415,0.779101461172,0.92437504977,0.4517968297,0.848385587335,0.94176056236,0.791966870427,0.633800327778,0.802507936954,0.791966870427,0.834999606013,0.791966870427,0.730286955833,0.407886743546,0.388364315033,0.848385587335,0.540256023407,0.730286955833,0.738614469767,0.620903640985,0.94176056236,0.791966870427,0.391600549221,0.584619224072,0.779101461172,0.574270665646,0.892655685544,0.923093885183,0.690008610487,0.834999606013,0.915073946118,0.885678522289,0.63231998682,0.817871049047,0.924038499594,0.623562663794,0.84665633738,0.765121936798,0.817871049047,0.363665878773,0.47533261776,0.34406298399,"
     ]
    }
   ],
   "source": [
    "xgboost_eval(X_train, y_train)"
   ]
  },
  {
   "cell_type": "markdown",
   "metadata": {},
   "source": [
    "### Dimensionality reduction"
   ]
  },
  {
   "cell_type": "markdown",
   "metadata": {},
   "source": [
    "**TruncatedSVD**"
   ]
  },
  {
   "cell_type": "code",
   "execution_count": null,
   "metadata": {},
   "outputs": [],
   "source": [
    "svd = TruncatedSVD(n_components=15)"
   ]
  },
  {
   "cell_type": "code",
   "execution_count": null,
   "metadata": {},
   "outputs": [],
   "source": [
    "X_train_truncated = svd.fit_transform(X_train)\n",
    "X_test_truncated = svd.fit_transform(X_test)\n",
    "X_train_truncated.shape"
   ]
  },
  {
   "cell_type": "code",
   "execution_count": null,
   "metadata": {},
   "outputs": [],
   "source": [
    "clf = linear_model.LogisticRegressionCV()\n",
    "runCV(clf, X_train_truncated, y_train, X_test_truncated, 7)"
   ]
  },
  {
   "cell_type": "code",
   "execution_count": null,
   "metadata": {},
   "outputs": [],
   "source": [
    "clf.predict(svd.fit_transform(X_test))"
   ]
  }
 ],
 "metadata": {
  "kernelspec": {
   "display_name": "Python [conda root]",
   "language": "python",
   "name": "conda-root-py"
  },
  "language_info": {
   "codemirror_mode": {
    "name": "ipython",
    "version": 3
   },
   "file_extension": ".py",
   "mimetype": "text/x-python",
   "name": "python",
   "nbconvert_exporter": "python",
   "pygments_lexer": "ipython3",
   "version": "3.6.1"
  }
 },
 "nbformat": 4,
 "nbformat_minor": 2
}
