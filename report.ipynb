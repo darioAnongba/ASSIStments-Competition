{
 "cells": [
  {
   "cell_type": "markdown",
   "metadata": {},
   "source": [
    "# ASSISTments Data Mining Competition 2017 - Optional Semester Project"
   ]
  },
  {
   "cell_type": "markdown",
   "metadata": {},
   "source": [
    "## Imports and constants"
   ]
  },
  {
   "cell_type": "code",
   "execution_count": 1,
   "metadata": {},
   "outputs": [],
   "source": [
    "import pandas as pd\n",
    "import numpy as np\n",
    "\n",
    "from sklearn import svm\n",
    "from sklearn.linear_model import LogisticRegressionCV\n",
    "from sklearn import metrics, linear_model\n",
    "from sklearn.ensemble import RandomForestClassifier\n",
    "from sklearn.model_selection import cross_val_score, cross_val_predict, cross_validate\n",
    "from sklearn.decomposition import PCA, TruncatedSVD\n",
    "\n",
    "DATA_DIR = 'Data/'\n",
    "SCORING = ['accuracy', 'roc_auc', 'neg_mean_squared_error']"
   ]
  },
  {
   "cell_type": "markdown",
   "metadata": {},
   "source": [
    "## Loading the data"
   ]
  },
  {
   "cell_type": "markdown",
   "metadata": {},
   "source": [
    "We create a DataFrame with all the students logs information"
   ]
  },
  {
   "cell_type": "code",
   "execution_count": 2,
   "metadata": {},
   "outputs": [
    {
     "name": "stderr",
     "output_type": "stream",
     "text": [
      "/home/dario/anaconda3/lib/python3.6/site-packages/IPython/core/interactiveshell.py:2850: DtypeWarning: Columns (74,75) have mixed types. Specify dtype option on import or set low_memory=False.\n",
      "  if self.run_code(code, result):\n"
     ]
    }
   ],
   "source": [
    "student_logs = pd.concat([\n",
    "    pd.read_csv(DATA_DIR + 'student_log_' + str(i) + '.csv') for i in range(1, 11)\n",
    "], ignore_index=True)"
   ]
  },
  {
   "cell_type": "markdown",
   "metadata": {},
   "source": [
    "A DataFrame with train labels with index as the ITEST_id and we also drop duplicates\n",
    "And a DataFrame with test labels with an index on ITEST_id"
   ]
  },
  {
   "cell_type": "code",
   "execution_count": 3,
   "metadata": {},
   "outputs": [],
   "source": [
    "train_labels = pd.read_csv('Data/training_label.csv', index_col='ITEST_id')\n",
    "train_labels.drop_duplicates(subset=None, keep='first', inplace=True)\n",
    "\n",
    "test_labels = pd.read_csv(DATA_DIR + 'validation_test_label.csv', index_col='ITEST_id')"
   ]
  },
  {
   "cell_type": "code",
   "execution_count": 4,
   "metadata": {},
   "outputs": [
    {
     "name": "stdout",
     "output_type": "stream",
     "text": [
      "(467, 4)\n"
     ]
    },
    {
     "data": {
      "text/html": [
       "<div>\n",
       "<style>\n",
       "    .dataframe thead tr:only-child th {\n",
       "        text-align: right;\n",
       "    }\n",
       "\n",
       "    .dataframe thead th {\n",
       "        text-align: left;\n",
       "    }\n",
       "\n",
       "    .dataframe tbody tr th {\n",
       "        vertical-align: top;\n",
       "    }\n",
       "</style>\n",
       "<table border=\"1\" class=\"dataframe\">\n",
       "  <thead>\n",
       "    <tr style=\"text-align: right;\">\n",
       "      <th></th>\n",
       "      <th>SchoolId</th>\n",
       "      <th>AveCorrect</th>\n",
       "      <th>MCAS</th>\n",
       "      <th>isSTEM</th>\n",
       "    </tr>\n",
       "    <tr>\n",
       "      <th>ITEST_id</th>\n",
       "      <th></th>\n",
       "      <th></th>\n",
       "      <th></th>\n",
       "      <th></th>\n",
       "    </tr>\n",
       "  </thead>\n",
       "  <tbody>\n",
       "    <tr>\n",
       "      <th>9</th>\n",
       "      <td>2</td>\n",
       "      <td>0.438492</td>\n",
       "      <td>32</td>\n",
       "      <td>1</td>\n",
       "    </tr>\n",
       "    <tr>\n",
       "      <th>27</th>\n",
       "      <td>1</td>\n",
       "      <td>0.348837</td>\n",
       "      <td>21</td>\n",
       "      <td>0</td>\n",
       "    </tr>\n",
       "    <tr>\n",
       "      <th>33</th>\n",
       "      <td>2</td>\n",
       "      <td>0.686391</td>\n",
       "      <td>52</td>\n",
       "      <td>0</td>\n",
       "    </tr>\n",
       "    <tr>\n",
       "      <th>35</th>\n",
       "      <td>2</td>\n",
       "      <td>0.379658</td>\n",
       "      <td>34</td>\n",
       "      <td>0</td>\n",
       "    </tr>\n",
       "    <tr>\n",
       "      <th>37</th>\n",
       "      <td>3</td>\n",
       "      <td>0.305785</td>\n",
       "      <td>-999</td>\n",
       "      <td>0</td>\n",
       "    </tr>\n",
       "  </tbody>\n",
       "</table>\n",
       "</div>"
      ],
      "text/plain": [
       "          SchoolId  AveCorrect  MCAS  isSTEM\n",
       "ITEST_id                                    \n",
       "9                2    0.438492    32       1\n",
       "27               1    0.348837    21       0\n",
       "33               2    0.686391    52       0\n",
       "35               2    0.379658    34       0\n",
       "37               3    0.305785  -999       0"
      ]
     },
     "execution_count": 4,
     "metadata": {},
     "output_type": "execute_result"
    }
   ],
   "source": [
    "print(train_labels.shape)\n",
    "train_labels.head()"
   ]
  },
  {
   "cell_type": "code",
   "execution_count": 5,
   "metadata": {},
   "outputs": [
    {
     "name": "stdout",
     "output_type": "stream",
     "text": [
      "(172, 3)\n"
     ]
    },
    {
     "data": {
      "text/html": [
       "<div>\n",
       "<style>\n",
       "    .dataframe thead tr:only-child th {\n",
       "        text-align: right;\n",
       "    }\n",
       "\n",
       "    .dataframe thead th {\n",
       "        text-align: left;\n",
       "    }\n",
       "\n",
       "    .dataframe tbody tr th {\n",
       "        vertical-align: top;\n",
       "    }\n",
       "</style>\n",
       "<table border=\"1\" class=\"dataframe\">\n",
       "  <thead>\n",
       "    <tr style=\"text-align: right;\">\n",
       "      <th></th>\n",
       "      <th>SchoolId</th>\n",
       "      <th>AveCorrect</th>\n",
       "      <th>MCAS</th>\n",
       "    </tr>\n",
       "    <tr>\n",
       "      <th>ITEST_id</th>\n",
       "      <th></th>\n",
       "      <th></th>\n",
       "      <th></th>\n",
       "    </tr>\n",
       "  </thead>\n",
       "  <tbody>\n",
       "    <tr>\n",
       "      <th>9</th>\n",
       "      <td>2</td>\n",
       "      <td>0.438492</td>\n",
       "      <td>32</td>\n",
       "    </tr>\n",
       "    <tr>\n",
       "      <th>101</th>\n",
       "      <td>4</td>\n",
       "      <td>0.403553</td>\n",
       "      <td>29</td>\n",
       "    </tr>\n",
       "    <tr>\n",
       "      <th>161</th>\n",
       "      <td>1</td>\n",
       "      <td>0.483425</td>\n",
       "      <td>40</td>\n",
       "    </tr>\n",
       "    <tr>\n",
       "      <th>164</th>\n",
       "      <td>2</td>\n",
       "      <td>0.256983</td>\n",
       "      <td>9</td>\n",
       "    </tr>\n",
       "    <tr>\n",
       "      <th>176</th>\n",
       "      <td>2</td>\n",
       "      <td>0.575949</td>\n",
       "      <td>50</td>\n",
       "    </tr>\n",
       "  </tbody>\n",
       "</table>\n",
       "</div>"
      ],
      "text/plain": [
       "          SchoolId  AveCorrect  MCAS\n",
       "ITEST_id                            \n",
       "9                2    0.438492    32\n",
       "101              4    0.403553    29\n",
       "161              1    0.483425    40\n",
       "164              2    0.256983     9\n",
       "176              2    0.575949    50"
      ]
     },
     "execution_count": 5,
     "metadata": {},
     "output_type": "execute_result"
    }
   ],
   "source": [
    "print(test_labels.shape)\n",
    "test_labels.head()"
   ]
  },
  {
   "cell_type": "markdown",
   "metadata": {},
   "source": [
    "## Feature engineering"
   ]
  },
  {
   "cell_type": "markdown",
   "metadata": {},
   "source": [
    "We take the mean of the values grouped by student id and put 0 values instead NA values."
   ]
  },
  {
   "cell_type": "code",
   "execution_count": 6,
   "metadata": {},
   "outputs": [
    {
     "name": "stdout",
     "output_type": "stream",
     "text": [
      "(1709, 71)\n"
     ]
    },
    {
     "data": {
      "text/html": [
       "<div>\n",
       "<style>\n",
       "    .dataframe thead tr:only-child th {\n",
       "        text-align: right;\n",
       "    }\n",
       "\n",
       "    .dataframe thead th {\n",
       "        text-align: left;\n",
       "    }\n",
       "\n",
       "    .dataframe tbody tr th {\n",
       "        vertical-align: top;\n",
       "    }\n",
       "</style>\n",
       "<table border=\"1\" class=\"dataframe\">\n",
       "  <thead>\n",
       "    <tr style=\"text-align: right;\">\n",
       "      <th></th>\n",
       "      <th>AveCarelessness</th>\n",
       "      <th>AveCorrect</th>\n",
       "      <th>AveKnow</th>\n",
       "      <th>AveResBored</th>\n",
       "      <th>AveResConf</th>\n",
       "      <th>AveResEngcon</th>\n",
       "      <th>AveResFrust</th>\n",
       "      <th>AveResGaming</th>\n",
       "      <th>AveResOfftask</th>\n",
       "      <th>NumActions</th>\n",
       "      <th>...</th>\n",
       "      <th>timeOver80</th>\n",
       "      <th>timeSinceSkill</th>\n",
       "      <th>timeTaken</th>\n",
       "      <th>totalFrAttempted</th>\n",
       "      <th>totalFrPastWrongCount</th>\n",
       "      <th>totalFrPercentPastWrong</th>\n",
       "      <th>totalFrSkillOpportunities</th>\n",
       "      <th>totalFrSkillOpportunitiesByScaffolding</th>\n",
       "      <th>totalFrTimeOnSkill</th>\n",
       "      <th>totalTimeByPercentCorrectForskill</th>\n",
       "    </tr>\n",
       "    <tr>\n",
       "      <th>ITEST_id</th>\n",
       "      <th></th>\n",
       "      <th></th>\n",
       "      <th></th>\n",
       "      <th></th>\n",
       "      <th></th>\n",
       "      <th></th>\n",
       "      <th></th>\n",
       "      <th></th>\n",
       "      <th></th>\n",
       "      <th></th>\n",
       "      <th></th>\n",
       "      <th></th>\n",
       "      <th></th>\n",
       "      <th></th>\n",
       "      <th></th>\n",
       "      <th></th>\n",
       "      <th></th>\n",
       "      <th></th>\n",
       "      <th></th>\n",
       "      <th></th>\n",
       "      <th></th>\n",
       "    </tr>\n",
       "  </thead>\n",
       "  <tbody>\n",
       "    <tr>\n",
       "      <th>8</th>\n",
       "      <td>0.183276</td>\n",
       "      <td>0.483902</td>\n",
       "      <td>0.352416</td>\n",
       "      <td>0.208389</td>\n",
       "      <td>0.115905</td>\n",
       "      <td>0.679126</td>\n",
       "      <td>0.112408</td>\n",
       "      <td>0.196561</td>\n",
       "      <td>0.156503</td>\n",
       "      <td>1056.0</td>\n",
       "      <td>...</td>\n",
       "      <td>0.049242</td>\n",
       "      <td>1.208484e+06</td>\n",
       "      <td>22.264205</td>\n",
       "      <td>317.567235</td>\n",
       "      <td>1.254735</td>\n",
       "      <td>0.207548</td>\n",
       "      <td>6.567235</td>\n",
       "      <td>1.149585</td>\n",
       "      <td>202.714962</td>\n",
       "      <td>835.534599</td>\n",
       "    </tr>\n",
       "    <tr>\n",
       "      <th>9</th>\n",
       "      <td>0.099734</td>\n",
       "      <td>0.438492</td>\n",
       "      <td>0.185138</td>\n",
       "      <td>0.277149</td>\n",
       "      <td>0.098078</td>\n",
       "      <td>0.644744</td>\n",
       "      <td>0.162771</td>\n",
       "      <td>0.005554</td>\n",
       "      <td>0.213378</td>\n",
       "      <td>504.0</td>\n",
       "      <td>...</td>\n",
       "      <td>0.138889</td>\n",
       "      <td>5.742044e+05</td>\n",
       "      <td>42.494048</td>\n",
       "      <td>127.646825</td>\n",
       "      <td>1.234127</td>\n",
       "      <td>0.236869</td>\n",
       "      <td>5.269841</td>\n",
       "      <td>0.883345</td>\n",
       "      <td>311.454365</td>\n",
       "      <td>1639.285807</td>\n",
       "    </tr>\n",
       "    <tr>\n",
       "      <th>11</th>\n",
       "      <td>0.090318</td>\n",
       "      <td>0.326957</td>\n",
       "      <td>0.124832</td>\n",
       "      <td>0.262076</td>\n",
       "      <td>0.147169</td>\n",
       "      <td>0.643418</td>\n",
       "      <td>0.118977</td>\n",
       "      <td>0.083459</td>\n",
       "      <td>0.208981</td>\n",
       "      <td>575.0</td>\n",
       "      <td>...</td>\n",
       "      <td>0.132174</td>\n",
       "      <td>5.748212e+05</td>\n",
       "      <td>46.958261</td>\n",
       "      <td>126.706087</td>\n",
       "      <td>1.092174</td>\n",
       "      <td>0.288723</td>\n",
       "      <td>4.066087</td>\n",
       "      <td>0.914445</td>\n",
       "      <td>446.502609</td>\n",
       "      <td>2712.019060</td>\n",
       "    </tr>\n",
       "    <tr>\n",
       "      <th>25</th>\n",
       "      <td>0.165527</td>\n",
       "      <td>0.476718</td>\n",
       "      <td>0.284904</td>\n",
       "      <td>0.261453</td>\n",
       "      <td>0.137153</td>\n",
       "      <td>0.660054</td>\n",
       "      <td>0.087906</td>\n",
       "      <td>0.016774</td>\n",
       "      <td>0.227680</td>\n",
       "      <td>451.0</td>\n",
       "      <td>...</td>\n",
       "      <td>0.135255</td>\n",
       "      <td>6.393416e+05</td>\n",
       "      <td>42.835920</td>\n",
       "      <td>132.569845</td>\n",
       "      <td>1.199557</td>\n",
       "      <td>0.288261</td>\n",
       "      <td>5.372506</td>\n",
       "      <td>0.977675</td>\n",
       "      <td>329.567627</td>\n",
       "      <td>1640.829868</td>\n",
       "    </tr>\n",
       "    <tr>\n",
       "      <th>27</th>\n",
       "      <td>0.069297</td>\n",
       "      <td>0.348837</td>\n",
       "      <td>0.142031</td>\n",
       "      <td>0.330226</td>\n",
       "      <td>0.122658</td>\n",
       "      <td>0.551367</td>\n",
       "      <td>0.095420</td>\n",
       "      <td>0.036900</td>\n",
       "      <td>0.348090</td>\n",
       "      <td>129.0</td>\n",
       "      <td>...</td>\n",
       "      <td>0.271318</td>\n",
       "      <td>1.251708e+05</td>\n",
       "      <td>92.457364</td>\n",
       "      <td>33.333333</td>\n",
       "      <td>1.519380</td>\n",
       "      <td>0.315728</td>\n",
       "      <td>2.534884</td>\n",
       "      <td>0.819767</td>\n",
       "      <td>823.953488</td>\n",
       "      <td>5476.928203</td>\n",
       "    </tr>\n",
       "  </tbody>\n",
       "</table>\n",
       "<p>5 rows × 71 columns</p>\n",
       "</div>"
      ],
      "text/plain": [
       "          AveCarelessness  AveCorrect   AveKnow  AveResBored  AveResConf  \\\n",
       "ITEST_id                                                                   \n",
       "8                0.183276    0.483902  0.352416     0.208389    0.115905   \n",
       "9                0.099734    0.438492  0.185138     0.277149    0.098078   \n",
       "11               0.090318    0.326957  0.124832     0.262076    0.147169   \n",
       "25               0.165527    0.476718  0.284904     0.261453    0.137153   \n",
       "27               0.069297    0.348837  0.142031     0.330226    0.122658   \n",
       "\n",
       "          AveResEngcon  AveResFrust  AveResGaming  AveResOfftask  NumActions  \\\n",
       "ITEST_id                                                                       \n",
       "8             0.679126     0.112408      0.196561       0.156503      1056.0   \n",
       "9             0.644744     0.162771      0.005554       0.213378       504.0   \n",
       "11            0.643418     0.118977      0.083459       0.208981       575.0   \n",
       "25            0.660054     0.087906      0.016774       0.227680       451.0   \n",
       "27            0.551367     0.095420      0.036900       0.348090       129.0   \n",
       "\n",
       "                        ...                  timeOver80  timeSinceSkill  \\\n",
       "ITEST_id                ...                                               \n",
       "8                       ...                    0.049242    1.208484e+06   \n",
       "9                       ...                    0.138889    5.742044e+05   \n",
       "11                      ...                    0.132174    5.748212e+05   \n",
       "25                      ...                    0.135255    6.393416e+05   \n",
       "27                      ...                    0.271318    1.251708e+05   \n",
       "\n",
       "          timeTaken  totalFrAttempted  totalFrPastWrongCount  \\\n",
       "ITEST_id                                                       \n",
       "8         22.264205        317.567235               1.254735   \n",
       "9         42.494048        127.646825               1.234127   \n",
       "11        46.958261        126.706087               1.092174   \n",
       "25        42.835920        132.569845               1.199557   \n",
       "27        92.457364         33.333333               1.519380   \n",
       "\n",
       "          totalFrPercentPastWrong  totalFrSkillOpportunities  \\\n",
       "ITEST_id                                                       \n",
       "8                        0.207548                   6.567235   \n",
       "9                        0.236869                   5.269841   \n",
       "11                       0.288723                   4.066087   \n",
       "25                       0.288261                   5.372506   \n",
       "27                       0.315728                   2.534884   \n",
       "\n",
       "          totalFrSkillOpportunitiesByScaffolding  totalFrTimeOnSkill  \\\n",
       "ITEST_id                                                               \n",
       "8                                       1.149585          202.714962   \n",
       "9                                       0.883345          311.454365   \n",
       "11                                      0.914445          446.502609   \n",
       "25                                      0.977675          329.567627   \n",
       "27                                      0.819767          823.953488   \n",
       "\n",
       "          totalTimeByPercentCorrectForskill  \n",
       "ITEST_id                                     \n",
       "8                                835.534599  \n",
       "9                               1639.285807  \n",
       "11                              2712.019060  \n",
       "25                              1640.829868  \n",
       "27                              5476.928203  \n",
       "\n",
       "[5 rows x 71 columns]"
      ]
     },
     "execution_count": 6,
     "metadata": {},
     "output_type": "execute_result"
    }
   ],
   "source": [
    "students_features = student_logs.groupby('ITEST_id').mean()\n",
    "students_features = students_features.fillna(0)\n",
    "print(students_features.shape)\n",
    "students_features.head()"
   ]
  },
  {
   "cell_type": "markdown",
   "metadata": {},
   "source": [
    "## Algorithms"
   ]
  },
  {
   "cell_type": "code",
   "execution_count": 47,
   "metadata": {},
   "outputs": [],
   "source": [
    "def runCV(clf, X_train, y_train, X_test, k):\n",
    "    print_scores(cross_validate(clf, X_train, y_train, cv=k, scoring=SCORING, return_train_score=False))\n",
    "    clf.fit(X_train, y_train)\n",
    "    print_prediction(clf.predict(X_test))"
   ]
  },
  {
   "cell_type": "code",
   "execution_count": 8,
   "metadata": {},
   "outputs": [],
   "source": [
    "def print_scores(scores):\n",
    "    print('Scores')\n",
    "    print(\"Accuracy: %0.2f (+/- %0.2f)\" % (scores['test_accuracy'].mean(), scores['test_accuracy'].std() * 2))\n",
    "    print(\"AUC: %0.2f (+/- %0.2f)\" % (scores['test_roc_auc'].mean(), scores['test_roc_auc'].std() * 2))\n",
    "    print(\"RMSE: %0.2f (+/- %0.2f)\" % (np.sqrt(-scores['test_neg_mean_squared_error']).mean(), scores['test_neg_mean_squared_error'].std() * 2))"
   ]
  },
  {
   "cell_type": "code",
   "execution_count": 58,
   "metadata": {},
   "outputs": [],
   "source": [
    "def print_prediction(prediction):\n",
    "    for pred in prediction:\n",
    "        print(pred, end=',')"
   ]
  },
  {
   "cell_type": "markdown",
   "metadata": {},
   "source": [
    "We make our training and test data from the students logs and the train_labels file"
   ]
  },
  {
   "cell_type": "code",
   "execution_count": 9,
   "metadata": {},
   "outputs": [],
   "source": [
    "train_ids = train_labels.index.tolist()\n",
    "X_train = np.array([np.array(students_features.loc[student_id].tolist(), dtype=float) for student_id in train_ids])\n",
    "y_train = np.array([train_labels['isSTEM'].loc[student_id] for student_id in train_ids])"
   ]
  },
  {
   "cell_type": "markdown",
   "metadata": {},
   "source": [
    "And our test data similarly"
   ]
  },
  {
   "cell_type": "code",
   "execution_count": 10,
   "metadata": {},
   "outputs": [],
   "source": [
    "test_ids = test_labels.index.tolist()\n",
    "X_test = np.array([np.array(students_features.loc[student_id].tolist(), dtype=float) for student_id in test_ids])"
   ]
  },
  {
   "cell_type": "markdown",
   "metadata": {},
   "source": [
    "### Linear Support vector machine (SVM)"
   ]
  },
  {
   "cell_type": "markdown",
   "metadata": {},
   "source": [
    "We start by fitting the data to a SVM model"
   ]
  },
  {
   "cell_type": "code",
   "execution_count": 59,
   "metadata": {},
   "outputs": [
    {
     "name": "stdout",
     "output_type": "stream",
     "text": [
      "Scores\n",
      "Accuracy: 0.75 (+/- 0.01)\n",
      "AUC: 0.50 (+/- 0.00)\n",
      "RMSE: 0.50 (+/- 0.01)\n",
      "1,0,0,0,1,1,0,0,1,0,0,0,0,0,1,0,0,0,0,0,0,0,0,0,0,0,0,0,0,0,0,0,0,0,0,0,0,0,0,0,0,1,0,0,0,0,0,0,1,0,1,0,1,0,0,1,0,0,0,1,0,1,1,0,0,1,0,1,1,0,1,0,1,0,1,0,0,1,0,1,1,1,0,0,1,1,0,0,0,0,0,0,1,0,1,1,0,1,0,0,1,1,0,1,0,1,0,0,1,0,0,0,0,0,1,1,0,1,0,0,0,0,0,0,0,0,0,0,0,0,0,0,0,1,0,0,1,1,0,0,0,0,0,0,1,0,0,0,0,1,0,0,1,1,0,0,0,0,0,0,0,0,0,0,0,1,0,0,0,1,1,1,"
     ]
    }
   ],
   "source": [
    "clf = svm.SVC(C=1)\n",
    "runCV(clf, X_train, y_train, X_test, 7)"
   ]
  },
  {
   "cell_type": "markdown",
   "metadata": {},
   "source": [
    "### Logistic Regression"
   ]
  },
  {
   "cell_type": "code",
   "execution_count": 60,
   "metadata": {},
   "outputs": [
    {
     "name": "stdout",
     "output_type": "stream",
     "text": [
      "Scores\n",
      "Accuracy: 0.74 (+/- 0.03)\n",
      "AUC: 0.63 (+/- 0.11)\n",
      "RMSE: 0.51 (+/- 0.03)\n",
      "0,0,0,0,0,0,0,0,0,0,0,0,0,0,0,0,0,0,0,0,0,1,0,0,0,0,0,0,0,0,0,0,0,0,0,0,0,0,0,0,0,0,0,0,0,0,0,0,0,0,0,0,0,0,0,0,0,0,0,0,0,0,0,0,0,0,0,0,0,0,1,0,0,0,0,0,0,0,0,0,0,0,0,0,0,0,0,0,0,1,0,0,0,0,0,0,0,0,0,0,0,0,0,0,0,0,0,0,0,0,0,0,0,0,0,1,0,0,0,0,1,0,0,0,0,0,0,0,0,0,0,0,0,0,0,0,0,0,0,0,0,0,0,0,0,0,0,0,0,0,0,0,0,0,0,0,0,0,0,0,0,0,0,0,0,0,0,0,0,0,0,0,"
     ]
    }
   ],
   "source": [
    "clf = linear_model.LogisticRegressionCV(Cs=[1e-4, 1e-3, 1e-2, 1e-1, 1, 1e2, 1e3, 1e4])\n",
    "runCV(clf, X_train, y_train, X_test, 7)"
   ]
  },
  {
   "cell_type": "markdown",
   "metadata": {},
   "source": [
    "### Random Forest"
   ]
  },
  {
   "cell_type": "code",
   "execution_count": 61,
   "metadata": {},
   "outputs": [
    {
     "name": "stdout",
     "output_type": "stream",
     "text": [
      "Scores\n",
      "Accuracy: 0.70 (+/- 0.04)\n",
      "AUC: 0.53 (+/- 0.14)\n",
      "RMSE: 0.55 (+/- 0.04)\n",
      "1,0,0,0,1,1,0,1,1,0,0,0,0,1,1,0,1,0,0,0,0,0,1,0,0,0,0,0,0,0,0,0,0,0,0,0,0,0,0,1,1,0,0,0,0,0,0,0,1,0,1,0,1,0,0,1,0,0,0,1,0,0,0,0,0,0,0,1,1,0,1,0,1,0,0,0,0,1,0,1,1,1,0,0,1,1,0,0,0,0,0,0,1,0,1,1,0,1,0,0,1,1,0,0,0,1,0,0,1,0,0,0,0,0,1,1,0,1,0,0,0,0,1,0,0,0,0,1,0,0,0,0,0,1,0,0,1,1,0,0,0,0,0,0,1,0,0,0,0,1,0,0,1,1,0,0,0,0,0,0,0,0,0,0,0,1,0,1,0,1,1,1,"
     ]
    }
   ],
   "source": [
    "clf = RandomForestClassifier()\n",
    "runCV(clf, X_train, y_train, X_test, 7)"
   ]
  },
  {
   "cell_type": "markdown",
   "metadata": {},
   "source": [
    "### Dimensionality reduction"
   ]
  },
  {
   "cell_type": "markdown",
   "metadata": {},
   "source": [
    "**TruncatedSVD**"
   ]
  },
  {
   "cell_type": "code",
   "execution_count": 62,
   "metadata": {},
   "outputs": [],
   "source": [
    "svd = TruncatedSVD(n_components=15)"
   ]
  },
  {
   "cell_type": "code",
   "execution_count": 63,
   "metadata": {},
   "outputs": [
    {
     "data": {
      "text/plain": [
       "(467, 15)"
      ]
     },
     "execution_count": 63,
     "metadata": {},
     "output_type": "execute_result"
    }
   ],
   "source": [
    "X_train_truncated = svd.fit_transform(X_train)\n",
    "X_test_truncated = svd.fit_transform(X_test)\n",
    "X_train_truncated.shape"
   ]
  },
  {
   "cell_type": "code",
   "execution_count": 64,
   "metadata": {},
   "outputs": [
    {
     "name": "stdout",
     "output_type": "stream",
     "text": [
      "Scores\n",
      "Accuracy: 0.74 (+/- 0.03)\n",
      "AUC: 0.64 (+/- 0.12)\n",
      "RMSE: 0.51 (+/- 0.03)\n",
      "0,0,0,0,0,0,0,0,0,0,0,0,0,0,0,0,0,0,0,0,0,0,0,0,0,0,0,0,0,0,0,0,0,0,0,0,0,0,0,0,0,0,0,0,0,0,0,0,0,0,0,0,1,0,0,0,0,0,0,0,0,0,0,0,0,0,0,0,0,0,0,0,0,0,0,0,0,0,0,0,0,0,0,0,0,0,0,0,0,0,0,0,0,0,0,0,0,0,0,0,0,0,0,0,0,0,0,0,0,0,0,0,0,0,0,0,0,0,0,0,0,0,0,0,0,0,0,0,0,0,0,0,0,0,0,0,0,0,0,0,0,0,0,0,0,0,0,0,0,0,0,0,0,0,0,0,1,0,0,0,0,0,0,0,0,0,0,0,0,0,0,0,"
     ]
    }
   ],
   "source": [
    "clf = linear_model.LogisticRegressionCV()\n",
    "runCV(clf, X_train_truncated, y_train, X_test_truncated, 7)"
   ]
  },
  {
   "cell_type": "code",
   "execution_count": null,
   "metadata": {},
   "outputs": [],
   "source": [
    "clf.predict(svd.fit_transform(X_test))"
   ]
  }
 ],
 "metadata": {
  "kernelspec": {
   "display_name": "Python [conda root]",
   "language": "python",
   "name": "conda-root-py"
  },
  "language_info": {
   "codemirror_mode": {
    "name": "ipython",
    "version": 3
   },
   "file_extension": ".py",
   "mimetype": "text/x-python",
   "name": "python",
   "nbconvert_exporter": "python",
   "pygments_lexer": "ipython3",
   "version": "3.6.1"
  }
 },
 "nbformat": 4,
 "nbformat_minor": 2
}
