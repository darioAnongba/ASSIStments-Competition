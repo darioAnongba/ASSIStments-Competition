{
 "cells": [
  {
   "cell_type": "markdown",
   "metadata": {},
   "source": [
    "# ASSISTments Data Mining Competition 2017 - Optional Semester Project"
   ]
  },
  {
   "cell_type": "markdown",
   "metadata": {},
   "source": [
    "## Imports and constants"
   ]
  },
  {
   "cell_type": "code",
   "execution_count": 1,
   "metadata": {},
   "outputs": [
    {
     "name": "stderr",
     "output_type": "stream",
     "text": [
      "/home/dario/anaconda3/lib/python3.6/site-packages/sklearn/cross_validation.py:41: DeprecationWarning: This module was deprecated in version 0.18 in favor of the model_selection module into which all the refactored classes and functions are moved. Also note that the interface of the new CV iterators are different from that of this module. This module will be removed in 0.20.\n",
      "  \"This module will be removed in 0.20.\", DeprecationWarning)\n"
     ]
    }
   ],
   "source": [
    "import pandas as pd\n",
    "import numpy as np\n",
    "\n",
    "from sklearn import svm\n",
    "from sklearn.linear_model import LogisticRegressionCV\n",
    "from sklearn import metrics, linear_model\n",
    "from sklearn.ensemble import RandomForestClassifier\n",
    "from sklearn.model_selection import cross_val_score, cross_val_predict, cross_validate\n",
    "from sklearn.decomposition import PCA, TruncatedSVD\n",
    "import xgboost as xgb\n",
    "\n",
    "DATA_DIR = 'Data/'\n",
    "SCORING = ['accuracy', 'roc_auc', 'neg_mean_squared_error']"
   ]
  },
  {
   "cell_type": "markdown",
   "metadata": {},
   "source": [
    "## Loading the data"
   ]
  },
  {
   "cell_type": "markdown",
   "metadata": {},
   "source": [
    "We create a DataFrame with all the students logs information"
   ]
  },
  {
   "cell_type": "code",
   "execution_count": 2,
   "metadata": {},
   "outputs": [
    {
     "data": {
      "text/html": [
       "<div>\n",
       "<style>\n",
       "    .dataframe thead tr:only-child th {\n",
       "        text-align: right;\n",
       "    }\n",
       "\n",
       "    .dataframe thead th {\n",
       "        text-align: left;\n",
       "    }\n",
       "\n",
       "    .dataframe tbody tr th {\n",
       "        vertical-align: top;\n",
       "    }\n",
       "</style>\n",
       "<table border=\"1\" class=\"dataframe\">\n",
       "  <thead>\n",
       "    <tr style=\"text-align: right;\">\n",
       "      <th></th>\n",
       "      <th>ITEST_id</th>\n",
       "      <th>SY ASSISTments Usage</th>\n",
       "      <th>AveKnow</th>\n",
       "      <th>AveCarelessness</th>\n",
       "      <th>AveCorrect</th>\n",
       "      <th>NumActions</th>\n",
       "      <th>AveResBored</th>\n",
       "      <th>AveResEngcon</th>\n",
       "      <th>AveResConf</th>\n",
       "      <th>AveResFrust</th>\n",
       "      <th>...</th>\n",
       "      <th>confidence(CONFUSED)</th>\n",
       "      <th>confidence(FRUSTRATED)</th>\n",
       "      <th>confidence(OFF TASK)</th>\n",
       "      <th>confidence(GAMING)</th>\n",
       "      <th>RES_BORED</th>\n",
       "      <th>RES_CONCENTRATING</th>\n",
       "      <th>RES_CONFUSED</th>\n",
       "      <th>RES_FRUSTRATED</th>\n",
       "      <th>RES_OFFTASK</th>\n",
       "      <th>RES_GAMING</th>\n",
       "    </tr>\n",
       "  </thead>\n",
       "  <tbody>\n",
       "    <tr>\n",
       "      <th>184889</th>\n",
       "      <td>9</td>\n",
       "      <td>1</td>\n",
       "      <td>0.185138</td>\n",
       "      <td>0.099734</td>\n",
       "      <td>0.438492</td>\n",
       "      <td>504</td>\n",
       "      <td>0.277149</td>\n",
       "      <td>0.644744</td>\n",
       "      <td>0.098078</td>\n",
       "      <td>0.162771</td>\n",
       "      <td>...</td>\n",
       "      <td>0.000000</td>\n",
       "      <td>0.000000</td>\n",
       "      <td>0.838710</td>\n",
       "      <td>0.008522</td>\n",
       "      <td>0.376427</td>\n",
       "      <td>0.320317</td>\n",
       "      <td>0.000000</td>\n",
       "      <td>0.000000</td>\n",
       "      <td>0.785585</td>\n",
       "      <td>0.000264</td>\n",
       "    </tr>\n",
       "    <tr>\n",
       "      <th>184890</th>\n",
       "      <td>9</td>\n",
       "      <td>1</td>\n",
       "      <td>0.185138</td>\n",
       "      <td>0.099734</td>\n",
       "      <td>0.438492</td>\n",
       "      <td>504</td>\n",
       "      <td>0.277149</td>\n",
       "      <td>0.644744</td>\n",
       "      <td>0.098078</td>\n",
       "      <td>0.162771</td>\n",
       "      <td>...</td>\n",
       "      <td>0.000000</td>\n",
       "      <td>0.091463</td>\n",
       "      <td>0.000000</td>\n",
       "      <td>0.047821</td>\n",
       "      <td>0.156027</td>\n",
       "      <td>0.225154</td>\n",
       "      <td>0.000000</td>\n",
       "      <td>0.009561</td>\n",
       "      <td>0.000000</td>\n",
       "      <td>0.001483</td>\n",
       "    </tr>\n",
       "    <tr>\n",
       "      <th>184891</th>\n",
       "      <td>9</td>\n",
       "      <td>1</td>\n",
       "      <td>0.185138</td>\n",
       "      <td>0.099734</td>\n",
       "      <td>0.438492</td>\n",
       "      <td>504</td>\n",
       "      <td>0.277149</td>\n",
       "      <td>0.644744</td>\n",
       "      <td>0.098078</td>\n",
       "      <td>0.162771</td>\n",
       "      <td>...</td>\n",
       "      <td>0.000000</td>\n",
       "      <td>0.091463</td>\n",
       "      <td>0.280702</td>\n",
       "      <td>0.047821</td>\n",
       "      <td>0.156027</td>\n",
       "      <td>0.665929</td>\n",
       "      <td>0.000000</td>\n",
       "      <td>0.009561</td>\n",
       "      <td>0.149121</td>\n",
       "      <td>0.001483</td>\n",
       "    </tr>\n",
       "    <tr>\n",
       "      <th>184892</th>\n",
       "      <td>9</td>\n",
       "      <td>1</td>\n",
       "      <td>0.185138</td>\n",
       "      <td>0.099734</td>\n",
       "      <td>0.438492</td>\n",
       "      <td>504</td>\n",
       "      <td>0.277149</td>\n",
       "      <td>0.644744</td>\n",
       "      <td>0.098078</td>\n",
       "      <td>0.162771</td>\n",
       "      <td>...</td>\n",
       "      <td>0.000000</td>\n",
       "      <td>0.091463</td>\n",
       "      <td>0.600000</td>\n",
       "      <td>0.047821</td>\n",
       "      <td>0.156027</td>\n",
       "      <td>0.780156</td>\n",
       "      <td>0.000000</td>\n",
       "      <td>0.009561</td>\n",
       "      <td>0.468252</td>\n",
       "      <td>0.001483</td>\n",
       "    </tr>\n",
       "    <tr>\n",
       "      <th>184893</th>\n",
       "      <td>9</td>\n",
       "      <td>1</td>\n",
       "      <td>0.185138</td>\n",
       "      <td>0.099734</td>\n",
       "      <td>0.438492</td>\n",
       "      <td>504</td>\n",
       "      <td>0.277149</td>\n",
       "      <td>0.644744</td>\n",
       "      <td>0.098078</td>\n",
       "      <td>0.162771</td>\n",
       "      <td>...</td>\n",
       "      <td>0.378151</td>\n",
       "      <td>0.000000</td>\n",
       "      <td>0.578947</td>\n",
       "      <td>0.186970</td>\n",
       "      <td>0.376427</td>\n",
       "      <td>0.195349</td>\n",
       "      <td>0.060808</td>\n",
       "      <td>0.000000</td>\n",
       "      <td>0.440265</td>\n",
       "      <td>0.005797</td>\n",
       "    </tr>\n",
       "  </tbody>\n",
       "</table>\n",
       "<p>5 rows × 71 columns</p>\n",
       "</div>"
      ],
      "text/plain": [
       "        ITEST_id  SY ASSISTments Usage   AveKnow  AveCarelessness  AveCorrect  \\\n",
       "184889         9                     1  0.185138         0.099734    0.438492   \n",
       "184890         9                     1  0.185138         0.099734    0.438492   \n",
       "184891         9                     1  0.185138         0.099734    0.438492   \n",
       "184892         9                     1  0.185138         0.099734    0.438492   \n",
       "184893         9                     1  0.185138         0.099734    0.438492   \n",
       "\n",
       "        NumActions  AveResBored  AveResEngcon  AveResConf  AveResFrust  \\\n",
       "184889         504     0.277149      0.644744    0.098078     0.162771   \n",
       "184890         504     0.277149      0.644744    0.098078     0.162771   \n",
       "184891         504     0.277149      0.644744    0.098078     0.162771   \n",
       "184892         504     0.277149      0.644744    0.098078     0.162771   \n",
       "184893         504     0.277149      0.644744    0.098078     0.162771   \n",
       "\n",
       "           ...      confidence(CONFUSED)  confidence(FRUSTRATED)  \\\n",
       "184889     ...                  0.000000                0.000000   \n",
       "184890     ...                  0.000000                0.091463   \n",
       "184891     ...                  0.000000                0.091463   \n",
       "184892     ...                  0.000000                0.091463   \n",
       "184893     ...                  0.378151                0.000000   \n",
       "\n",
       "        confidence(OFF TASK)  confidence(GAMING)  RES_BORED  \\\n",
       "184889              0.838710            0.008522   0.376427   \n",
       "184890              0.000000            0.047821   0.156027   \n",
       "184891              0.280702            0.047821   0.156027   \n",
       "184892              0.600000            0.047821   0.156027   \n",
       "184893              0.578947            0.186970   0.376427   \n",
       "\n",
       "        RES_CONCENTRATING  RES_CONFUSED  RES_FRUSTRATED  RES_OFFTASK  \\\n",
       "184889           0.320317      0.000000        0.000000     0.785585   \n",
       "184890           0.225154      0.000000        0.009561     0.000000   \n",
       "184891           0.665929      0.000000        0.009561     0.149121   \n",
       "184892           0.780156      0.000000        0.009561     0.468252   \n",
       "184893           0.195349      0.060808        0.000000     0.440265   \n",
       "\n",
       "        RES_GAMING  \n",
       "184889    0.000264  \n",
       "184890    0.001483  \n",
       "184891    0.001483  \n",
       "184892    0.001483  \n",
       "184893    0.005797  \n",
       "\n",
       "[5 rows x 71 columns]"
      ]
     },
     "execution_count": 2,
     "metadata": {},
     "output_type": "execute_result"
    }
   ],
   "source": [
    "student_logs = pd.read_pickle(DATA_DIR + 'student_train_logs')\n",
    "student_test_logs = pd.read_pickle(DATA_DIR + 'student_test_logs')\n",
    "student_logs.head()"
   ]
  },
  {
   "cell_type": "markdown",
   "metadata": {},
   "source": [
    "A DataFrame with train labels with index as the ITEST_id and we also drop duplicates\n",
    "And a DataFrame with test labels with an index on ITEST_id"
   ]
  },
  {
   "cell_type": "code",
   "execution_count": 3,
   "metadata": {},
   "outputs": [],
   "source": [
    "train_labels = pd.read_csv('Data/training_label.csv', index_col='ITEST_id').sort_index()\n",
    "train_labels.drop_duplicates(subset=None, keep='first', inplace=True)\n",
    "\n",
    "test_labels = pd.read_csv(DATA_DIR + 'validation_test_label.csv', index_col='ITEST_id')\n",
    "test_labels.drop_duplicates(subset=None, keep='first', inplace=True)"
   ]
  },
  {
   "cell_type": "code",
   "execution_count": 4,
   "metadata": {},
   "outputs": [
    {
     "name": "stdout",
     "output_type": "stream",
     "text": [
      "(467, 4)\n"
     ]
    },
    {
     "data": {
      "text/html": [
       "<div>\n",
       "<style>\n",
       "    .dataframe thead tr:only-child th {\n",
       "        text-align: right;\n",
       "    }\n",
       "\n",
       "    .dataframe thead th {\n",
       "        text-align: left;\n",
       "    }\n",
       "\n",
       "    .dataframe tbody tr th {\n",
       "        vertical-align: top;\n",
       "    }\n",
       "</style>\n",
       "<table border=\"1\" class=\"dataframe\">\n",
       "  <thead>\n",
       "    <tr style=\"text-align: right;\">\n",
       "      <th></th>\n",
       "      <th>SchoolId</th>\n",
       "      <th>AveCorrect</th>\n",
       "      <th>MCAS</th>\n",
       "      <th>isSTEM</th>\n",
       "    </tr>\n",
       "    <tr>\n",
       "      <th>ITEST_id</th>\n",
       "      <th></th>\n",
       "      <th></th>\n",
       "      <th></th>\n",
       "      <th></th>\n",
       "    </tr>\n",
       "  </thead>\n",
       "  <tbody>\n",
       "    <tr>\n",
       "      <th>9</th>\n",
       "      <td>2</td>\n",
       "      <td>0.438492</td>\n",
       "      <td>32</td>\n",
       "      <td>1</td>\n",
       "    </tr>\n",
       "    <tr>\n",
       "      <th>27</th>\n",
       "      <td>1</td>\n",
       "      <td>0.348837</td>\n",
       "      <td>21</td>\n",
       "      <td>0</td>\n",
       "    </tr>\n",
       "    <tr>\n",
       "      <th>33</th>\n",
       "      <td>2</td>\n",
       "      <td>0.686391</td>\n",
       "      <td>52</td>\n",
       "      <td>0</td>\n",
       "    </tr>\n",
       "    <tr>\n",
       "      <th>35</th>\n",
       "      <td>2</td>\n",
       "      <td>0.379658</td>\n",
       "      <td>34</td>\n",
       "      <td>0</td>\n",
       "    </tr>\n",
       "    <tr>\n",
       "      <th>37</th>\n",
       "      <td>3</td>\n",
       "      <td>0.305785</td>\n",
       "      <td>-999</td>\n",
       "      <td>0</td>\n",
       "    </tr>\n",
       "  </tbody>\n",
       "</table>\n",
       "</div>"
      ],
      "text/plain": [
       "          SchoolId  AveCorrect  MCAS  isSTEM\n",
       "ITEST_id                                    \n",
       "9                2    0.438492    32       1\n",
       "27               1    0.348837    21       0\n",
       "33               2    0.686391    52       0\n",
       "35               2    0.379658    34       0\n",
       "37               3    0.305785  -999       0"
      ]
     },
     "execution_count": 4,
     "metadata": {},
     "output_type": "execute_result"
    }
   ],
   "source": [
    "print(train_labels.shape)\n",
    "train_labels.head()"
   ]
  },
  {
   "cell_type": "code",
   "execution_count": 5,
   "metadata": {},
   "outputs": [
    {
     "name": "stdout",
     "output_type": "stream",
     "text": [
      "(172, 3)\n"
     ]
    },
    {
     "data": {
      "text/html": [
       "<div>\n",
       "<style>\n",
       "    .dataframe thead tr:only-child th {\n",
       "        text-align: right;\n",
       "    }\n",
       "\n",
       "    .dataframe thead th {\n",
       "        text-align: left;\n",
       "    }\n",
       "\n",
       "    .dataframe tbody tr th {\n",
       "        vertical-align: top;\n",
       "    }\n",
       "</style>\n",
       "<table border=\"1\" class=\"dataframe\">\n",
       "  <thead>\n",
       "    <tr style=\"text-align: right;\">\n",
       "      <th></th>\n",
       "      <th>SchoolId</th>\n",
       "      <th>AveCorrect</th>\n",
       "      <th>MCAS</th>\n",
       "    </tr>\n",
       "    <tr>\n",
       "      <th>ITEST_id</th>\n",
       "      <th></th>\n",
       "      <th></th>\n",
       "      <th></th>\n",
       "    </tr>\n",
       "  </thead>\n",
       "  <tbody>\n",
       "    <tr>\n",
       "      <th>9</th>\n",
       "      <td>2</td>\n",
       "      <td>0.438492</td>\n",
       "      <td>32</td>\n",
       "    </tr>\n",
       "    <tr>\n",
       "      <th>101</th>\n",
       "      <td>4</td>\n",
       "      <td>0.403553</td>\n",
       "      <td>29</td>\n",
       "    </tr>\n",
       "    <tr>\n",
       "      <th>161</th>\n",
       "      <td>1</td>\n",
       "      <td>0.483425</td>\n",
       "      <td>40</td>\n",
       "    </tr>\n",
       "    <tr>\n",
       "      <th>164</th>\n",
       "      <td>2</td>\n",
       "      <td>0.256983</td>\n",
       "      <td>9</td>\n",
       "    </tr>\n",
       "    <tr>\n",
       "      <th>176</th>\n",
       "      <td>2</td>\n",
       "      <td>0.575949</td>\n",
       "      <td>50</td>\n",
       "    </tr>\n",
       "  </tbody>\n",
       "</table>\n",
       "</div>"
      ],
      "text/plain": [
       "          SchoolId  AveCorrect  MCAS\n",
       "ITEST_id                            \n",
       "9                2    0.438492    32\n",
       "101              4    0.403553    29\n",
       "161              1    0.483425    40\n",
       "164              2    0.256983     9\n",
       "176              2    0.575949    50"
      ]
     },
     "execution_count": 5,
     "metadata": {},
     "output_type": "execute_result"
    }
   ],
   "source": [
    "print(test_labels.shape)\n",
    "test_labels.head()"
   ]
  },
  {
   "cell_type": "markdown",
   "metadata": {},
   "source": [
    "## Balance data"
   ]
  },
  {
   "cell_type": "code",
   "execution_count": 6,
   "metadata": {},
   "outputs": [],
   "source": [
    "STEM_labels = train_labels[train_labels['isSTEM'] == 1]\n",
    "nonSTEM_labels = train_labels[train_labels['isSTEM'] == 0]"
   ]
  },
  {
   "cell_type": "code",
   "execution_count": 7,
   "metadata": {},
   "outputs": [
    {
     "data": {
      "text/html": [
       "<div>\n",
       "<style>\n",
       "    .dataframe thead tr:only-child th {\n",
       "        text-align: right;\n",
       "    }\n",
       "\n",
       "    .dataframe thead th {\n",
       "        text-align: left;\n",
       "    }\n",
       "\n",
       "    .dataframe tbody tr th {\n",
       "        vertical-align: top;\n",
       "    }\n",
       "</style>\n",
       "<table border=\"1\" class=\"dataframe\">\n",
       "  <thead>\n",
       "    <tr style=\"text-align: right;\">\n",
       "      <th></th>\n",
       "      <th>SchoolId</th>\n",
       "      <th>AveCorrect</th>\n",
       "      <th>MCAS</th>\n",
       "      <th>isSTEM</th>\n",
       "    </tr>\n",
       "    <tr>\n",
       "      <th>ITEST_id</th>\n",
       "      <th></th>\n",
       "      <th></th>\n",
       "      <th></th>\n",
       "      <th></th>\n",
       "    </tr>\n",
       "  </thead>\n",
       "  <tbody>\n",
       "    <tr>\n",
       "      <th>9</th>\n",
       "      <td>2</td>\n",
       "      <td>0.438492</td>\n",
       "      <td>32</td>\n",
       "      <td>1</td>\n",
       "    </tr>\n",
       "    <tr>\n",
       "      <th>27</th>\n",
       "      <td>1</td>\n",
       "      <td>0.348837</td>\n",
       "      <td>21</td>\n",
       "      <td>0</td>\n",
       "    </tr>\n",
       "    <tr>\n",
       "      <th>33</th>\n",
       "      <td>2</td>\n",
       "      <td>0.686391</td>\n",
       "      <td>52</td>\n",
       "      <td>0</td>\n",
       "    </tr>\n",
       "    <tr>\n",
       "      <th>35</th>\n",
       "      <td>2</td>\n",
       "      <td>0.379658</td>\n",
       "      <td>34</td>\n",
       "      <td>0</td>\n",
       "    </tr>\n",
       "    <tr>\n",
       "      <th>37</th>\n",
       "      <td>3</td>\n",
       "      <td>0.305785</td>\n",
       "      <td>-999</td>\n",
       "      <td>0</td>\n",
       "    </tr>\n",
       "  </tbody>\n",
       "</table>\n",
       "</div>"
      ],
      "text/plain": [
       "          SchoolId  AveCorrect  MCAS  isSTEM\n",
       "ITEST_id                                    \n",
       "9                2    0.438492    32       1\n",
       "27               1    0.348837    21       0\n",
       "33               2    0.686391    52       0\n",
       "35               2    0.379658    34       0\n",
       "37               3    0.305785  -999       0"
      ]
     },
     "execution_count": 7,
     "metadata": {},
     "output_type": "execute_result"
    }
   ],
   "source": [
    "nonSTEM_labels = nonSTEM_labels[:len(STEM_labels)]\n",
    "train_labels_balanced = pd.concat([nonSTEM_labels, STEM_labels])\n",
    "train_labels_balanced.sort_index(inplace=True)\n",
    "train_labels_balanced.head()"
   ]
  },
  {
   "cell_type": "code",
   "execution_count": 8,
   "metadata": {},
   "outputs": [
    {
     "data": {
      "text/plain": [
       "Int64Index([   9,   27,   33,   35,   37,   41,   77,   87,  114,  126,\n",
       "            ...\n",
       "            7179, 7469, 7609, 7613, 7679, 7704, 7723, 7737, 7769, 7775],\n",
       "           dtype='int64', name='ITEST_id', length=234)"
      ]
     },
     "execution_count": 8,
     "metadata": {},
     "output_type": "execute_result"
    }
   ],
   "source": [
    "train_idx = train_labels_balanced.index\n",
    "train_idx"
   ]
  },
  {
   "cell_type": "code",
   "execution_count": 9,
   "metadata": {},
   "outputs": [
    {
     "data": {
      "text/plain": [
       "(121104, 71)"
      ]
     },
     "execution_count": 9,
     "metadata": {},
     "output_type": "execute_result"
    }
   ],
   "source": [
    "student_logs_balanced = student_logs[student_logs['ITEST_id'].isin(train_idx)]\n",
    "student_logs_balanced.shape"
   ]
  },
  {
   "cell_type": "markdown",
   "metadata": {},
   "source": [
    "## Feature engineering"
   ]
  },
  {
   "cell_type": "markdown",
   "metadata": {},
   "source": [
    "We take the mean of the values grouped by student id and put 0 values instead NA values."
   ]
  },
  {
   "cell_type": "code",
   "execution_count": null,
   "metadata": {},
   "outputs": [],
   "source": [
    "students_features = pd.concat([student_logs.groupby('ITEST_id').mean(), student_logs.groupby('ITEST_id').std()], axis=1)\n",
    "students_features = students_features.fillna(0)\n",
    "print(students_features.shape)\n",
    "students_features.head()"
   ]
  },
  {
   "cell_type": "code",
   "execution_count": null,
   "metadata": {
    "scrolled": true
   },
   "outputs": [],
   "source": [
    "students_test_features = pd.concat([student_test_logs.groupby('ITEST_id').mean(), student_test_logs.groupby('ITEST_id').std()], axis=1)\n",
    "students_test_features = students_test_features.fillna(0)\n",
    "print(students_test_features.shape)\n",
    "students_test_features.head()"
   ]
  },
  {
   "cell_type": "markdown",
   "metadata": {},
   "source": [
    "## Algorithms"
   ]
  },
  {
   "cell_type": "code",
   "execution_count": null,
   "metadata": {},
   "outputs": [],
   "source": [
    "def runCV(clf, X_train, y_train, X_test, k):\n",
    "    print_scores(cross_validate(clf, X_train, y_train, cv=k, scoring=SCORING, return_train_score=False))\n",
    "    clf.fit(X_train, y_train)\n",
    "    try:\n",
    "        print_prediction(clf.predict_proba(X_test))\n",
    "    except:\n",
    "        print_prediction_scalar(clf.predict(X_test))"
   ]
  },
  {
   "cell_type": "code",
   "execution_count": null,
   "metadata": {},
   "outputs": [],
   "source": [
    "def print_scores(scores):\n",
    "    print('Scores')\n",
    "    print(\"Accuracy: %0.2f (+/- %0.2f)\" % (scores['test_accuracy'].mean(), scores['test_accuracy'].std() * 2))\n",
    "    print(\"AUC: %0.2f (+/- %0.2f)\" % (scores['test_roc_auc'].mean(), scores['test_roc_auc'].std() * 2))\n",
    "    print(\"RMSE: %0.2f (+/- %0.2f)\" % (np.sqrt(-scores['test_neg_mean_squared_error']).mean(), scores['test_neg_mean_squared_error'].std() * 2))"
   ]
  },
  {
   "cell_type": "code",
   "execution_count": null,
   "metadata": {},
   "outputs": [],
   "source": [
    "def print_prediction(prediction, reverse=False):\n",
    "    for pred in prediction:\n",
    "        if reverse:\n",
    "            print(1 - pred[1], end=',')\n",
    "        else:\n",
    "            print(pred[1], end=',')"
   ]
  },
  {
   "cell_type": "code",
   "execution_count": null,
   "metadata": {},
   "outputs": [],
   "source": [
    "def print_prediction_scalar(prediction, reverse=False):\n",
    "    for pred in prediction:\n",
    "        if reverse:\n",
    "            print(1 - pred, end=',')\n",
    "        else:\n",
    "            print(pred, end=',')"
   ]
  },
  {
   "cell_type": "markdown",
   "metadata": {},
   "source": [
    "We make our training and test data from the students logs and the train_labels file"
   ]
  },
  {
   "cell_type": "code",
   "execution_count": null,
   "metadata": {},
   "outputs": [],
   "source": [
    "X_train = np.array([np.array(students_features.loc[student_id].tolist(), dtype=float) for student_id in train_idx])\n",
    "y_train = np.array([train_labels['isSTEM'].loc[student_id] for student_id in train_idx])\n",
    "X_train.shape"
   ]
  },
  {
   "cell_type": "markdown",
   "metadata": {},
   "source": [
    "And our test data similarly"
   ]
  },
  {
   "cell_type": "code",
   "execution_count": null,
   "metadata": {},
   "outputs": [],
   "source": [
    "test_ids = test_labels.index.tolist()\n",
    "X_test = np.array([np.array(students_test_features.loc[student_id].tolist(), dtype=float) for student_id in test_ids])\n",
    "X_test.shape"
   ]
  },
  {
   "cell_type": "markdown",
   "metadata": {},
   "source": [
    "### Linear Support vector machine (SVM)"
   ]
  },
  {
   "cell_type": "markdown",
   "metadata": {},
   "source": [
    "We start by fitting the data to a SVM model"
   ]
  },
  {
   "cell_type": "code",
   "execution_count": null,
   "metadata": {},
   "outputs": [],
   "source": [
    "clf = svm.SVC(C=1, kernel='rbf')\n",
    "runCV(clf, X_train, y_train, X_test, 7)"
   ]
  },
  {
   "cell_type": "markdown",
   "metadata": {},
   "source": [
    "### Logistic Regression"
   ]
  },
  {
   "cell_type": "code",
   "execution_count": null,
   "metadata": {},
   "outputs": [],
   "source": [
    "clf = linear_model.LogisticRegressionCV(Cs=[1e-4, 1e-3, 1e-2, 1e-1, 1, 1e2, 1e3, 1e4])\n",
    "print('Using normal features')\n",
    "runCV(clf, X_train, y_train, X_test, 7)"
   ]
  },
  {
   "cell_type": "markdown",
   "metadata": {},
   "source": [
    "### Random Forest"
   ]
  },
  {
   "cell_type": "code",
   "execution_count": null,
   "metadata": {},
   "outputs": [],
   "source": [
    "clf = RandomForestClassifier(max_depth=30, n_estimators=350, n_jobs=-1)\n",
    "runCV(clf, X_train, y_train, X_test, 7)"
   ]
  },
  {
   "cell_type": "markdown",
   "metadata": {},
   "source": [
    "## Ridge classifier"
   ]
  },
  {
   "cell_type": "code",
   "execution_count": null,
   "metadata": {},
   "outputs": [],
   "source": [
    "clf = linear_model.RidgeClassifierCV(alphas=[0.1, 0.2, 0.3, 0.4, 0.5, 0.8, 1, 2, 3, 4, 5, 6, 7, 8, 9, 10])\n",
    "runCV(clf, X_train, y_train, X_test, 7)"
   ]
  },
  {
   "cell_type": "markdown",
   "metadata": {},
   "source": [
    "## XGBoost"
   ]
  },
  {
   "cell_type": "code",
   "execution_count": null,
   "metadata": {},
   "outputs": [],
   "source": [
    "\n",
    "def xgboost_eval(X_train, y_train):\n",
    "    dtrain = xgb.DMatrix(X_train, label=y_train)\n",
    "    dtest = xgb.DMatrix(X_test)\n",
    "\n",
    "    depths=[3, 5, 7, 10]\n",
    "    etas=[0.01, 0.02, 0.05, 0.1, 0.15, 0.2]\n",
    "    \n",
    "    best_error = 0\n",
    "    best_auc = 0\n",
    "    best_rmse = 1\n",
    "    max_score = 0\n",
    "    best_num_round = 0\n",
    "    best_param = {}\n",
    "\n",
    "    for depth in depths:\n",
    "        for eta in etas:\n",
    "            # specify parameters via map\n",
    "            param = {'max_depth':depth, 'eta':eta, 'silent':1, 'objective':'binary:logistic' }\n",
    "            cv = xgb.cv(param, dtrain, 7, metrics=['error', 'rmse', 'auc'])\n",
    "\n",
    "            results = cv.mean()\n",
    "\n",
    "            auc = results['test-auc-mean']\n",
    "            rmse = results['test-rmse-mean']\n",
    "            error = results['test-error-mean']\n",
    "            score = 1-rmse + auc\n",
    "\n",
    "            if(score > max_score):\n",
    "                max_score = score\n",
    "                best_auc = auc\n",
    "                best_rmse = rmse\n",
    "                best_param = param\n",
    "                best_error = error\n",
    "                \n",
    "                \n",
    "    print('Best error:', best_error)\n",
    "    print('Best auc:', best_auc)\n",
    "    print('Best rmse:', best_rmse)\n",
    "    print('Best score:', max_score)\n",
    "    print('Best params:', best_param)\n",
    "    print('')\n",
    "    \n",
    "    param = {'max_depth':40, 'eta':0.5, 'silent':1, 'objective':'binary:logistic' }\n",
    "    bst = xgb.train(best_param, dtrain)\n",
    "    # make prediction\n",
    "    print_prediction_scalar(bst.predict(dtest))"
   ]
  },
  {
   "cell_type": "code",
   "execution_count": null,
   "metadata": {},
   "outputs": [],
   "source": [
    "xgboost_eval(X_train, y_train)"
   ]
  }
 ],
 "metadata": {
  "kernelspec": {
   "display_name": "Python [conda root]",
   "language": "python",
   "name": "conda-root-py"
  },
  "language_info": {
   "codemirror_mode": {
    "name": "ipython",
    "version": 3
   },
   "file_extension": ".py",
   "mimetype": "text/x-python",
   "name": "python",
   "nbconvert_exporter": "python",
   "pygments_lexer": "ipython3",
   "version": "3.6.1"
  }
 },
 "nbformat": 4,
 "nbformat_minor": 2
}
