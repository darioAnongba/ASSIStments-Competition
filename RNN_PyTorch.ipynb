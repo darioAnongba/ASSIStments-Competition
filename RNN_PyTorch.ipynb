{
 "cells": [
  {
   "cell_type": "markdown",
   "metadata": {},
   "source": [
    "# ASSISTments Data Mining Competition 2017 - Optional Semester Project"
   ]
  },
  {
   "cell_type": "markdown",
   "metadata": {},
   "source": [
    "## Imports and constants"
   ]
  },
  {
   "cell_type": "code",
   "execution_count": 1,
   "metadata": {},
   "outputs": [],
   "source": [
    "import torch\n",
    "import torch.optim as optim\n",
    "import numpy as np\n",
    "import pandas as pd\n",
    "\n",
    "DATA_DIR = 'Data/'"
   ]
  },
  {
   "cell_type": "markdown",
   "metadata": {},
   "source": [
    "## Loading the data"
   ]
  },
  {
   "cell_type": "markdown",
   "metadata": {},
   "source": [
    "We choose the columns to keep and load all the data into dataframes"
   ]
  },
  {
   "cell_type": "code",
   "execution_count": 2,
   "metadata": {},
   "outputs": [
    {
     "name": "stdout",
     "output_type": "stream",
     "text": [
      "(251488, 37)\n"
     ]
    },
    {
     "data": {
      "text/html": [
       "<div>\n",
       "<style>\n",
       "    .dataframe thead tr:only-child th {\n",
       "        text-align: right;\n",
       "    }\n",
       "\n",
       "    .dataframe thead th {\n",
       "        text-align: left;\n",
       "    }\n",
       "\n",
       "    .dataframe tbody tr th {\n",
       "        vertical-align: top;\n",
       "    }\n",
       "</style>\n",
       "<table border=\"1\" class=\"dataframe\">\n",
       "  <thead>\n",
       "    <tr style=\"text-align: right;\">\n",
       "      <th></th>\n",
       "      <th>ITEST_id</th>\n",
       "      <th>timeTaken</th>\n",
       "      <th>correct</th>\n",
       "      <th>original</th>\n",
       "      <th>hint</th>\n",
       "      <th>hintCount</th>\n",
       "      <th>hintTotal</th>\n",
       "      <th>scaffold</th>\n",
       "      <th>bottomHint</th>\n",
       "      <th>attemptCount</th>\n",
       "      <th>...</th>\n",
       "      <th>endsWithAutoScaffolding</th>\n",
       "      <th>frTimeTakenOnScaffolding</th>\n",
       "      <th>frTotalSkillOpportunitiesScaffolding</th>\n",
       "      <th>totalFrSkillOpportunitiesByScaffolding</th>\n",
       "      <th>frIsHelpRequestScaffolding</th>\n",
       "      <th>timeGreater5Secprev2wrong</th>\n",
       "      <th>helpAccessUnder2Sec</th>\n",
       "      <th>timeGreater10SecAndNextActionRight</th>\n",
       "      <th>consecutiveErrorsInRow</th>\n",
       "      <th>totalTimeByPercentCorrectForskill</th>\n",
       "    </tr>\n",
       "  </thead>\n",
       "  <tbody>\n",
       "    <tr>\n",
       "      <th>184889</th>\n",
       "      <td>9</td>\n",
       "      <td>15.0</td>\n",
       "      <td>0</td>\n",
       "      <td>1</td>\n",
       "      <td>1</td>\n",
       "      <td>1</td>\n",
       "      <td>1</td>\n",
       "      <td>0</td>\n",
       "      <td>0</td>\n",
       "      <td>1</td>\n",
       "      <td>...</td>\n",
       "      <td>0</td>\n",
       "      <td>0.0</td>\n",
       "      <td>0</td>\n",
       "      <td>0.0</td>\n",
       "      <td>0</td>\n",
       "      <td>0</td>\n",
       "      <td>0</td>\n",
       "      <td>0</td>\n",
       "      <td>0</td>\n",
       "      <td>0.0</td>\n",
       "    </tr>\n",
       "    <tr>\n",
       "      <th>184890</th>\n",
       "      <td>9</td>\n",
       "      <td>96.0</td>\n",
       "      <td>1</td>\n",
       "      <td>0</td>\n",
       "      <td>0</td>\n",
       "      <td>0</td>\n",
       "      <td>0</td>\n",
       "      <td>1</td>\n",
       "      <td>0</td>\n",
       "      <td>1</td>\n",
       "      <td>...</td>\n",
       "      <td>0</td>\n",
       "      <td>96.0</td>\n",
       "      <td>0</td>\n",
       "      <td>0.0</td>\n",
       "      <td>1</td>\n",
       "      <td>0</td>\n",
       "      <td>0</td>\n",
       "      <td>1</td>\n",
       "      <td>0</td>\n",
       "      <td>222.0</td>\n",
       "    </tr>\n",
       "    <tr>\n",
       "      <th>184891</th>\n",
       "      <td>9</td>\n",
       "      <td>51.0</td>\n",
       "      <td>1</td>\n",
       "      <td>0</td>\n",
       "      <td>0</td>\n",
       "      <td>0</td>\n",
       "      <td>0</td>\n",
       "      <td>1</td>\n",
       "      <td>0</td>\n",
       "      <td>1</td>\n",
       "      <td>...</td>\n",
       "      <td>0</td>\n",
       "      <td>51.0</td>\n",
       "      <td>1</td>\n",
       "      <td>2.0</td>\n",
       "      <td>1</td>\n",
       "      <td>0</td>\n",
       "      <td>0</td>\n",
       "      <td>1</td>\n",
       "      <td>0</td>\n",
       "      <td>243.0</td>\n",
       "    </tr>\n",
       "    <tr>\n",
       "      <th>184892</th>\n",
       "      <td>9</td>\n",
       "      <td>27.0</td>\n",
       "      <td>1</td>\n",
       "      <td>0</td>\n",
       "      <td>0</td>\n",
       "      <td>0</td>\n",
       "      <td>0</td>\n",
       "      <td>1</td>\n",
       "      <td>0</td>\n",
       "      <td>1</td>\n",
       "      <td>...</td>\n",
       "      <td>0</td>\n",
       "      <td>27.0</td>\n",
       "      <td>2</td>\n",
       "      <td>1.5</td>\n",
       "      <td>1</td>\n",
       "      <td>0</td>\n",
       "      <td>0</td>\n",
       "      <td>1</td>\n",
       "      <td>0</td>\n",
       "      <td>252.0</td>\n",
       "    </tr>\n",
       "    <tr>\n",
       "      <th>184893</th>\n",
       "      <td>9</td>\n",
       "      <td>102.0</td>\n",
       "      <td>0</td>\n",
       "      <td>1</td>\n",
       "      <td>0</td>\n",
       "      <td>0</td>\n",
       "      <td>0</td>\n",
       "      <td>0</td>\n",
       "      <td>0</td>\n",
       "      <td>1</td>\n",
       "      <td>...</td>\n",
       "      <td>0</td>\n",
       "      <td>0.0</td>\n",
       "      <td>0</td>\n",
       "      <td>0.0</td>\n",
       "      <td>0</td>\n",
       "      <td>0</td>\n",
       "      <td>0</td>\n",
       "      <td>0</td>\n",
       "      <td>0</td>\n",
       "      <td>0.0</td>\n",
       "    </tr>\n",
       "  </tbody>\n",
       "</table>\n",
       "<p>5 rows × 37 columns</p>\n",
       "</div>"
      ],
      "text/plain": [
       "        ITEST_id  timeTaken  correct  original  hint  hintCount  hintTotal  \\\n",
       "184889         9       15.0        0         1     1          1          1   \n",
       "184890         9       96.0        1         0     0          0          0   \n",
       "184891         9       51.0        1         0     0          0          0   \n",
       "184892         9       27.0        1         0     0          0          0   \n",
       "184893         9      102.0        0         1     0          0          0   \n",
       "\n",
       "        scaffold  bottomHint  attemptCount                ...                  \\\n",
       "184889         0           0             1                ...                   \n",
       "184890         1           0             1                ...                   \n",
       "184891         1           0             1                ...                   \n",
       "184892         1           0             1                ...                   \n",
       "184893         0           0             1                ...                   \n",
       "\n",
       "        endsWithAutoScaffolding  frTimeTakenOnScaffolding  \\\n",
       "184889                        0                       0.0   \n",
       "184890                        0                      96.0   \n",
       "184891                        0                      51.0   \n",
       "184892                        0                      27.0   \n",
       "184893                        0                       0.0   \n",
       "\n",
       "        frTotalSkillOpportunitiesScaffolding  \\\n",
       "184889                                     0   \n",
       "184890                                     0   \n",
       "184891                                     1   \n",
       "184892                                     2   \n",
       "184893                                     0   \n",
       "\n",
       "        totalFrSkillOpportunitiesByScaffolding  frIsHelpRequestScaffolding  \\\n",
       "184889                                     0.0                           0   \n",
       "184890                                     0.0                           1   \n",
       "184891                                     2.0                           1   \n",
       "184892                                     1.5                           1   \n",
       "184893                                     0.0                           0   \n",
       "\n",
       "        timeGreater5Secprev2wrong  helpAccessUnder2Sec  \\\n",
       "184889                          0                    0   \n",
       "184890                          0                    0   \n",
       "184891                          0                    0   \n",
       "184892                          0                    0   \n",
       "184893                          0                    0   \n",
       "\n",
       "        timeGreater10SecAndNextActionRight  consecutiveErrorsInRow  \\\n",
       "184889                                   0                       0   \n",
       "184890                                   1                       0   \n",
       "184891                                   1                       0   \n",
       "184892                                   1                       0   \n",
       "184893                                   0                       0   \n",
       "\n",
       "        totalTimeByPercentCorrectForskill  \n",
       "184889                                0.0  \n",
       "184890                              222.0  \n",
       "184891                              243.0  \n",
       "184892                              252.0  \n",
       "184893                                0.0  \n",
       "\n",
       "[5 rows x 37 columns]"
      ]
     },
     "execution_count": 2,
     "metadata": {},
     "output_type": "execute_result"
    }
   ],
   "source": [
    "student_test_logs = pd.read_pickle(DATA_DIR + 'student_test_logs')\n",
    "student_train_logs = pd.read_pickle(DATA_DIR + 'student_train_logs')\n",
    "print(student_train_logs.shape)\n",
    "student_train_logs.head()"
   ]
  },
  {
   "cell_type": "markdown",
   "metadata": {},
   "source": [
    "And the labels"
   ]
  },
  {
   "cell_type": "code",
   "execution_count": 3,
   "metadata": {},
   "outputs": [
    {
     "data": {
      "text/html": [
       "<div>\n",
       "<style>\n",
       "    .dataframe thead tr:only-child th {\n",
       "        text-align: right;\n",
       "    }\n",
       "\n",
       "    .dataframe thead th {\n",
       "        text-align: left;\n",
       "    }\n",
       "\n",
       "    .dataframe tbody tr th {\n",
       "        vertical-align: top;\n",
       "    }\n",
       "</style>\n",
       "<table border=\"1\" class=\"dataframe\">\n",
       "  <thead>\n",
       "    <tr style=\"text-align: right;\">\n",
       "      <th></th>\n",
       "      <th>SchoolId</th>\n",
       "      <th>AveCorrect</th>\n",
       "      <th>MCAS</th>\n",
       "      <th>isSTEM</th>\n",
       "    </tr>\n",
       "    <tr>\n",
       "      <th>ITEST_id</th>\n",
       "      <th></th>\n",
       "      <th></th>\n",
       "      <th></th>\n",
       "      <th></th>\n",
       "    </tr>\n",
       "  </thead>\n",
       "  <tbody>\n",
       "    <tr>\n",
       "      <th>9</th>\n",
       "      <td>2</td>\n",
       "      <td>0.438492</td>\n",
       "      <td>32</td>\n",
       "      <td>1</td>\n",
       "    </tr>\n",
       "    <tr>\n",
       "      <th>27</th>\n",
       "      <td>1</td>\n",
       "      <td>0.348837</td>\n",
       "      <td>21</td>\n",
       "      <td>0</td>\n",
       "    </tr>\n",
       "    <tr>\n",
       "      <th>33</th>\n",
       "      <td>2</td>\n",
       "      <td>0.686391</td>\n",
       "      <td>52</td>\n",
       "      <td>0</td>\n",
       "    </tr>\n",
       "    <tr>\n",
       "      <th>35</th>\n",
       "      <td>2</td>\n",
       "      <td>0.379658</td>\n",
       "      <td>34</td>\n",
       "      <td>0</td>\n",
       "    </tr>\n",
       "    <tr>\n",
       "      <th>37</th>\n",
       "      <td>3</td>\n",
       "      <td>0.305785</td>\n",
       "      <td>-999</td>\n",
       "      <td>0</td>\n",
       "    </tr>\n",
       "  </tbody>\n",
       "</table>\n",
       "</div>"
      ],
      "text/plain": [
       "          SchoolId  AveCorrect  MCAS  isSTEM\n",
       "ITEST_id                                    \n",
       "9                2    0.438492    32       1\n",
       "27               1    0.348837    21       0\n",
       "33               2    0.686391    52       0\n",
       "35               2    0.379658    34       0\n",
       "37               3    0.305785  -999       0"
      ]
     },
     "execution_count": 3,
     "metadata": {},
     "output_type": "execute_result"
    }
   ],
   "source": [
    "train_labels = pd.read_csv('Data/training_label.csv', index_col='ITEST_id').sort_index()\n",
    "train_labels.drop_duplicates(subset=None, keep='first', inplace=True)\n",
    "train_labels.head()"
   ]
  },
  {
   "cell_type": "code",
   "execution_count": 4,
   "metadata": {},
   "outputs": [
    {
     "data": {
      "text/plain": [
       "(121104, 37)"
      ]
     },
     "execution_count": 4,
     "metadata": {},
     "output_type": "execute_result"
    }
   ],
   "source": [
    "STEM_idx = train_labels[train_labels['isSTEM'] == 1].index.values\n",
    "nonSTEM_idx = train_labels[train_labels['isSTEM'] == 0].index.values\n",
    "nonSTEM_idx = nonSTEM_idx[:117]\n",
    "\n",
    "train_idx = np.concatenate((STEM_idx, nonSTEM_idx))\n",
    "student_train_logs = student_train_logs[student_train_logs['ITEST_id'].isin(train_idx)]\n",
    "student_train_logs.shape"
   ]
  },
  {
   "cell_type": "markdown",
   "metadata": {},
   "source": [
    "## Turn the data into tensors"
   ]
  },
  {
   "cell_type": "markdown",
   "metadata": {},
   "source": [
    "Each tensor have its own size"
   ]
  },
  {
   "cell_type": "code",
   "execution_count": 5,
   "metadata": {},
   "outputs": [],
   "source": [
    "def actions_to_tensor(actions):\n",
    "    actions = actions.reset_index(drop=True)\n",
    "    del actions['ITEST_id']\n",
    "    tensor = torch.zeros(actions.shape[0], 1, actions.shape[1])\n",
    "    \n",
    "    for ai, action in actions.iterrows():\n",
    "        for i, val in enumerate(action.values):\n",
    "            tensor[ai][0][i] = val\n",
    "        \n",
    "    return tensor"
   ]
  },
  {
   "cell_type": "code",
   "execution_count": 6,
   "metadata": {},
   "outputs": [
    {
     "name": "stdout",
     "output_type": "stream",
     "text": [
      "\n",
      "( 0 ,.,.) = \n",
      "  1.5000e+01  0.0000e+00  1.0000e+00  ...   0.0000e+00  0.0000e+00  0.0000e+00\n",
      "\n",
      "( 1 ,.,.) = \n",
      "  9.6000e+01  1.0000e+00  0.0000e+00  ...   1.0000e+00  0.0000e+00  2.2200e+02\n",
      "\n",
      "( 2 ,.,.) = \n",
      "  5.1000e+01  1.0000e+00  0.0000e+00  ...   1.0000e+00  0.0000e+00  2.4300e+02\n",
      "... \n",
      "\n",
      "(501,.,.) = \n",
      "  1.0000e+01  0.0000e+00  1.0000e+00  ...   0.0000e+00  0.0000e+00  3.6300e+02\n",
      "\n",
      "(502,.,.) = \n",
      "  3.4000e+01  1.0000e+00  1.0000e+00  ...   0.0000e+00  0.0000e+00  2.8700e+02\n",
      "\n",
      "(503,.,.) = \n",
      "  6.0000e+01  1.0000e+00  1.0000e+00  ...   1.0000e+00  0.0000e+00  4.0250e+02\n",
      "[torch.FloatTensor of size 504x1x36]\n",
      "\n"
     ]
    }
   ],
   "source": [
    "student9 = student_train_logs.loc[student_train_logs['ITEST_id'] == 9]\n",
    "print(actions_to_tensor(student9))"
   ]
  },
  {
   "cell_type": "markdown",
   "metadata": {},
   "source": [
    "## Creating the network"
   ]
  },
  {
   "cell_type": "code",
   "execution_count": 7,
   "metadata": {},
   "outputs": [],
   "source": [
    "import torch.nn as nn\n",
    "from torch.autograd import Variable"
   ]
  },
  {
   "cell_type": "code",
   "execution_count": 8,
   "metadata": {},
   "outputs": [],
   "source": [
    "class LSTMClassifier(nn.Module):\n",
    "    def __init__(self, input_dim, hidden_dim, output_dim, batch_size=1, n_layers=1, use_gpu=False):\n",
    "        super(LSTMClassifier, self).__init__()\n",
    "        \n",
    "        self.hidden_dim = hidden_dim\n",
    "        self.batch_size = batch_size\n",
    "        self.n_layers = n_layers\n",
    "        self.use_gpu = use_gpu\n",
    "        \n",
    "        self.lstm = nn.LSTM(input_size=input_dim, hidden_size=hidden_dim, num_layers=n_layers)\n",
    "        self.hidden2label = nn.Linear(hidden_dim, output_dim)\n",
    "        self.softmax = nn.LogSoftmax()\n",
    "        self.hidden = self.init_hidden()\n",
    "\n",
    "    def init_hidden(self):\n",
    "        if self.use_gpu:\n",
    "            h0 = Variable(torch.zeros(self.n_layers, self.batch_size, self.hidden_dim).cuda())\n",
    "            c0 = Variable(torch.zeros(self.n_layers, self.batch_size, self.hidden_dim).cuda())\n",
    "        else:\n",
    "            h0 = Variable(torch.zeros(self.n_layers, self.batch_size, self.hidden_dim))\n",
    "            c0 = Variable(torch.zeros(self.n_layers, self.batch_size, self.hidden_dim))\n",
    "        return (h0, c0)\n",
    "\n",
    "    def forward(self, input):\n",
    "        lstm_out, self.hidden = self.lstm(input, self.hidden)\n",
    "        y = self.hidden2label(lstm_out[-1])\n",
    "        return self.softmax(y)\n",
    "        #return y"
   ]
  },
  {
   "cell_type": "code",
   "execution_count": 9,
   "metadata": {},
   "outputs": [],
   "source": [
    "n_hidden = 128\n",
    "lstm = LSTMClassifier(student_train_logs.shape[1] - 1, n_hidden, 2)"
   ]
  },
  {
   "cell_type": "code",
   "execution_count": 10,
   "metadata": {},
   "outputs": [
    {
     "name": "stdout",
     "output_type": "stream",
     "text": [
      "Variable containing:\n",
      "-0.8109 -0.5878\n",
      "[torch.FloatTensor of size 1x2]\n",
      "\n"
     ]
    }
   ],
   "source": [
    "input = Variable(actions_to_tensor(student9))\n",
    "lstm.hidden = lstm.init_hidden()\n",
    "\n",
    "output = lstm(input)\n",
    "print(output)"
   ]
  },
  {
   "cell_type": "markdown",
   "metadata": {},
   "source": [
    "## Training"
   ]
  },
  {
   "cell_type": "code",
   "execution_count": 11,
   "metadata": {},
   "outputs": [
    {
     "name": "stdout",
     "output_type": "stream",
     "text": [
      "1\n"
     ]
    }
   ],
   "source": [
    "def isSTEM(output):\n",
    "    top_n, top_i = output.data.topk(1)\n",
    "    category_i = top_i[0][0]\n",
    "    return 1 if category_i == 1 else 0\n",
    "\n",
    "print(isSTEM(output))"
   ]
  },
  {
   "cell_type": "code",
   "execution_count": 12,
   "metadata": {},
   "outputs": [],
   "source": [
    "import random\n",
    "\n",
    "def randomChoice(l):\n",
    "    return l[random.randint(0, len(l) - 1)]\n",
    "\n",
    "def training_example(id):\n",
    "    category = int(train_labels.loc[id].isSTEM)\n",
    "    \n",
    "    if category == 1:\n",
    "        category_tensor = Variable(torch.LongTensor([1]))\n",
    "    else:\n",
    "        category_tensor = Variable(torch.LongTensor([0]))\n",
    "        \n",
    "    line_tensor = Variable(actions_to_tensor(student_train_logs.loc[student_train_logs['ITEST_id'] == id]))\n",
    "\n",
    "    return category, category_tensor, line_tensor"
   ]
  },
  {
   "cell_type": "code",
   "execution_count": 13,
   "metadata": {},
   "outputs": [],
   "source": [
    "criterion = nn.NLLLoss()\n",
    "learning_rate = 0.005 # If you set this too high, it might explode. If too low, it might not learn\n",
    "optimizer = optim.Adam(lstm.parameters(), lr=learning_rate)\n",
    "\n",
    "def trainLSTM(category_tensor, seq_tensor):\n",
    "    lstm.hidden = lstm.init_hidden()\n",
    "\n",
    "    lstm.zero_grad()\n",
    "\n",
    "    output = lstm(seq_tensor)\n",
    "\n",
    "    loss = criterion(output, category_tensor)\n",
    "    loss.backward()\n",
    "    optimizer.step()\n",
    "\n",
    "    return output, loss.data[0]\n"
   ]
  },
  {
   "cell_type": "code",
   "execution_count": 14,
   "metadata": {},
   "outputs": [
    {
     "name": "stdout",
     "output_type": "stream",
     "text": [
      "Epoch: 0 - 0 0% (0m 1s) 0.5878 9 / 1 ✓\n",
      "Epoch: 0 - 30 12% (0m 50s) 0.1984 403 / 0 ✓\n",
      "Epoch: 0 - 60 25% (1m 50s) 0.0374 898 / 0 ✓\n",
      "Epoch: 0 - 90 38% (2m 41s) 0.1516 1551 / 0 ✓\n",
      "Epoch: 0 - 120 51% (3m 30s) 0.3196 1960 / 0 ✓\n",
      "Epoch: 0 - 150 64% (4m 28s) 1.6558 2697 / 0 ✗ (1)\n",
      "Epoch: 0 - 180 76% (5m 33s) 0.0022 4241 / 1 ✓\n",
      "Epoch: 0 - 210 89% (6m 25s) 0.0016 6298 / 1 ✓\n",
      "Epoch: 1 - 0 0% (6m 57s) 0.0021 9 / 1 ✓\n",
      "Epoch: 1 - 30 12% (7m 54s) 0.0191 403 / 0 ✓\n",
      "Epoch: 1 - 60 25% (8m 54s) 0.0452 898 / 0 ✓\n",
      "Epoch: 1 - 90 38% (9m 43s) 0.1412 1551 / 0 ✓\n",
      "Epoch: 1 - 120 51% (10m 32s) 0.3400 1960 / 0 ✓\n",
      "Epoch: 1 - 150 64% (11m 27s) 1.1805 2697 / 0 ✗ (1)\n",
      "Epoch: 1 - 180 76% (12m 32s) 0.0034 4241 / 1 ✓\n",
      "Epoch: 1 - 210 89% (13m 19s) 0.0017 6298 / 1 ✓\n",
      "Epoch: 2 - 0 0% (13m 50s) 0.0018 9 / 1 ✓\n",
      "Epoch: 2 - 30 12% (14m 38s) 0.0167 403 / 0 ✓\n",
      "Epoch: 2 - 60 25% (15m 35s) 0.1092 898 / 0 ✓\n",
      "Epoch: 2 - 90 38% (16m 38s) 0.1314 1551 / 0 ✓\n",
      "Epoch: 2 - 120 51% (17m 31s) 0.2797 1960 / 0 ✓\n",
      "Epoch: 2 - 150 64% (18m 28s) 2.1408 2697 / 0 ✗ (1)\n",
      "Epoch: 2 - 180 76% (19m 33s) 0.0069 4241 / 1 ✓\n",
      "Epoch: 2 - 210 89% (20m 21s) 0.0025 6298 / 1 ✓\n",
      "Epoch: 3 - 0 0% (20m 53s) 0.0015 9 / 1 ✓\n",
      "Epoch: 3 - 30 12% (21m 43s) 0.0180 403 / 0 ✓\n",
      "Epoch: 3 - 60 25% (22m 40s) 0.1225 898 / 0 ✓\n",
      "Epoch: 3 - 90 38% (23m 28s) 0.2160 1551 / 0 ✓\n",
      "Epoch: 3 - 120 51% (24m 14s) 0.2162 1960 / 0 ✓\n",
      "Epoch: 3 - 150 64% (25m 9s) 1.4939 2697 / 0 ✗ (1)\n",
      "Epoch: 3 - 180 76% (26m 11s) 0.0046 4241 / 1 ✓\n",
      "Epoch: 3 - 210 89% (27m 0s) 0.0046 6298 / 1 ✓\n",
      "Epoch: 4 - 0 0% (27m 31s) 0.0024 9 / 1 ✓\n",
      "Epoch: 4 - 30 12% (28m 20s) 0.0182 403 / 0 ✓\n",
      "Epoch: 4 - 60 25% (29m 15s) 0.1499 898 / 0 ✓\n",
      "Epoch: 4 - 90 38% (30m 4s) 0.1583 1551 / 0 ✓\n"
     ]
    },
    {
     "ename": "KeyboardInterrupt",
     "evalue": "",
     "output_type": "error",
     "traceback": [
      "\u001b[0;31m---------------------------------------------------------------------------\u001b[0m",
      "\u001b[0;31mKeyboardInterrupt\u001b[0m                         Traceback (most recent call last)",
      "\u001b[0;32m<ipython-input-14-ff83a5c42cd0>\u001b[0m in \u001b[0;36m<module>\u001b[0;34m()\u001b[0m\n\u001b[1;32m     24\u001b[0m     \u001b[0;32mfor\u001b[0m \u001b[0miter\u001b[0m\u001b[0;34m,\u001b[0m \u001b[0mstudent_id\u001b[0m \u001b[0;32min\u001b[0m \u001b[0menumerate\u001b[0m\u001b[0;34m(\u001b[0m\u001b[0mtrain_idx\u001b[0m\u001b[0;34m)\u001b[0m\u001b[0;34m:\u001b[0m\u001b[0;34m\u001b[0m\u001b[0m\n\u001b[1;32m     25\u001b[0m         \u001b[0mcategory\u001b[0m\u001b[0;34m,\u001b[0m \u001b[0mcategory_tensor\u001b[0m\u001b[0;34m,\u001b[0m \u001b[0msequence_tensor\u001b[0m \u001b[0;34m=\u001b[0m \u001b[0mtraining_example\u001b[0m\u001b[0;34m(\u001b[0m\u001b[0mstudent_id\u001b[0m\u001b[0;34m)\u001b[0m\u001b[0;34m\u001b[0m\u001b[0m\n\u001b[0;32m---> 26\u001b[0;31m         \u001b[0moutput\u001b[0m\u001b[0;34m,\u001b[0m \u001b[0mloss\u001b[0m \u001b[0;34m=\u001b[0m \u001b[0mtrainLSTM\u001b[0m\u001b[0;34m(\u001b[0m\u001b[0mcategory_tensor\u001b[0m\u001b[0;34m,\u001b[0m \u001b[0msequence_tensor\u001b[0m\u001b[0;34m)\u001b[0m\u001b[0;34m\u001b[0m\u001b[0m\n\u001b[0m\u001b[1;32m     27\u001b[0m         \u001b[0mcurrent_loss\u001b[0m \u001b[0;34m+=\u001b[0m \u001b[0mloss\u001b[0m\u001b[0;34m\u001b[0m\u001b[0m\n\u001b[1;32m     28\u001b[0m \u001b[0;34m\u001b[0m\u001b[0m\n",
      "\u001b[0;32m<ipython-input-13-118cf277fd3e>\u001b[0m in \u001b[0;36mtrainLSTM\u001b[0;34m(category_tensor, seq_tensor)\u001b[0m\n\u001b[1;32m     11\u001b[0m \u001b[0;34m\u001b[0m\u001b[0m\n\u001b[1;32m     12\u001b[0m     \u001b[0mloss\u001b[0m \u001b[0;34m=\u001b[0m \u001b[0mcriterion\u001b[0m\u001b[0;34m(\u001b[0m\u001b[0moutput\u001b[0m\u001b[0;34m,\u001b[0m \u001b[0mcategory_tensor\u001b[0m\u001b[0;34m)\u001b[0m\u001b[0;34m\u001b[0m\u001b[0m\n\u001b[0;32m---> 13\u001b[0;31m     \u001b[0mloss\u001b[0m\u001b[0;34m.\u001b[0m\u001b[0mbackward\u001b[0m\u001b[0;34m(\u001b[0m\u001b[0;34m)\u001b[0m\u001b[0;34m\u001b[0m\u001b[0m\n\u001b[0m\u001b[1;32m     14\u001b[0m     \u001b[0moptimizer\u001b[0m\u001b[0;34m.\u001b[0m\u001b[0mstep\u001b[0m\u001b[0;34m(\u001b[0m\u001b[0;34m)\u001b[0m\u001b[0;34m\u001b[0m\u001b[0m\n\u001b[1;32m     15\u001b[0m \u001b[0;34m\u001b[0m\u001b[0m\n",
      "\u001b[0;32m~/anaconda3/lib/python3.6/site-packages/torch/autograd/variable.py\u001b[0m in \u001b[0;36mbackward\u001b[0;34m(self, gradient, retain_graph, create_graph, retain_variables)\u001b[0m\n\u001b[1;32m    154\u001b[0m                 \u001b[0mVariable\u001b[0m\u001b[0;34m.\u001b[0m\u001b[0;34m\u001b[0m\u001b[0m\n\u001b[1;32m    155\u001b[0m         \"\"\"\n\u001b[0;32m--> 156\u001b[0;31m         \u001b[0mtorch\u001b[0m\u001b[0;34m.\u001b[0m\u001b[0mautograd\u001b[0m\u001b[0;34m.\u001b[0m\u001b[0mbackward\u001b[0m\u001b[0;34m(\u001b[0m\u001b[0mself\u001b[0m\u001b[0;34m,\u001b[0m \u001b[0mgradient\u001b[0m\u001b[0;34m,\u001b[0m \u001b[0mretain_graph\u001b[0m\u001b[0;34m,\u001b[0m \u001b[0mcreate_graph\u001b[0m\u001b[0;34m,\u001b[0m \u001b[0mretain_variables\u001b[0m\u001b[0;34m)\u001b[0m\u001b[0;34m\u001b[0m\u001b[0m\n\u001b[0m\u001b[1;32m    157\u001b[0m \u001b[0;34m\u001b[0m\u001b[0m\n\u001b[1;32m    158\u001b[0m     \u001b[0;32mdef\u001b[0m \u001b[0mregister_hook\u001b[0m\u001b[0;34m(\u001b[0m\u001b[0mself\u001b[0m\u001b[0;34m,\u001b[0m \u001b[0mhook\u001b[0m\u001b[0;34m)\u001b[0m\u001b[0;34m:\u001b[0m\u001b[0;34m\u001b[0m\u001b[0m\n",
      "\u001b[0;32m~/anaconda3/lib/python3.6/site-packages/torch/autograd/__init__.py\u001b[0m in \u001b[0;36mbackward\u001b[0;34m(variables, grad_variables, retain_graph, create_graph, retain_variables)\u001b[0m\n\u001b[1;32m     96\u001b[0m \u001b[0;34m\u001b[0m\u001b[0m\n\u001b[1;32m     97\u001b[0m     Variable._execution_engine.run_backward(\n\u001b[0;32m---> 98\u001b[0;31m         variables, grad_variables, retain_graph)\n\u001b[0m\u001b[1;32m     99\u001b[0m \u001b[0;34m\u001b[0m\u001b[0m\n\u001b[1;32m    100\u001b[0m \u001b[0;34m\u001b[0m\u001b[0m\n",
      "\u001b[0;31mKeyboardInterrupt\u001b[0m: "
     ]
    }
   ],
   "source": [
    "import time\n",
    "import math\n",
    "\n",
    "epochs = 10\n",
    "print_every = 30\n",
    "plot_every = 10\n",
    "\n",
    "# Keep track of losses for plotting\n",
    "current_loss = 0\n",
    "all_losses = []\n",
    "\n",
    "def timeSince(since):\n",
    "    now = time.time()\n",
    "    s = now - since\n",
    "    m = math.floor(s / 60)\n",
    "    s -= m * 60\n",
    "    return '%dm %ds' % (m, s)\n",
    "\n",
    "start = time.time()\n",
    "\n",
    "train_idx = student_train_logs.ITEST_id.unique()\n",
    "\n",
    "for epoch in range(epochs):\n",
    "    for iter, student_id in enumerate(train_idx):\n",
    "        category, category_tensor, sequence_tensor = training_example(student_id)\n",
    "        output, loss = trainLSTM(category_tensor, sequence_tensor)\n",
    "        current_loss += loss\n",
    "\n",
    "        # Print iter number, loss, name and guess\n",
    "        if iter % print_every == 0:\n",
    "            guess = isSTEM(output)\n",
    "            correct = '✓' if guess == category else '✗ (%s)' % category\n",
    "            print('Epoch: %d - %d %d%% (%s) %.4f %s / %s %s' % (epoch, iter, iter / len(train_idx) * 100, timeSince(start), loss, student_id, guess, correct))\n",
    "\n",
    "        # Add current loss avg to list of losses\n",
    "        if iter % plot_every == 0:\n",
    "            all_losses.append(current_loss / plot_every)\n",
    "            current_loss = 0"
   ]
  },
  {
   "cell_type": "code",
   "execution_count": 15,
   "metadata": {},
   "outputs": [
    {
     "data": {
      "text/plain": [
       "[<matplotlib.lines.Line2D at 0x7fd7cae4bb38>]"
      ]
     },
     "execution_count": 15,
     "metadata": {},
     "output_type": "execute_result"
    },
    {
     "data": {
      "image/png": "[encoded data removed]",
      "text/plain": [
       "<matplotlib.figure.Figure at 0x7fd7cbb2cb38>"
      ]
     },
     "metadata": {},
     "output_type": "display_data"
    }
   ],
   "source": [
    "%matplotlib inline\n",
    "import matplotlib.pyplot as plt\n",
    "import matplotlib.ticker as ticker\n",
    "\n",
    "plt.figure()\n",
    "plt.plot(all_losses)"
   ]
  },
  {
   "cell_type": "code",
   "execution_count": null,
   "metadata": {},
   "outputs": [],
   "source": []
  }
 ],
 "metadata": {
  "kernelspec": {
   "display_name": "Python [conda root]",
   "language": "python",
   "name": "conda-root-py"
  },
  "language_info": {
   "codemirror_mode": {
    "name": "ipython",
    "version": 3
   },
   "file_extension": ".py",
   "mimetype": "text/x-python",
   "name": "python",
   "nbconvert_exporter": "python",
   "pygments_lexer": "ipython3",
   "version": "3.6.1"
  }
 },
 "nbformat": 4,
 "nbformat_minor": 2
}
