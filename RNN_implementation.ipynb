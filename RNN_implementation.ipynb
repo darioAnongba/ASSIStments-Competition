{
 "cells": [
  {
   "cell_type": "markdown",
   "metadata": {},
   "source": [
    "# ASSISTments Data Mining Competition 2017 - Optional Semester Project"
   ]
  },
  {
   "cell_type": "markdown",
   "metadata": {},
   "source": [
    "## Imports and constants"
   ]
  },
  {
   "cell_type": "code",
   "execution_count": 1,
   "metadata": {},
   "outputs": [],
   "source": [
    "# Imports\n",
    "import numpy as np\n",
    "import pandas as pd\n",
    "import functools\n",
    "import tensorflow as tf\n",
    "from sklearn import preprocessing\n",
    "\n",
    "# Constants\n",
    "DATA_DIR = 'Data/'"
   ]
  },
  {
   "cell_type": "markdown",
   "metadata": {},
   "source": [
    "## Loading the data"
   ]
  },
  {
   "cell_type": "markdown",
   "metadata": {},
   "source": [
    "We load all the data into dataframes"
   ]
  },
  {
   "cell_type": "code",
   "execution_count": 2,
   "metadata": {},
   "outputs": [],
   "source": [
    "student_train_logs = pd.read_pickle('student_train_logs')\n",
    "student_test_logs = pd.read_pickle('student_test_logs')"
   ]
  },
  {
   "cell_type": "code",
   "execution_count": 3,
   "metadata": {},
   "outputs": [],
   "source": [
    "train_idx = student_train_logs['ITEST_id'].unique()"
   ]
  },
  {
   "cell_type": "markdown",
   "metadata": {},
   "source": [
    "We load the training labels into a dataframe"
   ]
  },
  {
   "cell_type": "code",
   "execution_count": 4,
   "metadata": {},
   "outputs": [],
   "source": [
    "train_labels = pd.read_csv('Data/training_label.csv', index_col='ITEST_id').sort_index()\n",
    "train_labels.drop_duplicates(subset=None, keep='first', inplace=True)"
   ]
  },
  {
   "cell_type": "code",
   "execution_count": 5,
   "metadata": {},
   "outputs": [
    {
     "name": "stdout",
     "output_type": "stream",
     "text": [
      "STEM examples:  117\n",
      "Non STEM examples: 117\n"
     ]
    }
   ],
   "source": [
    "STEM_idx = train_labels[train_labels['isSTEM'] == 1].index.unique()\n",
    "non_STEM_idx = train_labels[train_labels['isSTEM'] == 0].index.unique()[:len(STEM_idx)]\n",
    "\n",
    "print('STEM examples: ', len(STEM_idx))\n",
    "print('Non STEM examples:', len(non_STEM_idx))"
   ]
  },
  {
   "cell_type": "markdown",
   "metadata": {},
   "source": [
    "## Feature engineering"
   ]
  },
  {
   "cell_type": "markdown",
   "metadata": {},
   "source": [
    "### Train input data"
   ]
  },
  {
   "cell_type": "markdown",
   "metadata": {},
   "source": [
    "In order to use an RNN (LSTM), we need to create sequences of actions. A sequence is a matrix in which each row is an action taken by a student that follows a chronological order. An action is a row in the provided dataset (see above). In summary, we produce a Tensor (a 3D array) with the following dimensions:\n",
    "\n",
    "* First: All the students actions\n",
    "* Second: A list of actions for a specific student\n",
    "* Third: A specific action (which in turn is a vector of metrics (see above))\n",
    "\n",
    "The output that interests us is the last output of the sequence. Which is the output consisting of the last action of a specific student taking into account all previous actions of that student. This output will represent if the student will choose a STEM career or not.\n",
    "\n",
    "**A problem that we will encounter and will need to solve is that sequences have dynamic lengths**. Because Tensors need to be of fixed predefined size. Meaning that not all students have done the same number of actions while learning.\n",
    "\n",
    "A possible solution could be to use *padding*. Padding means normalizing the size of all sequences (to the maximum of all sequences size) and add 0 vectors for sequences that are smaller than the maximum size."
   ]
  },
  {
   "cell_type": "code",
   "execution_count": 6,
   "metadata": {},
   "outputs": [],
   "source": [
    "# Creation of the input tensor\n",
    "train_input = []\n",
    "\n",
    "for idx in STEM_idx:\n",
    "    specific_student_actions = student_train_logs[student_train_logs['ITEST_id'] == idx]\n",
    "    student_actions = []\n",
    "    \n",
    "    for action_idx, action in specific_student_actions.iterrows():\n",
    "        student_actions.append(np.array(action))\n",
    "    \n",
    "    train_input.append(np.array(student_actions))\n",
    "\n",
    "for idx in non_STEM_idx:\n",
    "    specific_student_actions = student_train_logs[student_train_logs['ITEST_id'] == idx]\n",
    "    student_actions = []\n",
    "    \n",
    "    for action_idx, action in specific_student_actions.iterrows():\n",
    "        student_actions.append(np.array(action))\n",
    "    \n",
    "    train_input.append(np.array(student_actions))"
   ]
  },
  {
   "cell_type": "code",
   "execution_count": 7,
   "metadata": {},
   "outputs": [
    {
     "data": {
      "text/plain": [
       "234"
      ]
     },
     "execution_count": 7,
     "metadata": {},
     "output_type": "execute_result"
    }
   ],
   "source": [
    "len(train_input)"
   ]
  },
  {
   "cell_type": "markdown",
   "metadata": {},
   "source": [
    "For example, first student has taken 504 actions while the second student has taken 129 actions.\n",
    "\n",
    "We retrieve the biggest sequence and increase the size of all other sequences to be equal to the maximum with 0 vectors"
   ]
  },
  {
   "cell_type": "code",
   "execution_count": 8,
   "metadata": {},
   "outputs": [
    {
     "data": {
      "text/plain": [
       "1863"
      ]
     },
     "execution_count": 8,
     "metadata": {},
     "output_type": "execute_result"
    }
   ],
   "source": [
    "max_sequence_size = 0\n",
    "for i in range(len(train_input)):\n",
    "    max_sequence_size = max(max_sequence_size, len(train_input[i]))\n",
    "max_sequence_size"
   ]
  },
  {
   "cell_type": "code",
   "execution_count": 9,
   "metadata": {},
   "outputs": [],
   "source": [
    "train_input_padd = []\n",
    "n_features = len(train_input[0][0])\n",
    "\n",
    "for i in range(len(train_input)):\n",
    "    n = len(train_input[i])\n",
    "    rem = max_sequence_size - n\n",
    "\n",
    "    z = np.zeros((rem, n_features), dtype=train_input[i].dtype)\n",
    "    train_input_padd.append(np.concatenate((train_input[i], z)))"
   ]
  },
  {
   "cell_type": "code",
   "execution_count": 10,
   "metadata": {},
   "outputs": [
    {
     "data": {
      "text/plain": [
       "(1863, 65)"
      ]
     },
     "execution_count": 10,
     "metadata": {},
     "output_type": "execute_result"
    }
   ],
   "source": [
    "train_input_padd[0].shape"
   ]
  },
  {
   "cell_type": "code",
   "execution_count": 11,
   "metadata": {},
   "outputs": [],
   "source": [
    "from random import shuffle\n",
    "shuffle(train_input_padd)"
   ]
  },
  {
   "cell_type": "markdown",
   "metadata": {},
   "source": [
    "### Train output data"
   ]
  },
  {
   "cell_type": "markdown",
   "metadata": {},
   "source": [
    "The training output is a list of one-hot vectors of size 2 (one for each student). If the value of index 0 is 1, then it is non-STEM, if value at index 1 is 1, then it is STEM."
   ]
  },
  {
   "cell_type": "code",
   "execution_count": 12,
   "metadata": {},
   "outputs": [],
   "source": [
    "train_output = []\n",
    "\n",
    "for seq in train_input_padd:\n",
    "    idx = int(seq[0][0])\n",
    "    temp_arr = ([0] * 2)\n",
    "    \n",
    "    if train_labels.loc[idx]['isSTEM'] == 1:\n",
    "        temp_arr[1] = 1\n",
    "    else:\n",
    "        temp_arr[0] = 1\n",
    "\n",
    "    train_output.append(temp_arr)"
   ]
  },
  {
   "cell_type": "code",
   "execution_count": 13,
   "metadata": {},
   "outputs": [
    {
     "data": {
      "text/plain": [
       "[[0, 1],\n",
       " [0, 1],\n",
       " [1, 0],\n",
       " [0, 1],\n",
       " [0, 1],\n",
       " [1, 0],\n",
       " [1, 0],\n",
       " [1, 0],\n",
       " [0, 1],\n",
       " [1, 0],\n",
       " [0, 1],\n",
       " [1, 0],\n",
       " [0, 1],\n",
       " [0, 1],\n",
       " [0, 1],\n",
       " [0, 1],\n",
       " [1, 0],\n",
       " [1, 0],\n",
       " [0, 1],\n",
       " [1, 0],\n",
       " [1, 0],\n",
       " [1, 0],\n",
       " [0, 1],\n",
       " [0, 1],\n",
       " [0, 1],\n",
       " [1, 0],\n",
       " [1, 0],\n",
       " [0, 1],\n",
       " [0, 1],\n",
       " [0, 1],\n",
       " [1, 0],\n",
       " [1, 0],\n",
       " [1, 0],\n",
       " [1, 0],\n",
       " [1, 0],\n",
       " [1, 0],\n",
       " [1, 0],\n",
       " [0, 1],\n",
       " [0, 1],\n",
       " [0, 1],\n",
       " [1, 0],\n",
       " [0, 1],\n",
       " [0, 1],\n",
       " [1, 0],\n",
       " [0, 1],\n",
       " [1, 0],\n",
       " [1, 0],\n",
       " [1, 0],\n",
       " [0, 1],\n",
       " [0, 1],\n",
       " [0, 1],\n",
       " [0, 1],\n",
       " [0, 1],\n",
       " [0, 1],\n",
       " [1, 0],\n",
       " [0, 1],\n",
       " [0, 1],\n",
       " [0, 1],\n",
       " [0, 1],\n",
       " [0, 1],\n",
       " [1, 0],\n",
       " [1, 0],\n",
       " [0, 1],\n",
       " [1, 0],\n",
       " [0, 1],\n",
       " [0, 1],\n",
       " [1, 0],\n",
       " [1, 0],\n",
       " [0, 1],\n",
       " [0, 1],\n",
       " [1, 0],\n",
       " [1, 0],\n",
       " [1, 0],\n",
       " [1, 0],\n",
       " [0, 1],\n",
       " [1, 0],\n",
       " [0, 1],\n",
       " [0, 1],\n",
       " [1, 0],\n",
       " [0, 1],\n",
       " [0, 1],\n",
       " [1, 0],\n",
       " [1, 0],\n",
       " [1, 0],\n",
       " [1, 0],\n",
       " [0, 1],\n",
       " [1, 0],\n",
       " [1, 0],\n",
       " [0, 1],\n",
       " [1, 0],\n",
       " [0, 1],\n",
       " [1, 0],\n",
       " [1, 0],\n",
       " [0, 1],\n",
       " [1, 0],\n",
       " [0, 1],\n",
       " [0, 1],\n",
       " [0, 1],\n",
       " [0, 1],\n",
       " [0, 1],\n",
       " [0, 1],\n",
       " [1, 0],\n",
       " [0, 1],\n",
       " [1, 0],\n",
       " [1, 0],\n",
       " [1, 0],\n",
       " [0, 1],\n",
       " [1, 0],\n",
       " [0, 1],\n",
       " [0, 1],\n",
       " [0, 1],\n",
       " [0, 1],\n",
       " [1, 0],\n",
       " [0, 1],\n",
       " [0, 1],\n",
       " [1, 0],\n",
       " [1, 0],\n",
       " [1, 0],\n",
       " [0, 1],\n",
       " [0, 1],\n",
       " [1, 0],\n",
       " [1, 0],\n",
       " [1, 0],\n",
       " [1, 0],\n",
       " [0, 1],\n",
       " [0, 1],\n",
       " [1, 0],\n",
       " [0, 1],\n",
       " [1, 0],\n",
       " [0, 1],\n",
       " [0, 1],\n",
       " [0, 1],\n",
       " [1, 0],\n",
       " [0, 1],\n",
       " [1, 0],\n",
       " [1, 0],\n",
       " [1, 0],\n",
       " [0, 1],\n",
       " [1, 0],\n",
       " [1, 0],\n",
       " [0, 1],\n",
       " [1, 0],\n",
       " [0, 1],\n",
       " [0, 1],\n",
       " [0, 1],\n",
       " [0, 1],\n",
       " [0, 1],\n",
       " [0, 1],\n",
       " [0, 1],\n",
       " [0, 1],\n",
       " [1, 0],\n",
       " [1, 0],\n",
       " [1, 0],\n",
       " [1, 0],\n",
       " [0, 1],\n",
       " [1, 0],\n",
       " [1, 0],\n",
       " [1, 0],\n",
       " [1, 0],\n",
       " [1, 0],\n",
       " [1, 0],\n",
       " [1, 0],\n",
       " [0, 1],\n",
       " [1, 0],\n",
       " [1, 0],\n",
       " [0, 1],\n",
       " [0, 1],\n",
       " [0, 1],\n",
       " [0, 1],\n",
       " [0, 1],\n",
       " [1, 0],\n",
       " [1, 0],\n",
       " [1, 0],\n",
       " [1, 0],\n",
       " [1, 0],\n",
       " [0, 1],\n",
       " [1, 0],\n",
       " [1, 0],\n",
       " [0, 1],\n",
       " [0, 1],\n",
       " [0, 1],\n",
       " [1, 0],\n",
       " [1, 0],\n",
       " [0, 1],\n",
       " [1, 0],\n",
       " [0, 1],\n",
       " [1, 0],\n",
       " [1, 0],\n",
       " [0, 1],\n",
       " [1, 0],\n",
       " [0, 1],\n",
       " [1, 0],\n",
       " [1, 0],\n",
       " [1, 0],\n",
       " [0, 1],\n",
       " [1, 0],\n",
       " [1, 0],\n",
       " [0, 1],\n",
       " [1, 0],\n",
       " [0, 1],\n",
       " [0, 1],\n",
       " [0, 1],\n",
       " [1, 0],\n",
       " [1, 0],\n",
       " [1, 0],\n",
       " [0, 1],\n",
       " [0, 1],\n",
       " [1, 0],\n",
       " [1, 0],\n",
       " [1, 0],\n",
       " [1, 0],\n",
       " [0, 1],\n",
       " [1, 0],\n",
       " [0, 1],\n",
       " [1, 0],\n",
       " [0, 1],\n",
       " [1, 0],\n",
       " [1, 0],\n",
       " [0, 1],\n",
       " [1, 0],\n",
       " [0, 1],\n",
       " [0, 1],\n",
       " [0, 1],\n",
       " [0, 1],\n",
       " [1, 0],\n",
       " [0, 1],\n",
       " [1, 0],\n",
       " [1, 0],\n",
       " [0, 1],\n",
       " [0, 1],\n",
       " [0, 1],\n",
       " [0, 1],\n",
       " [1, 0],\n",
       " [0, 1]]"
      ]
     },
     "execution_count": 13,
     "metadata": {},
     "output_type": "execute_result"
    }
   ],
   "source": [
    "train_output"
   ]
  },
  {
   "cell_type": "code",
   "execution_count": 14,
   "metadata": {},
   "outputs": [
    {
     "data": {
      "text/plain": [
       "array([117, 117])"
      ]
     },
     "execution_count": 14,
     "metadata": {},
     "output_type": "execute_result"
    }
   ],
   "source": [
    "np.sum(train_output, axis=0)"
   ]
  },
  {
   "cell_type": "markdown",
   "metadata": {},
   "source": [
    "### Test data"
   ]
  },
  {
   "cell_type": "markdown",
   "metadata": {},
   "source": [
    "We will split the training data into two sets, one for training and the other for testing. We will randomly take 10% of the data for testing and use the rest as training data. Ultimately we will train with everything before predicting.\n",
    "\n",
    "**TODO** Améliorer ça et utiliser kFold cross validation (stratified), parce qu'on a relativement peu de données"
   ]
  },
  {
   "cell_type": "code",
   "execution_count": 15,
   "metadata": {},
   "outputs": [
    {
     "name": "stdout",
     "output_type": "stream",
     "text": [
      "24\n"
     ]
    }
   ],
   "source": [
    "NUM_TEST = int(np.ceil(len(train_input_padd) * 0.1))\n",
    "print(NUM_TEST)\n",
    "X_train = train_input_padd[NUM_TEST:]\n",
    "y_train = train_output[NUM_TEST:]\n",
    "X_test = train_input_padd[:NUM_TEST]\n",
    "y_test = train_output[:NUM_TEST]"
   ]
  },
  {
   "cell_type": "code",
   "execution_count": 16,
   "metadata": {},
   "outputs": [
    {
     "name": "stdout",
     "output_type": "stream",
     "text": [
      "Number of students for training: 210\n",
      "Number of students for testing: 24\n"
     ]
    }
   ],
   "source": [
    "print('Number of students for training:', len(X_train))\n",
    "print('Number of students for testing:', len(X_test))"
   ]
  },
  {
   "cell_type": "markdown",
   "metadata": {},
   "source": [
    "## Neural network implementation"
   ]
  },
  {
   "cell_type": "markdown",
   "metadata": {},
   "source": [
    "Here we fist create placeholders to hold our data. The dimensions for data are [Batch Size, Sequence Length, Input Dimension]. Here our values are:\n",
    "\n",
    "* Batch size: to be defined at runtime\n",
    "* Sequence length: Different for each student\n",
    "* Input Dimension: Known (number of features of the data)"
   ]
  },
  {
   "cell_type": "code",
   "execution_count": 17,
   "metadata": {},
   "outputs": [],
   "source": [
    "def lazy_property(function):\n",
    "    attribute = '_' + function.__name__\n",
    "\n",
    "    @property\n",
    "    @functools.wraps(function)\n",
    "    def wrapper(self):\n",
    "        if not hasattr(self, attribute):\n",
    "            setattr(self, attribute, function(self))\n",
    "        return getattr(self, attribute)\n",
    "    return wrapper\n",
    "\n",
    "\n",
    "class VariableSequenceClassification:\n",
    "\n",
    "    def __init__(self, data, target, num_hidden=200, num_layers=2):\n",
    "        self.data = data\n",
    "        self.target = target\n",
    "        self._num_hidden = num_hidden\n",
    "        self._num_layers = num_layers\n",
    "        self.prediction\n",
    "        self.error\n",
    "        self.optimize\n",
    "\n",
    "    @lazy_property\n",
    "    def length(self):\n",
    "        used = tf.sign(tf.reduce_max(tf.abs(self.data), reduction_indices=2))\n",
    "        length = tf.reduce_sum(used, reduction_indices=1)\n",
    "        length = tf.cast(length, tf.int32)\n",
    "        return length\n",
    "\n",
    "    @lazy_property\n",
    "    def prediction(self):\n",
    "        # Recurrent network.\n",
    "        output, _ = tf.nn.dynamic_rnn(\n",
    "            tf.nn.rnn_cell.LSTMCell(self._num_hidden),\n",
    "            data,\n",
    "            dtype=tf.float32,\n",
    "            sequence_length=self.length,\n",
    "        )\n",
    "        last = self._last_relevant(output, self.length)\n",
    "        # Softmax layer.\n",
    "        weight, bias = self._weight_and_bias(\n",
    "            self._num_hidden, int(self.target.get_shape()[1]))\n",
    "        prediction = tf.nn.softmax(tf.matmul(last, weight) + bias)\n",
    "        return prediction\n",
    "\n",
    "    @lazy_property\n",
    "    def cost(self):\n",
    "        cross_entropy = -tf.reduce_sum(self.target * tf.log(self.prediction))\n",
    "        return cross_entropy\n",
    "\n",
    "    @lazy_property\n",
    "    def optimize(self):\n",
    "        learning_rate = 0.003\n",
    "        optimizer = tf.train.AdamOptimizer(learning_rate)\n",
    "        return optimizer.minimize(self.cost)\n",
    "\n",
    "    @lazy_property\n",
    "    def error(self):\n",
    "        mistakes = tf.not_equal(\n",
    "            tf.argmax(self.target, 1), tf.argmax(self.prediction, 1))\n",
    "        return tf.reduce_mean(tf.cast(mistakes, tf.float32))\n",
    "\n",
    "    @staticmethod\n",
    "    def _weight_and_bias(in_size, out_size):\n",
    "        weight = tf.truncated_normal([in_size, out_size], stddev=0.01)\n",
    "        bias = tf.constant(0.1, shape=[out_size])\n",
    "        return tf.Variable(weight), tf.Variable(bias)\n",
    "\n",
    "    @staticmethod\n",
    "    def _last_relevant(output, length):\n",
    "        batch_size = tf.shape(output)[0]\n",
    "        max_length = int(output.get_shape()[1])\n",
    "        output_size = int(output.get_shape()[2])\n",
    "        index = tf.range(0, batch_size) * max_length + (length - 1)\n",
    "        flat = tf.reshape(output, [-1, output_size])\n",
    "        relevant = tf.gather(flat, index)\n",
    "        return relevant"
   ]
  },
  {
   "cell_type": "markdown",
   "metadata": {},
   "source": [
    "## Flow execution"
   ]
  },
  {
   "cell_type": "markdown",
   "metadata": {},
   "source": [
    "We execute the flow execution graph defined before with our data"
   ]
  },
  {
   "cell_type": "code",
   "execution_count": 18,
   "metadata": {},
   "outputs": [
    {
     "data": {
      "text/plain": [
       "[[0, 1],\n",
       " [0, 1],\n",
       " [1, 0],\n",
       " [0, 1],\n",
       " [0, 1],\n",
       " [1, 0],\n",
       " [1, 0],\n",
       " [1, 0],\n",
       " [0, 1],\n",
       " [1, 0],\n",
       " [0, 1],\n",
       " [1, 0],\n",
       " [0, 1],\n",
       " [0, 1],\n",
       " [0, 1],\n",
       " [0, 1],\n",
       " [1, 0],\n",
       " [1, 0],\n",
       " [0, 1],\n",
       " [1, 0],\n",
       " [1, 0],\n",
       " [1, 0],\n",
       " [0, 1],\n",
       " [0, 1]]"
      ]
     },
     "execution_count": 18,
     "metadata": {},
     "output_type": "execute_result"
    }
   ],
   "source": [
    "y_test"
   ]
  },
  {
   "cell_type": "code",
   "execution_count": 19,
   "metadata": {},
   "outputs": [
    {
     "name": "stderr",
     "output_type": "stream",
     "text": [
      "/home/dario/anaconda3/lib/python3.6/site-packages/tensorflow/python/ops/gradients_impl.py:95: UserWarning: Converting sparse IndexedSlices to a dense Tensor of unknown shape. This may consume a large amount of memory.\n",
      "  \"Converting sparse IndexedSlices to a dense Tensor of unknown shape. \"\n"
     ]
    },
    {
     "name": "stdout",
     "output_type": "stream",
     "text": [
      "Epoch  1 error 58.3%\n",
      "[[ 0.61884224  0.38115776]\n",
      " [ 0.50725293  0.49274707]\n",
      " [ 0.63659924  0.36340079]\n",
      " [ 0.61313146  0.38686851]\n",
      " [ 0.59237832  0.40762165]\n",
      " [ 0.50403124  0.49596879]\n",
      " [ 0.50708944  0.4929105 ]\n",
      " [ 0.60483438  0.39516565]\n",
      " [ 0.62057585  0.37942415]\n",
      " [ 0.48670915  0.51329082]\n",
      " [ 0.59386724  0.40613276]\n",
      " [ 0.59347314  0.40652686]\n",
      " [ 0.63674545  0.36325455]\n",
      " [ 0.60468924  0.39531073]\n",
      " [ 0.58008736  0.41991264]\n",
      " [ 0.5195145   0.48048553]\n",
      " [ 0.60265648  0.39734346]\n",
      " [ 0.60808873  0.39191124]\n",
      " [ 0.50403154  0.49596849]\n",
      " [ 0.60262519  0.39737484]\n",
      " [ 0.62036568  0.37963432]\n",
      " [ 0.52715552  0.47284445]\n",
      " [ 0.62966353  0.37033647]\n",
      " [ 0.50403124  0.49596879]]\n",
      "Epoch  2 error 50.0%\n",
      "[[ 0.53961819  0.46038184]\n",
      " [ 0.52664393  0.47335601]\n",
      " [ 0.58309859  0.41690141]\n",
      " [ 0.5294742   0.4705258 ]\n",
      " [ 0.51410526  0.4858948 ]\n",
      " [ 0.52253836  0.4774617 ]\n",
      " [ 0.44178578  0.55821425]\n",
      " [ 0.51370549  0.48629457]\n",
      " [ 0.54670769  0.45329231]\n",
      " [ 0.46166682  0.53833318]\n",
      " [ 0.49947566  0.50052434]\n",
      " [ 0.50857317  0.49142686]\n",
      " [ 0.57927483  0.42072517]\n",
      " [ 0.50425953  0.4957405 ]\n",
      " [ 0.48933443  0.51066554]\n",
      " [ 0.39786461  0.60213536]\n",
      " [ 0.51688713  0.48311284]\n",
      " [ 0.52378875  0.47621119]\n",
      " [ 0.52253902  0.47746101]\n",
      " [ 0.51688725  0.48311272]\n",
      " [ 0.57889813  0.42110181]\n",
      " [ 0.59982198  0.40017799]\n",
      " [ 0.5638473   0.43615267]\n",
      " [ 0.52253836  0.4774617 ]]\n",
      "Epoch  3 error 58.3%\n",
      "[[ 0.57535589  0.42464408]\n",
      " [ 0.52879834  0.47120163]\n",
      " [ 0.64181077  0.3581892 ]\n",
      " [ 0.56357819  0.43642181]\n",
      " [ 0.54197496  0.45802507]\n",
      " [ 0.52444613  0.47555393]\n",
      " [ 0.44799307  0.5520069 ]\n",
      " [ 0.54471368  0.45528629]\n",
      " [ 0.58899391  0.41100609]\n",
      " [ 0.43234503  0.56765491]\n",
      " [ 0.51881856  0.48118138]\n",
      " [ 0.53673989  0.46326017]\n",
      " [ 0.63581973  0.3641803 ]\n",
      " [ 0.52942443  0.47057557]\n",
      " [ 0.51130038  0.48869962]\n",
      " [ 0.36901313  0.63098687]\n",
      " [ 0.54842496  0.45157501]\n",
      " [ 0.55682421  0.44317579]\n",
      " [ 0.5244478   0.47555217]\n",
      " [ 0.54840499  0.45159507]\n",
      " [ 0.64074397  0.35925603]\n",
      " [ 0.66424429  0.33575574]\n",
      " [ 0.61259645  0.38740355]\n",
      " [ 0.52444613  0.47555393]]\n",
      "Epoch  4 error 50.0%\n",
      "[[ 0.56102848  0.43897149]\n",
      " [ 0.53193694  0.46806306]\n",
      " [ 0.64747679  0.3525233 ]\n",
      " [ 0.54392678  0.45607328]\n",
      " [ 0.51891053  0.48108947]\n",
      " [ 0.52734548  0.47265455]\n",
      " [ 0.43494779  0.56505221]\n",
      " [ 0.52408391  0.47591606]\n",
      " [ 0.57900488  0.42099506]\n",
      " [ 0.40496758  0.59503245]\n",
      " [ 0.48903534  0.51096463]\n",
      " [ 0.5123105   0.48768944]\n",
      " [ 0.63876307  0.3612369 ]\n",
      " [ 0.50303471  0.49696529]\n",
      " [ 0.48446736  0.51553273]\n",
      " [ 0.31193116  0.68806887]\n",
      " [ 0.52769107  0.4723089 ]\n",
      " [ 0.53666598  0.46333405]\n",
      " [ 0.52734792  0.47265211]\n",
      " [ 0.5276596   0.47234038]\n",
      " [ 0.65349936  0.34650066]\n",
      " [ 0.71583289  0.28416714]\n",
      " [ 0.60829604  0.39170396]\n",
      " [ 0.52734548  0.47265455]]\n",
      "Epoch  5 error 50.0%\n",
      "[[ 0.57100368  0.42899626]\n",
      " [ 0.53593081  0.46406913]\n",
      " [ 0.6696316   0.33036834]\n",
      " [ 0.54462516  0.45537475]\n",
      " [ 0.52014321  0.47985673]\n",
      " [ 0.53135186  0.46864811]\n",
      " [ 0.42944533  0.57055467]\n",
      " [ 0.52396679  0.47603321]\n",
      " [ 0.58887714  0.41112286]\n",
      " [ 0.38341042  0.61658961]\n",
      " [ 0.48471937  0.51528072]\n",
      " [ 0.51167154  0.48832849]\n",
      " [ 0.65913808  0.34086189]\n",
      " [ 0.50134087  0.49865907]\n",
      " [ 0.47824344  0.52175659]\n",
      " [ 0.28157252  0.71842748]\n",
      " [ 0.52776682  0.47223318]\n",
      " [ 0.53687209  0.46312797]\n",
      " [ 0.5313549   0.46864513]\n",
      " [ 0.52771395  0.47228605]\n",
      " [ 0.67999089  0.32000917]\n",
      " [ 0.75754261  0.2424574 ]\n",
      " [ 0.62241608  0.37758395]\n",
      " [ 0.53135186  0.46864811]]\n",
      "Epoch  6 error 45.8%\n",
      "[[ 0.57239836  0.42760164]\n",
      " [ 0.53892511  0.46107483]\n",
      " [ 0.68700308  0.31299686]\n",
      " [ 0.54256058  0.45743939]\n",
      " [ 0.51333523  0.48666471]\n",
      " [ 0.53439599  0.46560404]\n",
      " [ 0.41673678  0.58326322]\n",
      " [ 0.52182478  0.47817522]\n",
      " [ 0.59614766  0.40385234]\n",
      " [ 0.36356056  0.63643944]\n",
      " [ 0.47229049  0.52770948]\n",
      " [ 0.50078857  0.49921143]\n",
      " [ 0.6751529   0.3248471 ]\n",
      " [ 0.49155098  0.50844896]\n",
      " [ 0.47127745  0.52872252]\n",
      " [ 0.25181323  0.74818677]\n",
      " [ 0.52589262  0.47410735]\n",
      " [ 0.53435826  0.4656418 ]\n",
      " [ 0.53439939  0.46560058]\n",
      " [ 0.52582103  0.474179  ]\n",
      " [ 0.70067531  0.29932475]\n",
      " [ 0.7898773   0.21012273]\n",
      " [ 0.63276285  0.36723715]\n",
      " [ 0.53439599  0.46560404]]\n",
      "Epoch  7 error 50.0%\n",
      "[[ 0.56924784  0.43075222]\n",
      " [ 0.54178715  0.45821285]\n",
      " [ 0.69346118  0.30653879]\n",
      " [ 0.52963948  0.47036052]\n",
      " [ 0.50166917  0.49833086]\n",
      " [ 0.53727812  0.46272194]\n",
      " [ 0.39596966  0.60403037]\n",
      " [ 0.5097906   0.49020943]\n",
      " [ 0.59384131  0.40615869]\n",
      " [ 0.3446725   0.6553275 ]\n",
      " [ 0.46199834  0.53800166]\n",
      " [ 0.48312441  0.51687562]\n",
      " [ 0.68070048  0.31929955]\n",
      " [ 0.47646606  0.52353394]\n",
      " [ 0.45757934  0.54242063]\n",
      " [ 0.23129515  0.76870489]\n",
      " [ 0.51468122  0.48531875]\n",
      " [ 0.52042586  0.47957411]\n",
      " [ 0.53728175  0.46271828]\n",
      " [ 0.51461864  0.48538134]\n",
      " [ 0.68508619  0.31491378]\n",
      " [ 0.81374902  0.18625106]\n",
      " [ 0.63163871  0.36836129]\n",
      " [ 0.53727812  0.46272194]]\n",
      "Epoch  8 error 50.0%\n",
      "[[ 0.58696514  0.41303483]\n",
      " [ 0.54453862  0.45546132]\n",
      " [ 0.71838999  0.28161001]\n",
      " [ 0.53974468  0.46025532]\n",
      " [ 0.51650327  0.48349676]\n",
      " [ 0.54033262  0.45966733]\n",
      " [ 0.39803419  0.60196584]\n",
      " [ 0.52061462  0.47938538]\n",
      " [ 0.61286366  0.38713634]\n",
      " [ 0.33128348  0.66871649]\n",
      " [ 0.46821955  0.53178048]\n",
      " [ 0.48601228  0.51398766]\n",
      " [ 0.70518339  0.29481661]\n",
      " [ 0.48407227  0.51592773]\n",
      " [ 0.46360004  0.5363999 ]\n",
      " [ 0.22135547  0.77864456]\n",
      " [ 0.52595878  0.47404122]\n",
      " [ 0.53019547  0.46980453]\n",
      " [ 0.54033649  0.45966348]\n",
      " [ 0.52586854  0.47413138]\n",
      " [ 0.7094717   0.29052833]\n",
      " [ 0.8346408   0.16535923]\n",
      " [ 0.65178508  0.34821489]\n",
      " [ 0.54033262  0.45966733]]\n",
      "Epoch  9 error 50.0%\n",
      "[[ 0.5870806   0.41291937]\n",
      " [ 0.54683238  0.45316756]\n",
      " [ 0.7262159   0.27378407]\n",
      " [ 0.53091252  0.46908745]\n",
      " [ 0.50914633  0.4908537 ]\n",
      " [ 0.54284209  0.45715794]\n",
      " [ 0.38774526  0.61225474]\n",
      " [ 0.51331294  0.48668709]\n",
      " [ 0.61372852  0.38627145]\n",
      " [ 0.31839347  0.68160653]\n",
      " [ 0.45747754  0.54252243]\n",
      " [ 0.47049347  0.52950656]\n",
      " [ 0.71219039  0.28780958]\n",
      " [ 0.47365984  0.52634019]\n",
      " [ 0.45268881  0.54731113]\n",
      " [ 0.20370547  0.79629457]\n",
      " [ 0.5188933   0.48110667]\n",
      " [ 0.5212428   0.4787572 ]\n",
      " [ 0.54284602  0.45715401]\n",
      " [ 0.51877987  0.4812201 ]\n",
      " [ 0.71764719  0.28235281]\n",
      " [ 0.85067713  0.1493229 ]\n",
      " [ 0.65388143  0.34611863]\n",
      " [ 0.54284209  0.45715794]]\n",
      "Epoch 10 error 50.0%\n",
      "[[ 0.59435719  0.40564284]\n",
      " [ 0.54848254  0.45151752]\n",
      " [ 0.73849916  0.26150087]\n",
      " [ 0.52947152  0.47052845]\n",
      " [ 0.50945944  0.49054059]\n",
      " [ 0.54476935  0.45523062]\n",
      " [ 0.38119587  0.61880416]\n",
      " [ 0.51346564  0.48653433]\n",
      " [ 0.62135404  0.37864596]\n",
      " [ 0.30715919  0.69284087]\n",
      " [ 0.45467007  0.54532987]\n",
      " [ 0.4622702   0.5377298 ]\n",
      " [ 0.72417837  0.2758216 ]\n",
      " [ 0.47107017  0.52892983]\n",
      " [ 0.44934618  0.55065387]\n",
      " [ 0.19296327  0.80703676]\n",
      " [ 0.51943022  0.48056984]\n",
      " [ 0.51964319  0.48035681]\n",
      " [ 0.54477334  0.45522663]\n",
      " [ 0.51929098  0.48070899]\n",
      " [ 0.72952694  0.27047303]\n",
      " [ 0.8645224   0.13547754]\n",
      " [ 0.66194201  0.33805799]\n",
      " [ 0.54476935  0.45523062]]\n"
     ]
    }
   ],
   "source": [
    "num_classes = 2\n",
    "row_size = n_features\n",
    "batch_size = 10\n",
    "no_of_batches = int(len(X_train) / batch_size)\n",
    "\n",
    "data = tf.placeholder(tf.float32, [None, max_sequence_size, row_size])\n",
    "target = tf.placeholder(tf.float32, [None, num_classes])\n",
    "model = VariableSequenceClassification(data, target)\n",
    "sess = tf.Session()\n",
    "sess.run(tf.global_variables_initializer())\n",
    "\n",
    "for epoch in range(10):\n",
    "    ptr = 0\n",
    "    for _ in range(no_of_batches):\n",
    "        inp, out = X_train[ptr:ptr+batch_size], y_train[ptr:ptr+batch_size]\n",
    "        ptr += batch_size\n",
    "        sess.run(model.optimize, {data: inp, target: out})\n",
    "    error = sess.run(model.error, {data: X_test, target: y_test})\n",
    "    print('Epoch {:2d} error {:3.1f}%'.format(epoch + 1, 100 * error))\n",
    "    print(sess.run(model.prediction,{data: X_test}))"
   ]
  }
 ],
 "metadata": {
  "kernelspec": {
   "display_name": "Python [conda root]",
   "language": "python",
   "name": "conda-root-py"
  },
  "language_info": {
   "codemirror_mode": {
    "name": "ipython",
    "version": 3
   },
   "file_extension": ".py",
   "mimetype": "text/x-python",
   "name": "python",
   "nbconvert_exporter": "python",
   "pygments_lexer": "ipython3",
   "version": "3.6.1"
  }
 },
 "nbformat": 4,
 "nbformat_minor": 2
}
