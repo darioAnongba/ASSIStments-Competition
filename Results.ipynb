{
 "cells": [
  {
   "cell_type": "markdown",
   "metadata": {},
   "source": [
    "# ASSISTments Data Mining Competition 2017 - Results"
   ]
  },
  {
   "cell_type": "markdown",
   "metadata": {},
   "source": [
    "## Imports and constants"
   ]
  },
  {
   "cell_type": "code",
   "execution_count": null,
   "metadata": {
    "collapsed": true
   },
   "outputs": [],
   "source": [
    "import pickle\n",
    "import matplotlib.pyplot as plt\n",
    "%matplotlib inline\n",
    "plt.rcParams['figure.figsize'] = (20.0, 10.0)\n",
    "plt.rcParams.update({'font.size': 22})"
   ]
  },
  {
   "cell_type": "code",
   "execution_count": null,
   "metadata": {
    "collapsed": true
   },
   "outputs": [],
   "source": [
    "def plot(layer, dims, metric, title, ylabel):\n",
    "    f = plt.figure()\n",
    "    \n",
    "    for hidden_dim in dims:\n",
    "        name = str(hidden_dim) + '_' + str(layer)\n",
    "        pickle_results = open('Results/results_' + name + '.pickle', \"rb\")\n",
    "        results = pickle.load(pickle_results)\n",
    "        \n",
    "        plt.plot(results[metric], label=str(hidden_dim))\n",
    "        plt.legend(prop={'size':20})\n",
    "        plt.title(title + ' - ' + str(layer) + ' layers', fontsize=35)\n",
    "        plt.xlabel('Epochs')\n",
    "        plt.ylabel(ylabel)\n",
    "        \n",
    "    f.savefig('Plots/plot_' + metric + '_' + str(layer) + '.pdf', bbox_inches='tight')"
   ]
  },
  {
   "cell_type": "markdown",
   "metadata": {},
   "source": [
    "## Training set\n",
    "\n",
    "We can see that with 2 or 3 layers for our multilayer RNN, the system is able to learn. The greater the hidden dimension, the greater the risks of overfitting and the faster the learning"
   ]
  },
  {
   "cell_type": "code",
   "execution_count": null,
   "metadata": {
    "scrolled": false
   },
   "outputs": [],
   "source": [
    "plot(3, [16, 20, 24, 28, 32, 40, 48], 'accs', 'Accuracy on the training set over time', 'Accuracy')"
   ]
  },
  {
   "cell_type": "code",
   "execution_count": null,
   "metadata": {},
   "outputs": [],
   "source": [
    "plot(4, [16, 20, 24, 28, 32], 'accs', 'Accuracy on the training set over time', 'Accuracy')"
   ]
  },
  {
   "cell_type": "code",
   "execution_count": null,
   "metadata": {},
   "outputs": [],
   "source": [
    "plot(3, [16, 20, 24, 28, 32], 'aucs', 'ROC AUC on the training set over time', 'ROC AUC')"
   ]
  },
  {
   "cell_type": "code",
   "execution_count": null,
   "metadata": {},
   "outputs": [],
   "source": [
    "plot(4, [16, 20, 24, 28, 32], 'aucs', 'ROC AUC on the training set over time', 'ROC AUC')"
   ]
  },
  {
   "cell_type": "markdown",
   "metadata": {},
   "source": [
    "## Validation set\n",
    "\n",
    "On the validation set, we can see the effects of the overfitting when the number of layers is too big or when the hidden dimension is.\n",
    "\n",
    "Initially, the result on accuracy is concentrated around 75% as the model initially predicts only \"0\" for all inputs. After some training, the accuracy either drops because of overfitting or due to a simplistic model, or the accuracy increases over 75%, meaning that the model is able to accurately predict."
   ]
  },
  {
   "cell_type": "code",
   "execution_count": null,
   "metadata": {},
   "outputs": [],
   "source": [
    "plot(3, [16, 20, 24, 28, 32], 'val_accs', 'Accuracy on the validation set over time', 'Accuracy')"
   ]
  },
  {
   "cell_type": "code",
   "execution_count": null,
   "metadata": {},
   "outputs": [],
   "source": [
    "plot(4, [16, 20, 24, 28, 32], 'val_accs', 'Accuracy on the validation set over time', 'Accuracy')"
   ]
  },
  {
   "cell_type": "markdown",
   "metadata": {},
   "source": [
    "We can see that for 32 hidden dimension and 3 layers, the accuracy reaches 90%"
   ]
  },
  {
   "cell_type": "code",
   "execution_count": null,
   "metadata": {},
   "outputs": [],
   "source": [
    "plot(3, [16, 20, 24, 28, 32, 40, 48], 'val_aucs', 'ROC AUC on the validation set over time', 'ROC AUC')"
   ]
  },
  {
   "cell_type": "code",
   "execution_count": null,
   "metadata": {},
   "outputs": [],
   "source": [
    "plot(4, [16, 20, 24, 28, 32], 'val_aucs', 'ROC AUC on the validation set over time', 'ROC AUC')"
   ]
  },
  {
   "cell_type": "markdown",
   "metadata": {},
   "source": [
    "If we isolate the best performing parameter: 20 hidden dim and 4 layers"
   ]
  },
  {
   "cell_type": "code",
   "execution_count": null,
   "metadata": {
    "collapsed": true
   },
   "outputs": [],
   "source": [
    "def plot_one(layer, dim, metric, ylabel):\n",
    "    f = plt.figure()\n",
    "    \n",
    "    name = str(dim) + '_' + str(layer)\n",
    "    pickle_results = open('Results/results_' + name + '.pickle', \"rb\")\n",
    "    results = pickle.load(pickle_results)\n",
    "\n",
    "    plt.plot(results[metric], label=str(dim))\n",
    "    plt.title(ylabel + ' for hidden dim ' + str(dim) + ' with ' + str(layer) + ' layers', fontsize=35)\n",
    "    plt.xlabel('Epochs')\n",
    "    plt.ylabel(ylabel)\n",
    "        \n",
    "    f.savefig('Plots/plot_' + metric + '_' + str(layer) +  '_' + str(dim) + '.pdf', bbox_inches='tight')"
   ]
  },
  {
   "cell_type": "code",
   "execution_count": null,
   "metadata": {},
   "outputs": [],
   "source": [
    "plot_one(4, 20, 'val_aucs', 'AUC ROC')"
   ]
  }
 ],
 "metadata": {
  "kernelspec": {
   "display_name": "Python 3",
   "language": "python",
   "name": "python3"
  },
  "language_info": {
   "codemirror_mode": {
    "name": "ipython",
    "version": 3
   },
   "file_extension": ".py",
   "mimetype": "text/x-python",
   "name": "python",
   "nbconvert_exporter": "python",
   "pygments_lexer": "ipython3",
   "version": "3.6.3"
  }
 },
 "nbformat": 4,
 "nbformat_minor": 2
}
