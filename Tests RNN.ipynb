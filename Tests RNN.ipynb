{
 "cells": [
  {
   "cell_type": "code",
   "execution_count": 1,
   "metadata": {
    "collapsed": true
   },
   "outputs": [],
   "source": [
    "import pickle\n",
    "import torch\n",
    "import torch.nn as nn\n",
    "import torch.optim as optim\n",
    "from torch.utils.data import Dataset, DataLoader\n",
    "from torch.utils.data.sampler import WeightedRandomSampler, Sampler\n",
    "from torch.autograd import Variable\n",
    "from torch.nn.init import xavier_normal, kaiming_normal\n",
    "import torch.nn.functional as F\n",
    "import numpy as np\n",
    "import pandas as pd\n",
    "from tqdm import tqdm, tqdm_notebook\n",
    "from sklearn.metrics import accuracy_score, roc_auc_score\n",
    "import matplotlib.pyplot as plt\n",
    "import random\n",
    "\n",
    "DATA_DIR = 'Data/'\n",
    "SEED = 42\n",
    "random.seed(SEED)\n",
    "np.random.seed(SEED)\n",
    "torch.manual_seed(SEED)\n",
    "torch.cuda.manual_seed(SEED)\n",
    "torch.cuda.manual_seed_all(SEED)"
   ]
  },
  {
   "cell_type": "code",
   "execution_count": 26,
   "metadata": {
    "collapsed": true
   },
   "outputs": [],
   "source": [
    "pickle_train = open(DATA_DIR + \"student_train_logs.pickle\",\"rb\")\n",
    "train = pickle.load(pickle_train)\n",
    "\n",
    "train[9][0].head()\n",
    "\n",
    "keep_indices = list(set(range(72)) - set([4,11,13,14,15,16,17,18,27,56]))\n",
    "\n",
    "# In[48]:\n",
    "\n",
    "validation = {k:v for k, v in random.sample(train.items(), 40)}\n",
    "train_truncated = { k : train[k] for k in set(train) - set(validation) }\n",
    "\n",
    "class TrainingSet(Dataset):\n",
    "    def __init__(self):\n",
    "        self.idx = list(train_truncated.keys())\n",
    "        self.sequences = train_truncated\n",
    "        self.weights = [0.3 if x[2] == 0 else 0.8 for x in self.sequences.values()]\n",
    "        \n",
    "    def __len__(self):\n",
    "        return len(self.sequences)\n",
    "\n",
    "    def __getitem__(self, id):\n",
    "        student_id = self.idx[id]\n",
    "        \n",
    "        actions = self.sequences[student_id][0].as_matrix().astype(np.float32)\n",
    "        fixed = self.sequences[student_id][1].as_matrix().astype(np.float32)\n",
    "        target = np.asarray([self.sequences[student_id][2]]).astype(np.float32)\n",
    "        fixed_rep = np.repeat(fixed[np.newaxis, ...], actions.shape[0], axis=0)\n",
    "        seq = np.hstack([fixed_rep, actions])\n",
    "        return student_id, seq[:,keep_indices], target\n",
    "\n",
    "class ValidationSet(Dataset):\n",
    "    def __init__(self):\n",
    "        self.idx = list(validation.keys())\n",
    "        self.sequences = validation\n",
    "        \n",
    "    def __len__(self):\n",
    "        return len(self.sequences)\n",
    "    \n",
    "    def __getitem__(self, id):\n",
    "        student_id = self.idx[id]\n",
    "        \n",
    "        actions = self.sequences[student_id][0].as_matrix().astype(np.float32)\n",
    "        fixed = self.sequences[student_id][1].as_matrix().astype(np.float32)\n",
    "        target = np.asarray([self.sequences[student_id][2]]).astype(np.float32)\n",
    "        fixed_rep = np.repeat(fixed[np.newaxis, ...], actions.shape[0], axis=0)\n",
    "        seq = np.hstack([fixed_rep, actions])\n",
    "        return student_id, seq[:,keep_indices], target\n",
    "\n",
    "\n",
    "train_dataset = TrainingSet()\n",
    "validation_set = ValidationSet()"
   ]
  },
  {
   "cell_type": "code",
   "execution_count": 45,
   "metadata": {},
   "outputs": [],
   "source": [
    "class RNN(nn.Module):\n",
    "    def __init__(self, input_dim, hidden_dim, output_dim,\n",
    "                n_layers, bi):\n",
    "        super(RNN, self).__init__()\n",
    "\n",
    "        self.hidden_dim = hidden_dim\n",
    "        self.n_layers = n_layers\n",
    "        self.bi = bi\n",
    "        self.output_dim = output_dim\n",
    "        \n",
    "        self.gru = nn.GRU(input_size=input_dim, hidden_size=hidden_dim,\n",
    "                         num_layers=n_layers, dropout=0,\n",
    "                          bidirectional=bi)\n",
    "        if bi:\n",
    "            self.decoder = nn.Linear(hidden_dim*2, output_dim)\n",
    "        else:\n",
    "            self.decoder = nn.Linear(hidden_dim, output_dim)\n",
    "\n",
    "        \n",
    "    def weights_init(self):\n",
    "        for name, param in self.named_parameters():\n",
    "            if param.dim() >= 2:\n",
    "                kaiming_normal(param)\n",
    "\n",
    "\n",
    "    def init_hidden(self, batch_size):\n",
    "        if self.bi:\n",
    "            return Variable(torch.zeros(self.n_layers*2, batch_size, self.hidden_dim)).cuda()\n",
    "        return Variable(torch.zeros(self.n_layers, batch_size, self.hidden_dim)).cuda()\n",
    "    \n",
    "    \n",
    "    def forward(self, actions):\n",
    "        batch_size = actions.size(1)\n",
    "        hidden_state = self.init_hidden(batch_size)\n",
    "        out, _ = self.gru(actions, hidden_state)\n",
    "        out = out[-1,:,:]                                                                                                         \n",
    "        out = self.decoder(out)                                                                                                   \n",
    "        out = out.view(batch_size, self.output_dim)                                                                              \n",
    "        return out\n",
    "    \n",
    "    \n",
    "    def step(self, inp, target):                                                                                                        \n",
    "        self.zero_grad()                                                                                                           \n",
    "        output = self.forward(inp)                                                                                                      \n",
    "        loss = self.criterion(output, target.float())                                                                      \n",
    "        loss.backward()                                                                                                                 \n",
    "        self.optimizer.step()\n",
    "        return loss.data[0], F.sigmoid(output)\n",
    "    \n",
    "    \n",
    "    def predict(self):\n",
    "        val_targets = []\n",
    "        val_preds = []\n",
    "        \n",
    "        for sid, seq, target in DataLoader(validation_set, batch_size=1, num_workers=8):\n",
    "            val_targets.append(target.numpy()[0,0])\n",
    "            \n",
    "            seq = Variable(seq.permute(1,0,2)).cuda()\n",
    "            out = F.sigmoid(self.forward(seq))\n",
    "            \n",
    "            pred = out.squeeze().cpu().data[0]\n",
    "            val_preds.append(pred)\n",
    "\n",
    "        return val_targets, val_preds\n",
    "    \n",
    "    def fit(self, train_dataset):\n",
    "        self.criterion = nn.BCEWithLogitsLoss()\n",
    "        self.optimizer = optim.Adamax(self.parameters(), lr=1e-3)\n",
    "        \n",
    "        sampler = WeightedRandomSampler(train_dataset.weights, num_samples=len(train_dataset))\n",
    "        loader = DataLoader(train_dataset, batch_size=1, num_workers=8, sampler=sampler)\n",
    "        #loader = DataLoader(train_dataset, batch_size=1, num_workers=8, shuffle=True)\n",
    "        e_losses = []\n",
    "        e_accs = []\n",
    "        e_aucs = []\n",
    "        e_val_accs = []\n",
    "        e_val_aucs = []\n",
    "        \n",
    "        e_bar = tqdm_notebook(range(10), leave=True)\n",
    "        for e in e_bar:\n",
    "            self.train()\n",
    "            e_loss = 0\n",
    "            preds = []\n",
    "            targets = []\n",
    "            for i, (_, seq, label) in enumerate(tqdm_notebook(loader, leave=False)):\n",
    "                seq = seq.permute(1,0,2)\n",
    "                loss, output = self.step(Variable(seq).cuda(),\n",
    "                          Variable(label).cuda())\n",
    "                e_loss += loss\n",
    "                preds.append(output.squeeze().cpu().data[0])\n",
    "                targets.append(label.numpy()[0,0])\n",
    "            preds = np.array(preds)\n",
    "            targets = np.array(targets)\n",
    "            auc = roc_auc_score(targets, preds)\n",
    "            preds[preds >= 0.5] = 1\n",
    "            preds[preds < 0.5] = 0\n",
    "            \n",
    "            acc = accuracy_score(preds, targets)\n",
    "            e_losses.append(e_loss / (i+1))\n",
    "            e_accs.append(acc)\n",
    "            e_aucs.append(auc)\n",
    "            \n",
    "            y_true, y_preds = model.predict()\n",
    "            e_val_accs.append(accuracy_score(y_true, [1 if x > 0.5 else 0 for x in y_preds]))\n",
    "            e_val_aucs.append(roc_auc_score(y_true, y_preds))\n",
    "            e_bar.set_postfix(acc=acc, e_loss=e_losses[-1], auc=auc, val_acc=e_val_accs[-1], val_auc=e_val_aucs[-1])\n",
    "            \n",
    "            \n",
    "        return e_losses, e_accs, e_aucs, e_val_accs, e_val_aucs"
   ]
  },
  {
   "cell_type": "code",
   "execution_count": 47,
   "metadata": {},
   "outputs": [
    {
     "data": {
      "text/plain": [
       "RNN(\n",
       "  (gru): GRU(62, 256, num_layers=4)\n",
       "  (decoder): Linear(in_features=256, out_features=1)\n",
       ")"
      ]
     },
     "execution_count": 47,
     "metadata": {},
     "output_type": "execute_result"
    }
   ],
   "source": [
    "model = RNN(input_dim=len(keep_indices), hidden_dim=256, output_dim=1, n_layers=4, bi=False)\n",
    "#model.weights_init()\n",
    "model.cuda()"
   ]
  },
  {
   "cell_type": "code",
   "execution_count": 48,
   "metadata": {},
   "outputs": [
    {
     "data": {
      "application/vnd.jupyter.widget-view+json": {
       "model_id": "dbcdd65b85b548d1aa3f0700a68dbb7b",
       "version_major": 2,
       "version_minor": 0
      },
      "text/plain": [
       "A Jupyter Widget"
      ]
     },
     "metadata": {},
     "output_type": "display_data"
    },
    {
     "data": {
      "application/vnd.jupyter.widget-view+json": {
       "model_id": "8be2a62b50104089898a6b4407c9bbb6",
       "version_major": 2,
       "version_minor": 0
      },
      "text/plain": [
       "A Jupyter Widget"
      ]
     },
     "metadata": {},
     "output_type": "display_data"
    },
    {
     "data": {
      "application/vnd.jupyter.widget-view+json": {
       "model_id": "2ef2405044da4c1980855891cc466b97",
       "version_major": 2,
       "version_minor": 0
      },
      "text/plain": [
       "A Jupyter Widget"
      ]
     },
     "metadata": {},
     "output_type": "display_data"
    },
    {
     "data": {
      "application/vnd.jupyter.widget-view+json": {
       "model_id": "12b79f4db5ad45fb8b97a22bf783dd4e",
       "version_major": 2,
       "version_minor": 0
      },
      "text/plain": [
       "A Jupyter Widget"
      ]
     },
     "metadata": {},
     "output_type": "display_data"
    },
    {
     "data": {
      "application/vnd.jupyter.widget-view+json": {
       "model_id": "3fc1216f495745d2b9c97adf6b5b1008",
       "version_major": 2,
       "version_minor": 0
      },
      "text/plain": [
       "A Jupyter Widget"
      ]
     },
     "metadata": {},
     "output_type": "display_data"
    },
    {
     "data": {
      "application/vnd.jupyter.widget-view+json": {
       "model_id": "b958c12e1e4649b6a7ccbd8ef3e2389a",
       "version_major": 2,
       "version_minor": 0
      },
      "text/plain": [
       "A Jupyter Widget"
      ]
     },
     "metadata": {},
     "output_type": "display_data"
    },
    {
     "data": {
      "application/vnd.jupyter.widget-view+json": {
       "model_id": "24240efcf72c4cb98183ce60f5b17362",
       "version_major": 2,
       "version_minor": 0
      },
      "text/plain": [
       "A Jupyter Widget"
      ]
     },
     "metadata": {},
     "output_type": "display_data"
    },
    {
     "data": {
      "application/vnd.jupyter.widget-view+json": {
       "model_id": "61734886624549789bdcfa513fd6c280",
       "version_major": 2,
       "version_minor": 0
      },
      "text/plain": [
       "A Jupyter Widget"
      ]
     },
     "metadata": {},
     "output_type": "display_data"
    },
    {
     "data": {
      "application/vnd.jupyter.widget-view+json": {
       "model_id": "aad5da175a9740c1aee64d4debb05dbf",
       "version_major": 2,
       "version_minor": 0
      },
      "text/plain": [
       "A Jupyter Widget"
      ]
     },
     "metadata": {},
     "output_type": "display_data"
    },
    {
     "data": {
      "application/vnd.jupyter.widget-view+json": {
       "model_id": "2cdadc4309284989b0dfb070a2d0eb0e",
       "version_major": 2,
       "version_minor": 0
      },
      "text/plain": [
       "A Jupyter Widget"
      ]
     },
     "metadata": {},
     "output_type": "display_data"
    },
    {
     "data": {
      "application/vnd.jupyter.widget-view+json": {
       "model_id": "c3817841ccfd4c32afa1943e5a42b123",
       "version_major": 2,
       "version_minor": 0
      },
      "text/plain": [
       "A Jupyter Widget"
      ]
     },
     "metadata": {},
     "output_type": "display_data"
    },
    {
     "name": "stdout",
     "output_type": "stream",
     "text": [
      "\n"
     ]
    }
   ],
   "source": [
    "e_losses, e_accs, e_aucs, e_val_accs, e_val_aucs = model.fit(train_dataset)"
   ]
  },
  {
   "cell_type": "code",
   "execution_count": 38,
   "metadata": {},
   "outputs": [
    {
     "data": {
      "image/png": "[encoded data removed]",
      "text/plain": [
       "<matplotlib.figure.Figure at 0x7f7c22f91da0>"
      ]
     },
     "metadata": {},
     "output_type": "display_data"
    }
   ],
   "source": [
    "plt.plot(e_losses)\n",
    "plt.plot(e_accs)\n",
    "plt.plot(e_aucs)\n",
    "plt.show()"
   ]
  },
  {
   "cell_type": "code",
   "execution_count": 39,
   "metadata": {},
   "outputs": [
    {
     "data": {
      "image/png": "[encoded data removed]",
      "text/plain": [
       "<matplotlib.figure.Figure at 0x7f7c22dd9860>"
      ]
     },
     "metadata": {},
     "output_type": "display_data"
    }
   ],
   "source": [
    "plt.plot(e_val_accs)\n",
    "plt.plot(e_val_aucs)\n",
    "plt.show()"
   ]
  },
  {
   "cell_type": "code",
   "execution_count": 42,
   "metadata": {},
   "outputs": [
    {
     "name": "stdout",
     "output_type": "stream",
     "text": [
      "0.0 --> 0.0009583489154465497\n",
      "0.0 --> 0.0016256804810836911\n",
      "0.0 --> 0.003625566139817238\n",
      "0.0 --> 0.0009572419221512973\n",
      "0.0 --> 0.3495313227176666\n",
      "0.0 --> 0.0021771041210740805\n",
      "1.0 --> 0.030760562047362328\n",
      "0.0 --> 0.00934471096843481\n",
      "1.0 --> 0.41292908787727356\n",
      "0.0 --> 0.019939664751291275\n",
      "1.0 --> 0.024305054917931557\n",
      "0.0 --> 0.0156480111181736\n",
      "1.0 --> 0.10565850138664246\n",
      "0.0 --> 0.9042503237724304\n",
      "0.0 --> 0.34456202387809753\n",
      "0.0 --> 0.04983443021774292\n",
      "0.0 --> 0.040229398757219315\n",
      "0.0 --> 0.000972038134932518\n",
      "0.0 --> 0.00930206011980772\n",
      "0.0 --> 0.0005747957620769739\n",
      "0.0 --> 0.14207826554775238\n",
      "1.0 --> 0.001819773344323039\n",
      "0.0 --> 0.0030417500529438257\n",
      "0.0 --> 0.0011276127770543098\n",
      "0.0 --> 0.03266138955950737\n",
      "0.0 --> 0.005339385475963354\n",
      "1.0 --> 0.0016926948446780443\n",
      "1.0 --> 0.000923766172491014\n",
      "0.0 --> 0.059649672359228134\n",
      "1.0 --> 0.0015776694053784013\n",
      "0.0 --> 0.001106748473830521\n",
      "1.0 --> 0.6984021067619324\n",
      "0.0 --> 0.6438707709312439\n",
      "0.0 --> 0.00044519465882331133\n",
      "0.0 --> 0.001103098620660603\n",
      "0.0 --> 0.006872202269732952\n",
      "0.0 --> 0.0004857881576754153\n",
      "0.0 --> 0.0031893234699964523\n",
      "0.0 --> 0.006978253368288279\n",
      "0.0 --> 0.002105661202222109\n"
     ]
    }
   ],
   "source": [
    "y_true, y_preds = model.predict()\n",
    "for i in range(len(y_true)):\n",
    "    print(y_true[i], y_preds[i], sep=' --> ')"
   ]
  }
 ],
 "metadata": {
  "kernelspec": {
   "display_name": "Python 3",
   "language": "python",
   "name": "python3"
  },
  "language_info": {
   "codemirror_mode": {
    "name": "ipython",
    "version": 3
   },
   "file_extension": ".py",
   "mimetype": "text/x-python",
   "name": "python",
   "nbconvert_exporter": "python",
   "pygments_lexer": "ipython3",
   "version": "3.6.3"
  }
 },
 "nbformat": 4,
 "nbformat_minor": 2
}
